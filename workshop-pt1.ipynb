{
 "cells": [
  {
   "cell_type": "code",
   "execution_count": 86,
   "id": "1ecab291-20be-42a5-a7e6-a66c623b4563",
   "metadata": {
    "execution": {
     "iopub.execute_input": "2023-12-16T11:12:41.069447Z",
     "iopub.status.busy": "2023-12-16T11:12:41.069211Z",
     "iopub.status.idle": "2023-12-16T11:12:41.150223Z",
     "shell.execute_reply": "2023-12-16T11:12:41.149795Z",
     "shell.execute_reply.started": "2023-12-16T11:12:41.069433Z"
    }
   },
   "outputs": [],
   "source": [
    "import torch\n",
    "import os\n",
    "from dotenv import load_dotenv\n",
    "from langchain.llms import OpenAI\n",
    "from langchain.schema import (\n",
    "    AIMessage,\n",
    "    HumanMessage,\n",
    "    SystemMessage\n",
    ")\n",
    "from langchain.chat_models import ChatOpenAI\n",
    "from langchain.prompts import PromptTemplate\n",
    "from langchain.chains import LLMChain, SimpleSequentialChain\n",
    "from langchain_experimental.agents.agent_toolkits import create_python_agent\n",
    "from langchain_experimental.tools.python.tool import PythonAstREPLTool\n",
    "from langchain.text_splitter import RecursiveCharacterTextSplitter\n",
    "import tiktoken\n",
    "from langchain.embeddings import OpenAIEmbeddings"
   ]
  },
  {
   "cell_type": "code",
   "execution_count": 9,
   "id": "b34ee8fc-4e2d-429a-baab-ff4b84ff0a0e",
   "metadata": {
    "execution": {
     "iopub.execute_input": "2023-12-16T10:38:31.349736Z",
     "iopub.status.busy": "2023-12-16T10:38:31.349421Z",
     "iopub.status.idle": "2023-12-16T10:38:31.352870Z",
     "shell.execute_reply": "2023-12-16T10:38:31.352456Z",
     "shell.execute_reply.started": "2023-12-16T10:38:31.349718Z"
    }
   },
   "outputs": [
    {
     "data": {
      "text/plain": [
       "'gcp-starter'"
      ]
     },
     "execution_count": 9,
     "metadata": {},
     "output_type": "execute_result"
    }
   ],
   "source": [
    "load_dotenv('./.env')\n",
    "os.environ.get('PINECONE_ENV')"
   ]
  },
  {
   "cell_type": "code",
   "execution_count": 10,
   "id": "ed6f1e82-a572-41fd-8f99-866410da3cfc",
   "metadata": {
    "execution": {
     "iopub.execute_input": "2023-12-16T10:38:32.957503Z",
     "iopub.status.busy": "2023-12-16T10:38:32.957231Z",
     "iopub.status.idle": "2023-12-16T10:38:32.961122Z",
     "shell.execute_reply": "2023-12-16T10:38:32.960753Z",
     "shell.execute_reply.started": "2023-12-16T10:38:32.957483Z"
    }
   },
   "outputs": [
    {
     "name": "stdout",
     "output_type": "stream",
     "text": [
      "GPUs available: 1\n",
      "GPU 0: NVIDIA RTX A4000\n"
     ]
    }
   ],
   "source": [
    "device = torch.device('cuda') if torch.cuda.is_available() else 'cpu'\n",
    "num_gpus = torch.cuda.device_count()\n",
    "\n",
    "if num_gpus > 0:\n",
    "    print(f\"GPUs available: {num_gpus}\")\n",
    "    for i in range(num_gpus):\n",
    "        gpu_name = torch.cuda.get_device_name(i)\n",
    "        print(f\"GPU {i}: {gpu_name}\")\n",
    "else:\n",
    "    print(\"There is no GPU available. Using CPU\")"
   ]
  },
  {
   "cell_type": "code",
   "execution_count": 4,
   "id": "5231dff9-8298-493b-b086-00a1e5c439ea",
   "metadata": {
    "execution": {
     "iopub.execute_input": "2023-12-04T10:38:41.234098Z",
     "iopub.status.busy": "2023-12-04T10:38:41.233906Z",
     "iopub.status.idle": "2023-12-04T10:38:41.265487Z",
     "shell.execute_reply": "2023-12-04T10:38:41.265078Z",
     "shell.execute_reply.started": "2023-12-04T10:38:41.234088Z"
    }
   },
   "outputs": [
    {
     "name": "stdout",
     "output_type": "stream",
     "text": [
      "\u001b[1mOpenAI\u001b[0m\n",
      "Params: {'model_name': 'text-davinci-003', 'temperature': 0.7, 'top_p': 1, 'frequency_penalty': 0, 'presence_penalty': 0, 'n': 1, 'logit_bias': {}, 'max_tokens': 512}\n"
     ]
    }
   ],
   "source": [
    "llm = OpenAI(model_name='text-davinci-003', temperature=0.7, max_tokens=512)\n",
    "print(llm)"
   ]
  },
  {
   "cell_type": "code",
   "execution_count": 5,
   "id": "4f041c22-7a9b-48a5-9170-7f35d7adb25f",
   "metadata": {
    "execution": {
     "iopub.execute_input": "2023-12-04T10:38:41.266057Z",
     "iopub.status.busy": "2023-12-04T10:38:41.265892Z",
     "iopub.status.idle": "2023-12-04T10:38:48.709818Z",
     "shell.execute_reply": "2023-12-04T10:38:48.709260Z",
     "shell.execute_reply.started": "2023-12-04T10:38:41.266047Z"
    }
   },
   "outputs": [],
   "source": [
    "output = llm('explique como funções python funcionam')"
   ]
  },
  {
   "cell_type": "code",
   "execution_count": 6,
   "id": "b8781ee7-4e7d-4d65-8b4a-76b0f050104b",
   "metadata": {
    "execution": {
     "iopub.execute_input": "2023-12-04T10:38:48.710383Z",
     "iopub.status.busy": "2023-12-04T10:38:48.710280Z",
     "iopub.status.idle": "2023-12-04T10:38:48.712777Z",
     "shell.execute_reply": "2023-12-04T10:38:48.712519Z",
     "shell.execute_reply.started": "2023-12-04T10:38:48.710371Z"
    }
   },
   "outputs": [
    {
     "name": "stdout",
     "output_type": "stream",
     "text": [
      "\n",
      "\n",
      "Em Python, uma função é um bloco de código que pode ser reutilizado para executar uma tarefa específica. Uma função começa com a palavra-chave def seguida de um nome de função e parênteses. Dentro dos parênteses, você pode fornecer argumentos ou parâmetros que a função usa quando é chamada.\n",
      "\n",
      "Em seguida, a função contém um bloco de código que é executado quando a função é chamada. Esse bloco de código pode incluir qualquer coisa, desde instruções simples até instruções mais complexas. Por fim, a função retorna um resultado, que pode ser qualquer tipo de valor, desde um número até um objeto.\n",
      "\n",
      "Essencialmente, uma função é uma maneira de encapsular um conjunto de instruções para que elas possam ser reutilizadas várias vezes. Isso significa que você pode escrever um código uma vez e chamá-lo várias vezes sem ter que digitar o código novamente.\n"
     ]
    }
   ],
   "source": [
    "print(output)"
   ]
  },
  {
   "cell_type": "code",
   "execution_count": 7,
   "id": "0a69b214-2bbb-4d23-8758-493153ef5fb6",
   "metadata": {
    "execution": {
     "iopub.execute_input": "2023-12-04T10:40:26.491614Z",
     "iopub.status.busy": "2023-12-04T10:40:26.491425Z",
     "iopub.status.idle": "2023-12-04T10:40:28.437976Z",
     "shell.execute_reply": "2023-12-04T10:40:28.437412Z",
     "shell.execute_reply.started": "2023-12-04T10:40:26.491604Z"
    }
   },
   "outputs": [],
   "source": [
    "output = llm.generate([\n",
    "    '...é a capital do Brasil',\n",
    "    'qual é a formula da área de um círculo?'\n",
    "])"
   ]
  },
  {
   "cell_type": "code",
   "execution_count": 8,
   "id": "def8897b-792d-447b-b54a-f5aefb74d055",
   "metadata": {
    "execution": {
     "iopub.execute_input": "2023-12-04T10:40:28.438734Z",
     "iopub.status.busy": "2023-12-04T10:40:28.438594Z",
     "iopub.status.idle": "2023-12-04T10:40:28.441132Z",
     "shell.execute_reply": "2023-12-04T10:40:28.440869Z",
     "shell.execute_reply.started": "2023-12-04T10:40:28.438725Z"
    }
   },
   "outputs": [
    {
     "name": "stdout",
     "output_type": "stream",
     "text": [
      "generations=[[Generation(text='?\\n\\nBrasília é a capital do Brasil.', generation_info={'finish_reason': 'stop', 'logprobs': None})], [Generation(text='\\n\\nA área de um círculo é calculada usando a seguinte formula: A = π * r², onde A é a área e r é o raio do círculo.', generation_info={'finish_reason': 'stop', 'logprobs': None})]] llm_output={'token_usage': {'total_tokens': 91, 'prompt_tokens': 23, 'completion_tokens': 68}, 'model_name': 'text-davinci-003'} run=[RunInfo(run_id=UUID('0fb39415-29c5-48ff-8591-b5e94dc3330c')), RunInfo(run_id=UUID('1c9e54ea-cc01-4776-9e64-f64d3e167adc'))]\n"
     ]
    }
   ],
   "source": [
    "print(output)"
   ]
  },
  {
   "cell_type": "code",
   "execution_count": 11,
   "id": "bf5d0068-4f7d-4263-af99-4b42f48c848e",
   "metadata": {
    "execution": {
     "iopub.execute_input": "2023-12-04T10:41:35.304938Z",
     "iopub.status.busy": "2023-12-04T10:41:35.304747Z",
     "iopub.status.idle": "2023-12-04T10:41:35.307149Z",
     "shell.execute_reply": "2023-12-04T10:41:35.306789Z",
     "shell.execute_reply.started": "2023-12-04T10:41:35.304927Z"
    }
   },
   "outputs": [
    {
     "name": "stdout",
     "output_type": "stream",
     "text": [
      "\n",
      "\n",
      "A área de um círculo é calculada usando a seguinte formula: A = π * r², onde A é a área e r é o raio do círculo.\n"
     ]
    }
   ],
   "source": [
    "print(output.generations[1][0].text)"
   ]
  },
  {
   "cell_type": "code",
   "execution_count": 14,
   "id": "97ee6f75-d9df-4015-98ac-712ff3cd8ede",
   "metadata": {
    "execution": {
     "iopub.execute_input": "2023-12-04T10:44:18.837406Z",
     "iopub.status.busy": "2023-12-04T10:44:18.837215Z",
     "iopub.status.idle": "2023-12-04T10:44:19.870737Z",
     "shell.execute_reply": "2023-12-04T10:44:19.870120Z",
     "shell.execute_reply.started": "2023-12-04T10:44:18.837396Z"
    }
   },
   "outputs": [],
   "source": [
    "output = llm.generate(['escreva um slogan original para um restaurante acreano que venda Rabada no Tucupí'] * 3)"
   ]
  },
  {
   "cell_type": "code",
   "execution_count": 15,
   "id": "35fe342b-a2b4-419b-a0dc-9bbe27c3db22",
   "metadata": {
    "execution": {
     "iopub.execute_input": "2023-12-04T10:44:19.871441Z",
     "iopub.status.busy": "2023-12-04T10:44:19.871336Z",
     "iopub.status.idle": "2023-12-04T10:44:19.873789Z",
     "shell.execute_reply": "2023-12-04T10:44:19.873524Z",
     "shell.execute_reply.started": "2023-12-04T10:44:19.871431Z"
    }
   },
   "outputs": [
    {
     "name": "stdout",
     "output_type": "stream",
     "text": [
      "\n",
      "\n",
      "\"Saboreie o sabor do Acre: Rabada no Tucupí!\"\n",
      "\n",
      "\"Sabor Acreano: Rabada no Tucupí, Delícia em Cada Gole!\"\n",
      "\n",
      "\"Rabada no Tucupí, sabor acreano autêntico!\""
     ]
    }
   ],
   "source": [
    "for o in output.generations:\n",
    "    print(o[0].text, end='')"
   ]
  },
  {
   "cell_type": "markdown",
   "id": "9eac676c-d030-4997-964d-20fed9af472c",
   "metadata": {},
   "source": [
    "### ChatModels: GPT-3.5-Turbo e GPT-4"
   ]
  },
  {
   "cell_type": "code",
   "execution_count": 26,
   "id": "89a44e44-6302-478d-ac01-9bf04cb0e5d8",
   "metadata": {
    "execution": {
     "iopub.execute_input": "2023-12-04T10:53:01.174116Z",
     "iopub.status.busy": "2023-12-04T10:53:01.173963Z",
     "iopub.status.idle": "2023-12-04T10:53:01.177425Z",
     "shell.execute_reply": "2023-12-04T10:53:01.177075Z",
     "shell.execute_reply.started": "2023-12-04T10:53:01.174105Z"
    }
   },
   "outputs": [],
   "source": [
    "chat = ChatOpenAI(\n",
    "    model_name='gpt-3.5-turbo',\n",
    "    temperature=0.5,\n",
    "    max_tokens=1024\n",
    ")"
   ]
  },
  {
   "cell_type": "code",
   "execution_count": 27,
   "id": "3efd9aa4-50c4-465e-9b33-951298fb52f7",
   "metadata": {
    "execution": {
     "iopub.execute_input": "2023-12-04T10:53:02.403196Z",
     "iopub.status.busy": "2023-12-04T10:53:02.403007Z",
     "iopub.status.idle": "2023-12-04T10:53:02.405778Z",
     "shell.execute_reply": "2023-12-04T10:53:02.405460Z",
     "shell.execute_reply.started": "2023-12-04T10:53:02.403186Z"
    }
   },
   "outputs": [],
   "source": [
    "messages = [\n",
    "    SystemMessage(content=\"Voce e um especialista em machine learning que responde tudo em portugues do Brasil\"),\n",
    "    HumanMessage(content=\"explique em um paragrafo o que e machine learning.\")\n",
    "]"
   ]
  },
  {
   "cell_type": "code",
   "execution_count": 28,
   "id": "170cf840-622b-4143-9eb6-60f44fac66b4",
   "metadata": {
    "execution": {
     "iopub.execute_input": "2023-12-04T10:53:04.042291Z",
     "iopub.status.busy": "2023-12-04T10:53:04.042094Z",
     "iopub.status.idle": "2023-12-04T10:53:09.164167Z",
     "shell.execute_reply": "2023-12-04T10:53:09.163494Z",
     "shell.execute_reply.started": "2023-12-04T10:53:04.042281Z"
    }
   },
   "outputs": [],
   "source": [
    "output = chat(messages)"
   ]
  },
  {
   "cell_type": "code",
   "execution_count": 29,
   "id": "d1b7be10-6dba-4ee2-8516-9636197e78b4",
   "metadata": {
    "execution": {
     "iopub.execute_input": "2023-12-04T10:53:14.793903Z",
     "iopub.status.busy": "2023-12-04T10:53:14.793635Z",
     "iopub.status.idle": "2023-12-04T10:53:14.796817Z",
     "shell.execute_reply": "2023-12-04T10:53:14.796304Z",
     "shell.execute_reply.started": "2023-12-04T10:53:14.793887Z"
    }
   },
   "outputs": [
    {
     "name": "stdout",
     "output_type": "stream",
     "text": [
      "Machine learning, ou aprendizado de máquina, é uma área da inteligência artificial que se baseia em algoritmos e modelos estatísticos para permitir que os computadores aprendam e melhorem a partir de dados, sem serem explicitamente programados. É um processo de treinamento em que os sistemas são expostos a grandes volumes de dados, identificam padrões e tendências, e utilizam essas informações para tomar decisões ou realizar previsões de forma autônoma. O objetivo do machine learning é capacitar as máquinas a aprenderem e se adaptarem, proporcionando soluções mais eficientes e precisas em diversas áreas, como reconhecimento de padrões, análise de dados, processamento de linguagem natural, entre outras.\n"
     ]
    }
   ],
   "source": [
    "print(output.content)"
   ]
  },
  {
   "cell_type": "markdown",
   "id": "8fbec47e-c5a6-4d97-b46d-73a0a5f7162c",
   "metadata": {},
   "source": [
    "### Prompt Templates"
   ]
  },
  {
   "cell_type": "code",
   "execution_count": 35,
   "id": "b2afcfe0-e75c-426a-a4e8-858b5b6d3bcc",
   "metadata": {
    "execution": {
     "iopub.execute_input": "2023-12-04T11:03:13.377849Z",
     "iopub.status.busy": "2023-12-04T11:03:13.377689Z",
     "iopub.status.idle": "2023-12-04T11:03:13.380701Z",
     "shell.execute_reply": "2023-12-04T11:03:13.380138Z",
     "shell.execute_reply.started": "2023-12-04T11:03:13.377838Z"
    }
   },
   "outputs": [
    {
     "name": "stdout",
     "output_type": "stream",
     "text": [
      "input_variables=['idioma', 'virus'] template='Você é um virologista experiente.\\nEscreva 5 frases sobre o vírus {virus} no idioma {idioma}.'\n"
     ]
    }
   ],
   "source": [
    "meu_template = \"\"\"Você é um virologista experiente.\n",
    "Escreva 5 frases sobre o vírus {virus} no idioma {idioma}.\"\"\"\n",
    "\n",
    "prompt = PromptTemplate(\n",
    "    input_variables=['virus', 'idioma'],\n",
    "    template=meu_template\n",
    ")\n",
    "\n",
    "print(prompt)"
   ]
  },
  {
   "cell_type": "code",
   "execution_count": 38,
   "id": "315830a2-53b0-451c-945d-5b3de3225947",
   "metadata": {
    "execution": {
     "iopub.execute_input": "2023-12-04T11:03:35.909951Z",
     "iopub.status.busy": "2023-12-04T11:03:35.909792Z",
     "iopub.status.idle": "2023-12-04T11:03:42.056279Z",
     "shell.execute_reply": "2023-12-04T11:03:42.055731Z",
     "shell.execute_reply.started": "2023-12-04T11:03:35.909940Z"
    }
   },
   "outputs": [],
   "source": [
    "llm = OpenAI(\n",
    "    model_name='text-davinci-003',\n",
    "    temperature=0.7\n",
    ")\n",
    "\n",
    "output = llm(prompt.format(virus='covid-19', idioma='portugues do brasil'))"
   ]
  },
  {
   "cell_type": "code",
   "execution_count": 39,
   "id": "3921b580-ac24-40f6-91d5-1b6bfa8dc685",
   "metadata": {
    "execution": {
     "iopub.execute_input": "2023-12-04T11:03:42.057056Z",
     "iopub.status.busy": "2023-12-04T11:03:42.056944Z",
     "iopub.status.idle": "2023-12-04T11:03:42.059022Z",
     "shell.execute_reply": "2023-12-04T11:03:42.058799Z",
     "shell.execute_reply.started": "2023-12-04T11:03:42.057046Z"
    }
   },
   "outputs": [
    {
     "name": "stdout",
     "output_type": "stream",
     "text": [
      "\n",
      "\n",
      "1. O vírus covid-19 pode ser transmitido de pessoa para pessoa através de contato próximo ou por gotículas de saliva. \n",
      "2. É importante praticar medidas de higiene frequentes, como lavar as mãos ou usar álcool em gel, para evitar a propagação do vírus.\n",
      "3. O vírus covid-19 pode causar sintomas leves a graves, como tosse, febre, falta de ar e dificuldades respiratórias.\n",
      "4. As pessoas de maior risco para a doença são aquelas com idade avançada ou que possuem doenças preexistentes.\n",
      "5. A melhor maneira de prevenir a propagação do vírus covid-19 é evitando contato próximo com outras pessoas e seguindo as orientações das autoridades de saúde.\n"
     ]
    }
   ],
   "source": [
    "print(output)"
   ]
  },
  {
   "cell_type": "markdown",
   "id": "d0788566-6b6c-41e1-92f3-72d44b0b8338",
   "metadata": {},
   "source": [
    "### Simple Chains"
   ]
  },
  {
   "cell_type": "code",
   "execution_count": 41,
   "id": "d93b84a7-b0a2-4e52-a199-66fdc67ddc38",
   "metadata": {
    "execution": {
     "iopub.execute_input": "2023-12-04T11:14:42.980316Z",
     "iopub.status.busy": "2023-12-04T11:14:42.980144Z",
     "iopub.status.idle": "2023-12-04T11:14:42.983661Z",
     "shell.execute_reply": "2023-12-04T11:14:42.983436Z",
     "shell.execute_reply.started": "2023-12-04T11:14:42.980305Z"
    }
   },
   "outputs": [],
   "source": [
    "llm = ChatOpenAI(\n",
    "    model_name='gpt-4',\n",
    "    temperature=0.5\n",
    ")\n",
    "\n",
    "meu_template = \"\"\"Você é um virologista experiente.\n",
    "Escreva um resumo sobre o vírus {virus} no idioma {idioma}.\"\"\"\n",
    "\n",
    "prompt = PromptTemplate(\n",
    "    input_variables=['virus', 'idioma'],\n",
    "    template=meu_template\n",
    ")\n",
    "\n",
    "chain = LLMChain(llm=llm, prompt=prompt)"
   ]
  },
  {
   "cell_type": "code",
   "execution_count": 42,
   "id": "601b2aeb-b8b3-4f49-ac27-4edf97a13725",
   "metadata": {
    "execution": {
     "iopub.execute_input": "2023-12-04T11:16:03.674569Z",
     "iopub.status.busy": "2023-12-04T11:16:03.674384Z",
     "iopub.status.idle": "2023-12-04T11:16:35.114128Z",
     "shell.execute_reply": "2023-12-04T11:16:35.113560Z",
     "shell.execute_reply.started": "2023-12-04T11:16:03.674559Z"
    }
   },
   "outputs": [],
   "source": [
    "output = chain.run({\n",
    "    'virus':'covid-19','idioma':'portugues do brasil'\n",
    "})"
   ]
  },
  {
   "cell_type": "code",
   "execution_count": 43,
   "id": "63ea3d92-716f-487b-9701-8c0639be4c97",
   "metadata": {
    "execution": {
     "iopub.execute_input": "2023-12-04T11:16:41.256731Z",
     "iopub.status.busy": "2023-12-04T11:16:41.256546Z",
     "iopub.status.idle": "2023-12-04T11:16:41.259297Z",
     "shell.execute_reply": "2023-12-04T11:16:41.258921Z",
     "shell.execute_reply.started": "2023-12-04T11:16:41.256721Z"
    }
   },
   "outputs": [
    {
     "name": "stdout",
     "output_type": "stream",
     "text": [
      "O COVID-19 é uma doença infecciosa causada pelo coronavírus SARS-CoV-2. Foi identificado pela primeira vez em Wuhan, China, em dezembro de 2019 e, desde então, desencadeou uma pandemia global. O vírus se espalha principalmente através de gotículas produzidas quando uma pessoa infectada tosse, espirra ou fala. Também pode se espalhar tocando uma superfície ou objeto contaminado e depois tocando a boca, nariz ou olhos.\n",
      "\n",
      "Os sintomas do COVID-19 variam em gravidade, desde infecções assintomáticas ou leves a casos graves ou críticos. Os sintomas mais comuns incluem febre, tosse seca e cansaço, mas também podem incluir dores no corpo, dor de garganta, perda de paladar ou olfato, e dificuldade para respirar. Em casos graves, pode levar a pneumonia, síndrome respiratória aguda grave e morte.\n",
      "\n",
      "A prevenção da COVID-19 envolve medidas de saúde pública para reduzir a transmissão do vírus. Isso inclui distanciamento físico, uso de máscaras faciais, higienização frequente das mãos, cobrir a boca ao tossir ou espirrar e limpeza e desinfecção regulares. Vacinas para COVID-19 foram desenvolvidas e estão sendo distribuídas globalmente, o que tem um papel crucial no controle da pandemia.\n",
      "\n",
      "O tratamento para COVID-19 depende da gravidade dos sintomas. Pode variar de autoisolamento e repouso em casa para casos leves, até hospitalização e tratamento intensivo para casos graves. Até o momento, não há cura específica para o COVID-19, mas várias terapias estão sendo investigadas e utilizadas para gerenciar os sintomas e complicações da doença.\n"
     ]
    }
   ],
   "source": [
    "print(output)"
   ]
  },
  {
   "cell_type": "markdown",
   "id": "53dd739e-5c37-48e1-af47-2efcb239ade3",
   "metadata": {},
   "source": [
    "### Sequencial Chains"
   ]
  },
  {
   "cell_type": "code",
   "execution_count": 18,
   "id": "40a2e72a-7bb2-4a9a-956a-03b0c29b9a49",
   "metadata": {
    "execution": {
     "iopub.execute_input": "2023-12-08T11:10:48.177111Z",
     "iopub.status.busy": "2023-12-08T11:10:48.176907Z",
     "iopub.status.idle": "2023-12-08T11:10:48.180364Z",
     "shell.execute_reply": "2023-12-08T11:10:48.180076Z",
     "shell.execute_reply.started": "2023-12-08T11:10:48.177099Z"
    }
   },
   "outputs": [],
   "source": [
    "#--- primeira chain ---\n",
    "\n",
    "llm1 = OpenAI(\n",
    "    model_name='text-davinci-003',\n",
    "    temperature=0.7,\n",
    "    max_tokens=1024\n",
    ")\n",
    "\n",
    "prompt1 = PromptTemplate(\n",
    "    input_variables=['conceito'],\n",
    "    template=\"\"\"\n",
    "    Voce e um cientista experiente e programador Python.\n",
    "    Escreva uma funcao que implementa o conceito de {conceito}\"\"\"\n",
    ")\n",
    "\n",
    "chain1 = LLMChain(llm=llm1, prompt=prompt1)"
   ]
  },
  {
   "cell_type": "code",
   "execution_count": 26,
   "id": "09cf3b6d-8882-4da0-80ca-b9361108526c",
   "metadata": {
    "execution": {
     "iopub.execute_input": "2023-12-08T11:14:31.279609Z",
     "iopub.status.busy": "2023-12-08T11:14:31.279444Z",
     "iopub.status.idle": "2023-12-08T11:14:31.282629Z",
     "shell.execute_reply": "2023-12-08T11:14:31.282327Z",
     "shell.execute_reply.started": "2023-12-08T11:14:31.279597Z"
    }
   },
   "outputs": [],
   "source": [
    "# --- segunda chain ---\n",
    "\n",
    "llm2 = ChatOpenAI(\n",
    "    model_name='gpt-3.5-turbo',\n",
    "    temperature=1.2\n",
    ")\n",
    "\n",
    "prompt2 = PromptTemplate(\n",
    "    input_variables=['function'],\n",
    "    template=\"\"\"Dada a funcao Python {function}, descreva como funciona da forma mais detalhada possivel e por ultimo exiba a o codigo da funcao\"\"\"\n",
    ")\n",
    "\n",
    "chain2 = LLMChain(llm=llm2, prompt=prompt2)"
   ]
  },
  {
   "cell_type": "code",
   "execution_count": 27,
   "id": "c3635a5c-7fbc-447b-a5ff-e6a111b1fa1b",
   "metadata": {
    "execution": {
     "iopub.execute_input": "2023-12-08T11:14:33.496730Z",
     "iopub.status.busy": "2023-12-08T11:14:33.496568Z",
     "iopub.status.idle": "2023-12-08T11:14:53.121163Z",
     "shell.execute_reply": "2023-12-08T11:14:53.120881Z",
     "shell.execute_reply.started": "2023-12-08T11:14:33.496718Z"
    },
    "scrolled": true
   },
   "outputs": [
    {
     "name": "stdout",
     "output_type": "stream",
     "text": [
      "\n",
      "\n",
      "\u001b[1m> Entering new SimpleSequentialChain chain...\u001b[0m\n",
      "\u001b[36;1m\u001b[1;3m.\n",
      "\n",
      "def linear_regression(x, y):\n",
      "    '''Esta funcao implementa o conceito de regressao linear.\n",
      "    \n",
      "    Ela calcula a linha de regressao que melhor se ajusta aos dados x e y,\n",
      "    usando o metodo dos minimos quadrados.\n",
      "    \n",
      "    Args:\n",
      "        x: Lista de valores de x.\n",
      "        y: Lista de valores de y.\n",
      "        \n",
      "    Retorna:\n",
      "        A inclinacao (m) e o intercepto (b) da linha de regressao.\n",
      "    '''\n",
      "    N = len(x)\n",
      "    \n",
      "    # Calcula a media dos valores de x e y\n",
      "    x_mean = sum(x)/N\n",
      "    y_mean = sum(y)/N\n",
      "    \n",
      "    # Calcula os coeficientes da regressao linear\n",
      "    numerador = 0\n",
      "    denominador = 0\n",
      "    for i in range(N):\n",
      "        numerador += (x[i] - x_mean) * (y[i] - y_mean)\n",
      "        denominador += (x[i] - x_mean)**2\n",
      "    m = numerador/denominador\n",
      "    b = y_mean - m*x_mean\n",
      "    \n",
      "    return m, b\u001b[0m\n",
      "\u001b[33;1m\u001b[1;3mA função `linear_regression` implementa o conceito de regressão linear, que é um método estatístico para encontrar a melhor linha de ajuste aos dados.\n",
      "A função recebe duas listas de valores, `x` e `y`, que representam os pontos no gráfico. Ela calcula a inclinação (m) e o intercepto (b) da linha de regressão que melhor se ajusta aos dados usando o método dos mínimos quadrados.\n",
      "\n",
      "A função começa obtendo o número de elementos nas listas `x` e `y`. Isso é armazenado em `N` por meio da função `len()`.\n",
      "\n",
      "Em seguida, a função calcula a média dos valores de `x` e `y`. Isso é feito somando todos os elementos da lista e dividindo pelo total de elementos. A média de `x` é armazenada em `x_mean`, e a média de `y` é armazenada em `y_mean`.\n",
      "\n",
      "Agora a função inicia o cálculo dos coeficientes da regressão linear. Ela usa um loop `for` para percorrer todos os elementos das listas `x` e `y`. Para cada elemento, ela calcula as diferenças em relação às médias de `x` e `y` e as multiplica. Esses valores são somados ao numerador.\n",
      "\n",
      "A função também calcula o denominador somando as diferenças de `x` em relação à média de `x` ao quadrado.\n",
      "\n",
      "Em seguida, a função calcula o coeficiente angular `m` dividindo o numerador pelo denominador e calcula o coeficiente linear `b` subtraindo `m` multiplicado pela média de `x` da média de `y`.\n",
      "\n",
      "Por fim, a função retorna `m` e `b`, ou seja, a inclinação e o intercepto da linha de regressão.\n",
      "\n",
      "Aqui está o código da função:\n",
      "\n",
      "```python\n",
      "def linear_regression(x, y):\n",
      "    N = len(x)\n",
      "    \n",
      "    x_mean = sum(x)/N\n",
      "    y_mean = sum(y)/N\n",
      "    \n",
      "    numerador = 0\n",
      "    denominador = 0\n",
      "    \n",
      "    for i in range(N):\n",
      "        numerador += (x[i] - x_mean) * (y[i] - y_mean)\n",
      "        denominador += (x[i] - x_mean)**2\n",
      "    \n",
      "    m = numerador/denominador\n",
      "    b = y_mean - m*x_mean\n",
      "    \n",
      "    return m, b\n",
      "```\n",
      "\n",
      "A função recebe uma lista de valores `x` e uma lista de valores `y` e retorna a inclinação `m` e o intercepto `b`, que são os coeficientes da linha de regressão que melhor se ajustam aos dados.\u001b[0m\n",
      "\n",
      "\u001b[1m> Finished chain.\u001b[0m\n"
     ]
    }
   ],
   "source": [
    "overall_chain = SimpleSequentialChain(chains=[chain1, chain2], verbose=True)\n",
    "output = overall_chain.run('regressao linear')"
   ]
  },
  {
   "cell_type": "code",
   "execution_count": 28,
   "id": "04c2c0c1-9e74-43c4-8442-816be4f7c647",
   "metadata": {
    "execution": {
     "iopub.execute_input": "2023-12-08T11:14:57.979642Z",
     "iopub.status.busy": "2023-12-08T11:14:57.979398Z",
     "iopub.status.idle": "2023-12-08T11:14:57.982457Z",
     "shell.execute_reply": "2023-12-08T11:14:57.982021Z",
     "shell.execute_reply.started": "2023-12-08T11:14:57.979622Z"
    },
    "scrolled": true
   },
   "outputs": [
    {
     "name": "stdout",
     "output_type": "stream",
     "text": [
      "A função `linear_regression` implementa o conceito de regressão linear, que é um método estatístico para encontrar a melhor linha de ajuste aos dados.\n",
      "A função recebe duas listas de valores, `x` e `y`, que representam os pontos no gráfico. Ela calcula a inclinação (m) e o intercepto (b) da linha de regressão que melhor se ajusta aos dados usando o método dos mínimos quadrados.\n",
      "\n",
      "A função começa obtendo o número de elementos nas listas `x` e `y`. Isso é armazenado em `N` por meio da função `len()`.\n",
      "\n",
      "Em seguida, a função calcula a média dos valores de `x` e `y`. Isso é feito somando todos os elementos da lista e dividindo pelo total de elementos. A média de `x` é armazenada em `x_mean`, e a média de `y` é armazenada em `y_mean`.\n",
      "\n",
      "Agora a função inicia o cálculo dos coeficientes da regressão linear. Ela usa um loop `for` para percorrer todos os elementos das listas `x` e `y`. Para cada elemento, ela calcula as diferenças em relação às médias de `x` e `y` e as multiplica. Esses valores são somados ao numerador.\n",
      "\n",
      "A função também calcula o denominador somando as diferenças de `x` em relação à média de `x` ao quadrado.\n",
      "\n",
      "Em seguida, a função calcula o coeficiente angular `m` dividindo o numerador pelo denominador e calcula o coeficiente linear `b` subtraindo `m` multiplicado pela média de `x` da média de `y`.\n",
      "\n",
      "Por fim, a função retorna `m` e `b`, ou seja, a inclinação e o intercepto da linha de regressão.\n",
      "\n",
      "Aqui está o código da função:\n",
      "\n",
      "```python\n",
      "def linear_regression(x, y):\n",
      "    N = len(x)\n",
      "    \n",
      "    x_mean = sum(x)/N\n",
      "    y_mean = sum(y)/N\n",
      "    \n",
      "    numerador = 0\n",
      "    denominador = 0\n",
      "    \n",
      "    for i in range(N):\n",
      "        numerador += (x[i] - x_mean) * (y[i] - y_mean)\n",
      "        denominador += (x[i] - x_mean)**2\n",
      "    \n",
      "    m = numerador/denominador\n",
      "    b = y_mean - m*x_mean\n",
      "    \n",
      "    return m, b\n",
      "```\n",
      "\n",
      "A função recebe uma lista de valores `x` e uma lista de valores `y` e retorna a inclinação `m` e o intercepto `b`, que são os coeficientes da linha de regressão que melhor se ajustam aos dados.\n"
     ]
    }
   ],
   "source": [
    "print(output)"
   ]
  },
  {
   "cell_type": "markdown",
   "id": "e1a9943f-c961-4f77-98c9-bb7807b19782",
   "metadata": {
    "execution": {
     "iopub.execute_input": "2023-12-08T11:30:56.788367Z",
     "iopub.status.busy": "2023-12-08T11:30:56.788109Z",
     "iopub.status.idle": "2023-12-08T11:30:56.791037Z",
     "shell.execute_reply": "2023-12-08T11:30:56.790610Z",
     "shell.execute_reply.started": "2023-12-08T11:30:56.788347Z"
    }
   },
   "source": [
    "### LangChain Agents"
   ]
  },
  {
   "cell_type": "code",
   "execution_count": 7,
   "id": "962d6574-c0b6-4031-b7f9-5e8647e7234e",
   "metadata": {
    "execution": {
     "iopub.execute_input": "2023-12-16T10:34:42.826339Z",
     "iopub.status.busy": "2023-12-16T10:34:42.826071Z",
     "iopub.status.idle": "2023-12-16T10:34:42.829617Z",
     "shell.execute_reply": "2023-12-16T10:34:42.829240Z",
     "shell.execute_reply.started": "2023-12-16T10:34:42.826324Z"
    }
   },
   "outputs": [],
   "source": [
    "llm = OpenAI(temperature=0)\n",
    "agent_executor = create_python_agent(\n",
    "    llm=llm,\n",
    "    tool=PythonAstREPLTool(),\n",
    "    verbose=True\n",
    ")"
   ]
  },
  {
   "cell_type": "code",
   "execution_count": 5,
   "id": "fba64e91-697d-4e19-974b-dc47ce2d1044",
   "metadata": {
    "execution": {
     "iopub.execute_input": "2023-12-16T10:34:06.144154Z",
     "iopub.status.busy": "2023-12-16T10:34:06.143992Z",
     "iopub.status.idle": "2023-12-16T10:34:09.171308Z",
     "shell.execute_reply": "2023-12-16T10:34:09.171047Z",
     "shell.execute_reply.started": "2023-12-16T10:34:06.144141Z"
    }
   },
   "outputs": [
    {
     "name": "stdout",
     "output_type": "stream",
     "text": [
      "\n",
      "\n",
      "\u001b[1m> Entering new AgentExecutor chain...\u001b[0m\n",
      "\u001b[32;1m\u001b[1;3m I need to calculate the square root of the factorial of 20\n",
      "Action: python_repl_ast\n",
      "Action Input: from math import factorial; print(f\"{round(factorial(20)**0.5, 4)}\")\u001b[0m\n",
      "Observation: \u001b[36;1m\u001b[1;3m1559776268.6285\n",
      "\u001b[0m\n",
      "Thought:\u001b[32;1m\u001b[1;3m I now know the final answer\n",
      "Final Answer: 1559776268.6285\u001b[0m\n",
      "\n",
      "\u001b[1m> Finished chain.\u001b[0m\n"
     ]
    },
    {
     "data": {
      "text/plain": [
       "'1559776268.6285'"
      ]
     },
     "execution_count": 5,
     "metadata": {},
     "output_type": "execute_result"
    }
   ],
   "source": [
    "agent_executor.run('calcule a raiz quadrada do fatorial de 20 e exiba com quatro casas decimais')"
   ]
  },
  {
   "cell_type": "markdown",
   "id": "a3c9893a-f8ca-49fc-ac7e-c12a20087981",
   "metadata": {},
   "source": [
    "### Splitting e Embedding de texto"
   ]
  },
  {
   "cell_type": "code",
   "execution_count": 84,
   "id": "dc471425-4d0d-4a03-8073-ab05e16e50e1",
   "metadata": {
    "execution": {
     "iopub.execute_input": "2023-12-16T11:11:50.649808Z",
     "iopub.status.busy": "2023-12-16T11:11:50.649599Z",
     "iopub.status.idle": "2023-12-16T11:11:50.653752Z",
     "shell.execute_reply": "2023-12-16T11:11:50.653417Z",
     "shell.execute_reply.started": "2023-12-16T11:11:50.649795Z"
    }
   },
   "outputs": [],
   "source": [
    "with open('docs/CLT.txt') as f:\n",
    "    clt = f.read()\n",
    "\n",
    "text_splitter = RecursiveCharacterTextSplitter(\n",
    "    chunk_size=100,\n",
    "    chunk_overlap=20,\n",
    "    length_function=len\n",
    ")"
   ]
  },
  {
   "cell_type": "code",
   "execution_count": 79,
   "id": "6e3095f2-2f51-4ebb-8926-4a467cef7e1b",
   "metadata": {
    "execution": {
     "iopub.execute_input": "2023-12-16T11:10:08.037573Z",
     "iopub.status.busy": "2023-12-16T11:10:08.037408Z",
     "iopub.status.idle": "2023-12-16T11:10:08.351928Z",
     "shell.execute_reply": "2023-12-16T11:10:08.351444Z",
     "shell.execute_reply.started": "2023-12-16T11:10:08.037561Z"
    }
   },
   "outputs": [],
   "source": [
    "chunks = text_splitter.create_documents([clt])"
   ]
  },
  {
   "cell_type": "code",
   "execution_count": 96,
   "id": "982e64a2-62e7-4ebf-b650-503e60ca9994",
   "metadata": {
    "execution": {
     "iopub.execute_input": "2023-12-16T11:20:30.261110Z",
     "iopub.status.busy": "2023-12-16T11:20:30.260296Z",
     "iopub.status.idle": "2023-12-16T11:20:30.264033Z",
     "shell.execute_reply": "2023-12-16T11:20:30.263611Z",
     "shell.execute_reply.started": "2023-12-16T11:20:30.261087Z"
    },
    "scrolled": true
   },
   "outputs": [
    {
     "data": {
      "text/plain": [
       "17153"
      ]
     },
     "execution_count": 96,
     "metadata": {},
     "output_type": "execute_result"
    }
   ],
   "source": [
    "len(chunks)"
   ]
  },
  {
   "cell_type": "code",
   "execution_count": 98,
   "id": "f7ae2900-7832-4a07-ae37-b3fef5c366cc",
   "metadata": {
    "execution": {
     "iopub.execute_input": "2023-12-16T11:20:32.603952Z",
     "iopub.status.busy": "2023-12-16T11:20:32.603712Z",
     "iopub.status.idle": "2023-12-16T11:20:32.607461Z",
     "shell.execute_reply": "2023-12-16T11:20:32.607029Z",
     "shell.execute_reply.started": "2023-12-16T11:20:32.603933Z"
    }
   },
   "outputs": [],
   "source": [
    "def embedding_cost(texts):\n",
    "    enc = tiktoken.encoding_for_model('text-embedding-ada-002')\n",
    "    total_tokens = sum([len(enc.encode(page.page_content)) for page in texts])\n",
    "    total_em_dolar = total_tokens / 1000 * 0.0001\n",
    "    print(f'Total de tokens: {total_tokens}')\n",
    "    print(f'Custo de Embedding em USD: {total_em_dolar:.6f}')\n",
    "    print(f'Custo de Embedding em R$: {total_em_dolar * 4.94:.6f}')"
   ]
  },
  {
   "cell_type": "code",
   "execution_count": 99,
   "id": "ebc162a7-dafc-4c8b-96f3-dba11f0f8994",
   "metadata": {
    "execution": {
     "iopub.execute_input": "2023-12-16T11:20:32.998578Z",
     "iopub.status.busy": "2023-12-16T11:20:32.998103Z",
     "iopub.status.idle": "2023-12-16T11:20:33.155299Z",
     "shell.execute_reply": "2023-12-16T11:20:33.154960Z",
     "shell.execute_reply.started": "2023-12-16T11:20:32.998564Z"
    }
   },
   "outputs": [
    {
     "name": "stdout",
     "output_type": "stream",
     "text": [
      "Total de tokens: 281199\n",
      "Custo de Embedding em USD: 0.028120\n",
      "Custo de Embedding em R$: 0.138912\n"
     ]
    }
   ],
   "source": [
    "embedding_cost(chunks)"
   ]
  },
  {
   "cell_type": "code",
   "execution_count": 88,
   "id": "b7e273e5-9467-45ca-9387-f2a428d0401b",
   "metadata": {
    "execution": {
     "iopub.execute_input": "2023-12-16T11:13:05.253592Z",
     "iopub.status.busy": "2023-12-16T11:13:05.253424Z",
     "iopub.status.idle": "2023-12-16T11:13:05.256330Z",
     "shell.execute_reply": "2023-12-16T11:13:05.256018Z",
     "shell.execute_reply.started": "2023-12-16T11:13:05.253578Z"
    }
   },
   "outputs": [],
   "source": [
    "embeddings = OpenAIEmbeddings()"
   ]
  },
  {
   "cell_type": "code",
   "execution_count": 93,
   "id": "146d4e1d-9ad2-4bef-8436-ddb2f3d444b2",
   "metadata": {
    "execution": {
     "iopub.execute_input": "2023-12-16T11:13:54.484460Z",
     "iopub.status.busy": "2023-12-16T11:13:54.484100Z",
     "iopub.status.idle": "2023-12-16T11:13:54.816894Z",
     "shell.execute_reply": "2023-12-16T11:13:54.816513Z",
     "shell.execute_reply.started": "2023-12-16T11:13:54.484444Z"
    }
   },
   "outputs": [],
   "source": [
    "vector = embeddings.embed_query(chunks[0].page_content)"
   ]
  },
  {
   "cell_type": "code",
   "execution_count": 94,
   "id": "fc547190-9721-4554-b80a-02408af120f3",
   "metadata": {
    "execution": {
     "iopub.execute_input": "2023-12-16T11:13:57.072663Z",
     "iopub.status.busy": "2023-12-16T11:13:57.072499Z",
     "iopub.status.idle": "2023-12-16T11:13:57.075513Z",
     "shell.execute_reply": "2023-12-16T11:13:57.075058Z",
     "shell.execute_reply.started": "2023-12-16T11:13:57.072650Z"
    },
    "scrolled": true
   },
   "outputs": [
    {
     "name": "stdout",
     "output_type": "stream",
     "text": [
      "[-0.01184240307476679, -0.008390643018023862, 0.012742862584434661, -0.03075204718985644, -0.01174689966643984, 0.015348736773788719, -0.016972290990056402, 0.0071354571618490025, -0.02107893196017952, -0.009679936236469835, 0.003990671747449589, 0.008656687428658124, 0.004635318356672575, 0.0018009184372591125, 0.001246658549945776, 0.014625640204543688, 0.01138535184747863, -0.0065385617911281856, -0.017777248022719936, -0.007735763501627584, -0.001606501117208757, 0.0006740653442312532, 0.00607127812232804, -0.005300430314580841, 0.011092020615704868, -0.0203558363222571, 0.0009627068427965694, -0.023220932984129892, 0.02996073403342396, 0.011590001609040973, 0.0159490431135673, 0.00444090103662222, -0.02406681978284137, -0.028378109583204227, -0.0262224646830228, -0.030561040373202543, -0.008479324488235284, 0.0070126673980438585, 0.015594316301399009, -0.00391222225308885, 0.021924816896245782, -0.035636355577535764, -0.0035609068756396263, -0.01908700612418988, -0.021010714441669465, 0.01855491730292136, -0.005621048367494105, -0.017927325073325884, -0.014420990442981346, -0.005184462023229919, 0.03255296620919218, 0.043931493324587456, -0.005283376400614631, -0.010102879635825575, 0.009884585998032177, -0.012074339657468633, -0.02144730171725626, 0.030861192611769225, 0.008656687428658124, -0.010778223569584522, 0.017954610963142777, -0.004618264442706366, -0.01664485286167283, 0.01298844211204495, -0.015607960177630062, 0.0048706659084321825, 6.326024105412101e-05, 0.024407901787456, 0.0026365719795513223, -0.00561763739843634, 0.02957872040011617, 0.026208820806791745, 0.01987831928062236, -0.01141945967541105, 0.040520665827860305, 0.007408323510598793, -0.0055119020142587105, -0.009741331816864365, -0.004324932745271299, 0.009038700130643307, 0.007933591790735703, 0.00638848520618354, -0.01582625381542346, -0.019237083174795833, 0.019673670450382628, 0.0033085054099138097, -0.014079907507044109, -0.0012040230665382953, -0.0228389193508221, -0.003110677353636343, -0.0020669631971393532, 0.0072377820426301745, 0.025035494017051473, 0.009325210355624154, -0.016781286036047723, 0.00882040742417252, -0.010136987463757994, 0.034463030650440714, 0.012476817242477789, -0.029169420876991484, 0.00526973299004488, 0.0041714456569301945, -0.02341193980078379, -0.025690373999109055, -0.036591389660805246, -0.006951272283310634, -0.0026638585678601706, 0.013124875286419846, 0.014611997259635244, -0.008663509366773651, -0.0015434007507773029, 0.020492269496631996, 0.0047376432374537465, -0.00791312690771173, 0.020314906556209156, -0.016262839228365036, -0.010205204050945441, -0.019960178812718252, 0.0069171639897169105, -0.020737848092919675, 0.0017923913638606816, 0.00012364260793299578, 0.03972935080878261, -0.00027457183327867163, 0.02298899640142805, -0.005818876656602224, -0.042676308865396514, -0.006678405934560844, -0.018882357293950148, -0.006125851298945737, 0.01990560517043925, 0.003612069316030212, 0.01304983676111687, 0.004106639573139206, -0.0050957805530184985, -0.006391896175241304, 0.006937628872740883, 0.02398495838810026, -0.03882889223043735, 0.004502296151355445, 0.009434356708859547, 0.02519921494388848, -0.010055127931662102, 0.0031993588238477632, -0.007578864978567411, -0.010184739167921468, 0.017354304623364195, 0.02489906084267658, 0.013274951405703186, 0.004219197361093668, 0.008465680612004228, -0.019714600216430574, 0.021065288083948468, -0.002747423817315598, 0.014216340681419004, 0.020928854909573573, -0.016344698760460928, 0.02438061589763911, -0.001590299712676336, -0.026140603288281685, -0.0011315430008592953, -0.007592508389137161, 0.012845186999554527, 0.008165527442114937, 0.004338576155841049, 0.02519921494388848, 0.005477793720664987, 0.019714600216430574, 0.02376666568162947, 0.011317135260291183, -0.005852984950195947, 0.025908666705579845, -0.012572320650804738, 0.011167058209685233, 0.013295417220049769, 0.011344422081430685, -0.014830290897428641, 0.0078517313273172, -0.033644431604191345, -0.008363356196884362, -0.023971316374514426, 0.00043829171237774116, 0.03045189308864454, 0.01985103339080547, 0.0035438527288427645, 0.014270914323698005, 0.025663088109292163, 0.025731303765157, -0.0012577437337222036, -0.005412987636873998, 0.020683274450640672, 0.001133248368972851, -0.01637198651292304, -0.00276447796411246, -0.6304306028863845, -0.013295417220049769, -0.012872473820694029, -0.007838088382408756, 0.005958720800034883, -0.010014198165614155, 0.0015152614202040135, -0.02455797883806195, -0.021651950547495993, -0.0370825468533806, -0.01549881289307206, 0.016303768994412982, 0.012517747008525737, 0.008322426430836414, -0.015239590420553326, -0.03132506577717291, 0.012306276240170477, 0.0035165661405339157, 0.025294718352215428, 0.018377554362498515, -0.01607183241171114, -0.02851454275757912, 0.012558677705896292, 0.005730195186390803, -0.007230960570175951, 0.007183208866012477, -0.0036052476107453365, -0.0005866628127935045, -0.003786021753056594, -0.019428089991449727, -0.024012246140562372, 0.020314906556209156, -0.02689098667866622, -0.0040111366304735625, 0.04974354990571937, 0.0018333213627392806, -0.004471598826819485, 0.005211748844369419, 0.010109701573941103, 0.03416287654922881, -0.0071900303384667, 0.0011008454434926832, 0.01274968359122758, -0.008738546960754018, 0.00552895592822492, -0.005266322020987117, 0.031788938942576596, -0.00346540370014333, -0.00927063671334515, 0.005136710319066444, 0.009591254766258415, -0.007381036689459291, -0.0024148678383614655, 0.0020942497854482016, -0.01908700612418988, 0.003642766873396824, 0.010941943565098918, -0.014216340681419004, 0.006272516914832618, -1.6960887206635988e-05, -0.015880825595057244, -0.016753998283585612, -0.032962263869671646, -0.0315979321259227, -0.027477649142213744, 0.009550325000210469, -0.01918250953251683, 0.0031754829717660265, 0.011153415264776787, 0.015321449952649217, -0.004928650054107643, 0.019550879289593568, -0.0042294298026056545, 0.007326463512841595, 0.000694956714802773, 0.003083390765327494, 0.019891963156853414, -0.017954610963142777, 0.04226701120491705, 0.016781286036047723, -0.014339130910885452, -0.02540386377412821, 0.007005845459928331, 0.025895024691994006, 0.005996239597025065, -0.020792421735198678, -0.028077955481992326, -0.03282583255794197, -0.00022554116123769377, 0.020342192446026044, 0.01731337485731625, 0.023357366158504787, -0.01918250953251683, -0.018991502715862932, -0.007899483031480675, 0.030697473547577438, -0.013404563573285162, 0.009775439644796784, -0.0033443191880364155, -0.011965193304233238, 0.010505357220834732, -0.02341193980078379, 0.024366972021408053, -0.017108726027076516, 0.014939437250664035, 0.025731303765157, -0.001462393495284546, -0.010273420638132889, 0.029824300859049066, -0.035636355577535764, -0.0004826325056911146, -0.009836835225191314, -0.015157729957134823, -0.011624109436973392, -0.030588326263019435, -0.02769594184868453, 0.022634270520582367, 0.01935987247293967, -0.0032215291914006188, -0.022647914396813424, 0.015989972879615247, -0.008240565967417911, 0.024462475429735002, -0.019946536799132417, -0.015321449952649217, 0.005665389102599815, 0.0025188982036715188, -0.024517049072014005, 0.0048979522639103785, -0.004495474213239917, -0.018568561179152412, -0.005597172515412367, 0.02443518953991811, -0.013575104575592476, 0.01990560517043925, -0.02540386377412821, 0.015034940658990983, -0.005372057870826051, -0.013745646509222399, -0.032607537988825964, -0.026440757389493585, -0.02244326370392847, -0.0028395162565847823, -0.008540719137307203, -0.003395481628427001, -0.039347340900765256, -0.00788584008657223, 0.012442709414545372, -0.03211637707096017, 0.024503405195782948, -0.010512179158950261, -0.02251148122243853, -0.026850056912618273, 0.005535777866340448, -0.004809270793698958, -0.003177188456294908, -0.02854182864739601, -0.022797989584774154, -0.00972768794063331, -0.02376666568162947, -0.012388135772266369, 0.007524291801949714, -0.007449253742308044, -0.013370454814030134, -0.027832375023059425, -0.0024506816164840714, 0.01216984306579558, 0.0144073474980729, 0.004850200559746905, -0.030861192611769225, 0.028405395473021115, -0.02376666568162947, -0.004519350065321654, 0.028923842280703806, 0.010921478682074945, 0.013588748451823531, 0.00465237273630009, 0.0028992058867891254, 0.01933258658312278, 0.006514685939046448, 0.004560280297030905, -0.012824722116530555, -0.016972290990056402, -0.026822769160156162, 0.01930530069330589, 0.009645828408537416, -0.008288317671581386, 0.027436719376165798, -0.008056381088879544, 0.014898507484616089, -0.021406371951208314, 0.017927325073325884, 0.017054152384797513, -0.0013234022105316544, 0.023944028622052315, 0.03050646673092354, -0.0035916044330062385, -0.0008301108339886696, 0.013595569458616449, 0.012967977229020978, -0.00019153944587510941, 0.007585686916682939, 0.022279544639736686, -0.01522594654432227, 0.019496305647314565, -0.038037580936650085, 0.005914380064929172, -0.03547263651334398, 0.01890964318376704, 0.03601836921084356, 0.015348736773788719, -0.02408046179642721, -0.007715298152942306, -0.014666570901914245, 0.0007277859532074984, 0.025267430599753317, -0.00768801179746411, 0.004563690800427365, 0.0008241418709682353, 0.0023790542930695125, -0.002389286734581499, 0.028405395473021115, 0.006429415437892791, -0.007442431804192517, -0.04005679266245662, 0.008513432316167701, -0.007578864978567411, 0.018077400261286614, 0.018855069541488037, 0.026754553504291324, -0.01948266363372873, 0.029196708629453595, 0.013834327979433821, 0.008308782554605359, 0.03994764537789862, 0.0024012246606223676, 0.02824167454618411, -0.0078244445061777, 0.0348450442837485, -0.0033119163789715736, -0.014693856791731135, 0.028678261821770905, 0.003282924306133843, -0.007183208866012477, 0.013738824571106872, 0.0035745502862093766, 0.037300841422496615, 0.027395789610117852, 0.006408950089207514, 0.0036905183447296457, -0.00809731085492749, 0.0009558851957193573, 0.0038064866360805675, 0.014912150429524533, 0.012817900178415028, -0.018677706601065196, -0.0071354571618490025, 0.014216340681419004, 0.010280242576248417, 0.0030407552819200134, 0.0023602946617437685, 0.006627243261339606, 0.008022273260947125, -0.020642344684592726, 0.026468043279310478, 0.01863677683501725, 0.006906931548204923, -0.0029776549154885592, 0.006129262268003501, -0.01522594654432227, 0.0005273996701367085, -0.006617010819827619, 0.016385628526508877, -0.016794928049633562, 0.023944028622052315, 0.005716551775821053, 0.017408878265643198, -0.00302199565059427, 0.006391896175241304, -0.016713068517537667, -0.019619096808103625, -0.02126993877683342, 0.005999650566082829, 0.030069881317981967, -0.02406681978284137, 0.007947234735644149, -0.027259356435742958, 0.032934979842499976, -0.02489906084267658, 0.015785322186730295, 0.0037041617552993965, -0.005375468839883816, 0.007742584974081807, 0.028050669592175434, -0.001310611542226345, -0.004239662244117642, 0.008527076192398756, -0.0459779928028561, -0.02826896229864622, -0.018977860702277097, 0.0073605718064353185, -0.009052344006874363, -0.004222607864490127, -0.003987260778391825, 0.024776271544532737, 0.016631208985441775, -0.006811428139877975, 0.0010258072674356866, -0.011569536726017, -0.01833662459645057, 0.029278568161549487, -0.0010377451934765552, 0.021556447139169044, 0.0027337806395765, -0.02794152230761743, -0.003195948087620652, -0.00023833177133534016, -0.006893288137635173, 0.023657520259716687, -0.008151884497206491, -0.01455742361735624, -0.019223439298564775, -0.020710562203102783, -0.00102324915705769, 0.011194345030824735, 0.05735652364354181, 0.01607183241171114, 0.014025334796087717, -0.013581926513708004, -0.008274674726672942, -0.004099818100684983, -0.01190379772383871, -0.008602113786379123, -0.010075592814686075, -0.00137456465092224, -0.014611997259635244, 0.0288146949961458, -0.004420436153598247, 0.02229318665332252, 0.02518557106765742, 0.012845186999554527, -0.01911429387665199, 0.030697473547577438, -0.027477649142213744, -0.00993915964031118, -0.001959522095602189, 0.01577168017314446, 0.021829313487918833, -0.005569886159934171, -0.03274397302584608, 0.00774940644653603, 0.019469019757497676, -0.000678755252062689, -0.02380759544767742, 0.01422998455765006, 0.006480577645452725, -0.0012031704406891804, 0.013827506041318292, -0.026686335985781268, -0.018841427527902202, -0.009652650346652945, -0.013854792862457794, 0.03176165119011449, -0.005583529104842617, -0.0013370455046860785, -0.01619462170985498, 0.007633438155185108, -0.001797507584616675, -0.004509117623809667, -0.016331054884229874, 0.0031379639419451912, 0.01205387477444466, -0.02232047440578463, -0.030861192611769225, 0.013923009449645241, -0.009686758174585364, -0.01317262699058332, 0.0093661401216721, 0.0259768842240899, 0.03020631449235686, 0.019291656817074832, 0.006269106411436159, 0.018623132958786197, 0.0022494425911488403, -0.020642344684592726, -0.02301628415389016, 0.009843656231984231, -0.017845463678584774, -0.0028054079629910586, -0.00987776499123926, -0.010191561106036997, 0.00409299662823076, -0.020737848092919675, 0.000191859209672359, -0.016822215802095673, -0.016262839228365036, -0.01607183241171114, 0.008718082077730045, 0.040547949855031976, 0.014693856791731135, 0.020928854909573573, 0.006548794232640172, -0.005368646901768288, 0.016358342636691985, -0.015989972879615247, -0.024394257911224945, -0.021460945593487317, -0.010048305993546574, 0.0029844766207734346, -0.012442709414545372, -0.017681744614392987, -0.020042038344814144, -0.008370178134999889, 0.020233045161468042, -0.007305998629817622, -0.01948266363372873, 0.02159737876786221, -0.0041987320124083904, -0.005129888846612222, -0.010778223569584522, 0.03836501906503366, 0.0056346917780638545, 0.014025334796087717, -0.013425028456309137, -0.005893914716243894, -0.00824738790553344, -0.016331054884229874, 0.012476817242477789, -0.004048655427463745, -0.0015434007507773029, -0.0013319292839300853, 0.02380759544767742, -0.01522594654432227, -0.009632184532306362, 0.023425583677014843, -0.016235553338548144, 0.014038977740996163, -0.004464776888703957, -0.02349379933287968, 0.0315979321259227, -0.01938716022540178, -0.0018520808776496982, 0.004570512738542892, -0.00632709055711162, 0.023643876383485633, -0.009625363525513443, 0.018568561179152412, 0.04013865219455251, -0.008663509366773651, -0.006446469351859001, -0.002859981372439408, -0.014516493851308295, 0.019700956340199516, -0.005638102747121619, -0.0020175062412776494, 0.02734121596783885, 9.209241744131085e-05, -0.017013222618749567, -0.011583179670925446, 0.007497004980810213, -0.017204227572758246, 0.02371209203935047, -0.021501875359535263, -0.011098841622497786, -0.010136987463757994, -0.01350006698161211, 0.004137337363336471, -0.0028105241837470523, -0.003030522840408027, -0.035363489228785974, 0.00809731085492749, 0.011719612845300341, -0.002933314180382849, 0.0030987394275954743, 0.010007376227498628, 0.00037156733684157075, 0.02540386377412821, 0.0001618012672117405, -0.015212303599413824, -0.011883332840814735, -0.015416953360976166, -0.04035694676366852, 0.001444486606223243, 0.014939437250664035, 0.021679238299958103, -0.004355630535468563, 0.01413448114932311, -0.006927396431228897, -0.0008279790947428934, 0.004932060557504102, -0.003847416634959166, 0.0022340939288808606, -0.029496860868020277, 0.021160791492275417, 0.0009754975111018789, 0.016153691943807034, 0.00774940644653603, -0.008308782554605359, -0.01637198651292304, 0.009905051812378761, -0.03020631449235686, -0.0024336274696872095, -0.012347206006218423, -0.02779144525701148, -0.013738824571106872, -0.01684950169191256, 0.010041484986753656, 0.006562437643209923, -0.041775850287051254, 0.009359318183556571, 0.029824300859049066, 0.023780309557860528, -0.00044212887794473614, 0.021133505602458524, 0.03754642001878429, -0.010921478682074945, 0.011310313322175657, -0.022456907580159526, -0.007162743982988504, -0.02286620710328421, 0.0027559510071293552, -0.033371565255441556, -0.016522061700883772, 0.023848525213725366, 0.02174745395582294, 0.015989972879615247, -0.017872751431046885, 0.014311844089745953, -0.00442384712265601, -0.0003624007358486407, 0.003939509074228351, -0.019837389514574415, -0.0001879154367703931, 0.0012449530654168942, 0.007926769852620176, -0.03719169413793861, -0.00233300807343492, -0.04742418407870094, 0.021474587607073152, -0.0025257199089563937, -0.023521087085341792, 0.0171632978067103, 0.00041910576812744004, -0.014816647021197586, 0.022088537823082788, -0.016208265586086033, 0.007906304969596203, -0.013950296270784743, 0.01985103339080547, 0.027668655958867642, 0.013650143100895452, 0.0020942497854482016, 0.0036802859032176592, -0.0056722110407153425, -0.004195321509011931, 0.025362934008080266, -0.00569608689279708, -0.008151884497206491, -0.015607960177630062, 0.027041063729272168, 0.009175133305018204, -0.03833773503786199, -0.010191561106036997, 0.04447722974737747, 0.010941943565098918, 0.000782785559165079, -0.021133505602458524, 0.0061156188574337505, 0.009250171830321178, 0.019796459748526465, -0.01694500510023951, 0.008486145495028201, -0.02444883155350395, -0.01389572262850574, -0.014120837273092055, 0.02630432421511869, -0.01054628791820529, 0.010505357220834732, -0.0023756433240117486, -0.008465680612004228, -0.010791867445815577, 0.009018235247619334, -0.01178100842569487, 0.016904075334191564, -0.04005679266245662, 0.003714394196811383, -0.02631796622870453, -0.013513709926520557, 0.02047862562040094, 0.00882040742417252, -0.023657520259716687, 0.013834327979433821, -0.006825071550447726, 0.027218426669695008, -0.007312820102271844, -0.009550325000210469, 0.005327717135720341, 0.004099818100684983, 0.02826896229864622, 0.005883682274731908, 0.008724904015845572, -0.02764137006905075, -0.037437272734226285, -0.015021296782759928, 0.008902266956268412, 0.023998602264331315, -0.011132950381752814, -0.011555892849785945, 0.008765833781893518, -0.009945981578426707, -0.0028804462554633814, -0.023439225690600682, 0.023070855933523943, 0.016685782627720778, -0.018950572949814986, 0.01054628791820529, 0.01582625381542346, 0.017299730981085195, -0.012374492827357924, -0.002875330034707388, 0.008997770364595361, 0.023098143685986054, -0.00287703551923627, 0.003956563453855865, -0.03127049399753913, -0.0009149552550484215, -0.002285256369271446, 0.0028156404045030455, 0.01129667037726721, -0.00897048354345586, 0.019523593399776676, -0.014011690919856662, -0.038583313634149664, -0.008588470841470677, 0.005065083228482538, 0.003697340050014521, -0.04404064060914546, -0.01712236804066235, 0.010621325512185654, -0.011344422081430685, -0.011494498200714026, -0.0012125501399367262, -0.008533897199191676, 0.03629123555959335, 0.0029435466218948356, -0.006589724464349423, 0.031243206245077017, -0.014298201144837507, 0.006480577645452725, 0.016753998283585612, -0.025540296948503106, -0.004802449321244735, -0.027750515490963534, 0.005651745692030064, 0.002626339305208683, 0.028077955481992326, -0.04753333136325894, 0.006736390080236305, -0.0025513010127363603, -0.007346928395865568, 0.00575407103847254, -0.001494796420764714, 0.008240565967417911, -0.006023526418164566, -0.010082414752801602, 0.0016141754483427469, -0.014175410915371058, -0.007844909389201673, -0.005464150310095236, -0.021433657841025206, -0.015239590420553326, 0.0025171927191426366, -0.019769171996064355, -0.017231515325220357, -0.03017902673989475, 0.0022238614873688737, 0.023521087085341792, -0.02957872040011617, -0.012388135772266369, -0.004672837619324063, -0.04993455672237327, -0.016740356269999777, -0.012388135772266369, 0.0010940238546231342, 0.02639982762344564, 0.0028105241837470523, -0.002140296005082794, -0.0006459260136579637, -0.01241542259340587, 0.006142905678573251, -0.013390919697054107, 0.008022273260947125, -0.0011221631851964235, 0.007367393744550846, 0.040002217157532396, 0.02547208129263827, -0.0008727462009808242, 0.016508419687297934, 0.01552609971421156, 0.022306830529553574, 0.019059720234372992, -0.01742252214187425, -0.010750937679767631, -0.013029371878092897, 0.005061672259424775, 0.0038405949296742912, 0.008874981066451522, 0.01806375824770078, 0.010587217684253235, -0.036700533220072815, 0.010443962571762814, 0.024462475429735002, -0.01714965579312446, -0.006381663733729317, -0.0021846367401885045, 0.018322980720219515, 0.0020874280801633266, 0.007592508389137161, 0.0009882881211995254, -0.018309336843988458, 0.004509117623809667, -0.020942498785804627, 0.019987466565180363, 0.01845941389459441, 0.004522761034379418, 0.00026306027837002356, 0.0021181256375299388, -0.011460390372781607, -0.019823745638343358, -0.007674368386894359, -0.03228009986044239, 0.011972014311026158, -0.014666570901914245, -0.01540330948474511, 0.021679238299958103, -0.02585409492594606, -0.018050114371469726, -0.00442384712265601, 0.015021296782759928, -0.02779144525701148, -0.003598426138291114, 0.0023926974708086105, -0.004884308853340629, 0.041148258057455776, -0.027081993495320113, 0.007817623499384783, -0.020137541753141093, -0.010498536214041815, 0.00363935590433906, -0.02350744320911074, 0.01422998455765006, -0.007940412797528622, -0.006009883007594815, 0.016331054884229874, -0.02818710276655033, 0.014571067493587296, 0.010744115741652103, -0.011023804028517421, 0.005119656405100235, 0.019769171996064355, 0.21709253710079293, 0.0028957949177313615, -0.0009533270853413606, 0.031243206245077017, -0.0004336018045463052, 0.02323457686036095, 0.016153691943807034, 0.007906304969596203, -0.027777803243425644, 0.03861060138661178, -0.005382290312338038, 0.002367116367028644, -0.007251425453199924, -0.001788980511218244, -0.002460914057996058, -0.009393426942811601, -0.035718215109631656, -0.001039450561590111, -0.018568561179152412, -0.024326042255360107, 0.015389666539836665, 0.028951128170520698, -0.006913753020659146, -0.030260886271990643, 0.004406792743028496, 0.0026178123482255783, -0.0009337148281665022, 0.0020823118594073334, 0.006790963256854002, -0.00852025425428323, -0.024421545663687056, 0.01712236804066235, 0.017026864632335402, -0.004659194208754313, -0.0036939293137874096, 0.008540719137307203, 0.026754553504291324, -0.035636355577535764, -0.01567617676481751, 0.012231237714867501, 0.037682855055804404, -0.02210218169931384, 0.007162743982988504, 0.0031021501638225854, 0.005395933722907789, 0.03247110667709629, -0.012313097246963394, 0.006906931548204923, 0.0029009111384873548, 0.013063480637347925, -0.036536814155881024, 0.021283580790419254, 0.010048305993546574, 0.029524146757837166, 0.024407901787456, 0.0010351869666832324, 0.01866406458747936, 0.004512528592867431, -0.026809127146570324, -0.0006732126601744753, -0.009741331816864365, 0.005303841283638604, 0.003758735164747746, 0.005559653718422184, -0.008117776669274072, -0.006303214705029883, -0.021433657841025206, 0.00575407103847254, 0.01298844211204495, -0.03640038284415135, -0.0028736245501785065, -0.009707223057609337, -0.0041134615112547335, -0.0055391883697369065, -0.0460871400874141, -0.023070855933523943, 0.033507996567171225, 0.02193846077247684, 0.02090156901975668, 0.0343265956134206, -0.01573075040709651, 0.002844632477340776, -0.001899832465397846, 0.01296115529090545, -0.004822914204268708, -0.019919249046670306, 0.05170818985189212, 0.014789360200058084, -0.025840451049715007, 0.02045133973058405, 0.012210772831843528, 0.0022579697809625974, -0.013738824571106872, -0.012790614288598135, 0.01465292702568319, 0.034463030650440714, -0.0022340939288808606, 0.00013387509310072975, 0.0021044822269601885, 0.020669632437054837, -0.030069881317981967, 0.04726046501450915, 0.012183486010704027, -0.004723999826883997, -0.0077766932676755305, 0.021065288083948468, 0.015853539705240352, -0.009338853300532598, 0.02652261692158948, -0.006286160325402369, -0.023998602264331315, -0.0038371841934471797, 0.01637198651292304, 0.0016806866674166387, 0.008915910832499468, -0.014571067493587296, 0.017872751431046885, -0.022456907580159526, 0.02794152230761743, -0.007892661093365148, 0.011405816730502604, -0.016535705577114826, 0.000671933604985477, 0.004608032001194379, 0.008056381088879544, -0.0020942497854482016, -0.007790336678245281, 0.025090067659330473, 0.006736390080236305, -0.03833773503786199, 0.018745924119575253, -0.030697473547577438, 0.01277697041236708, -0.006831893022901949, -0.03435388336588271, 0.014011690919856662, 0.00391222225308885, -0.0077835147401297535, -0.005157175667751723, -0.020464981744169886, -0.0056994973961935385, -0.0036871076085025346, -0.006408950089207514, 8.335216575272757e-05, -0.014093551383275164, -0.019127935890237827, 0.022074893946851734, 0.019414446115218673, -0.028378109583204227, -0.02296171051161116, -0.006265695442378396, -0.013506887988405028, -0.012033409891420686, -0.014857576787245532, 0.020710562203102783, 0.003946330546682574, -0.037573707771246405, -0.0005819729049620687, 0.018486699784411302, 0.0175180255502012, -0.04685116735402969, 0.0009737920847806602, 0.04032965901120641, -0.03372629113628724, -0.0030407552819200134, -0.0060201154491068025, -0.174961960932896, 0.003724626871154022, 0.01791368119709483, -0.008117776669274072, 0.03664596144043903, 0.008724904015845572, 0.026508973045358424, 0.00927063671334515, -0.029524146757837166, -0.022538767112255418, 0.010553108924998207, 0.009925516695402734, -0.05599219189979286, 0.0036871076085025346, -0.011194345030824735, -0.007087705457685529, -0.04218515167282116, 0.013302238226842686, 0.005372057870826051, 0.003864470781756028, 0.01096923038623842, -0.014161767970462612, 0.003820130046650318, -0.018131973903565617, 0.0008339479995556646, 0.03549992426580609, -0.010757758686560549, -0.002305721252295419, -0.003874703223268015, -0.01851398753687341, -0.02751857890826169, 0.004369273480377009, 0.007933591790735703, -0.009870943053123733, 0.008022273260947125, 0.007844909389201673, -0.013923009449645241, -0.008492967433143728, -0.02987887450132807, 0.0260314578663689, 0.01734066074713314, 0.010021019172407072, 0.02444883155350395, 0.007101348868255279, -0.0035881934639484746, 0.011323957198406712, 0.025349291994494427, 0.0019544058748461957, 0.015362379718697165, -0.018691350477296254, -0.013493245043496584, -0.015157729957134823, 0.03135235352963502, -0.0025137819829155255, 0.023657520259716687, 0.03809215271628387, -0.014625640204543688, -0.0013549523937473815, 0.006845536433471699, 0.02154280512558321, 0.018118330027334564, -0.011910619661954237, 0.004475009330215943, 0.019059720234372992, -0.0014666570901914245, 0.008909088894383941, 0.006985380576904358, -0.012661002121016158, -0.016876789444374672, -0.0023534729564588935, 0.0019424679488053269, 0.002172699046978288, -0.008452037667095782, -0.030342747666731756, 0.005433452985559277, -0.010805510390724023, -0.014816647021197586, 0.01577168017314446, 0.006954683252368398, -0.029715153574491063, 0.011794651370603315, 0.02105164420771741, -0.020260332913930153, 0.007381036689459291, 0.0019629328318293, 0.023248218873946784, 0.001014722083659259, 0.022729773928909316, 0.006964915693880384, 0.0004741054322926837, 0.037137122358304825, -0.03361714385172923, -0.01087372697791147, -0.03569092735716955, 0.005958720800034883, 0.03080661896949022, -0.008615757662610178, 0.014666570901914245, -0.023330080268687898, -0.012838365061439, 0.021733811942237106, -0.026877342802435162, -0.03361714385172923, 0.021392728074977257, 0.026590834440099537, 0.04513210600414462, 0.015689818778403346, 0.020928854909573573, 0.05138074799821811, -0.0011699147729445714, -0.010280242576248417, 0.006119029826491514, 0.012974799167136505, 0.0007844909854862978, -0.033044123401767544, 0.010778223569584522, -0.0007184061375446266, -0.023793953434091582, 0.001829910510096843, -0.01684950169191256, 0.05067129623652675, -0.014475564085260349, -0.01637198651292304, -0.005706319334309066, -0.0021300635635708074, -0.02180202759810194, -0.07994986626072145, -0.03855602588168756, -0.014325487965977008, 0.022033964180803785, 0.0048979522639103785, 0.024639838370157843, -0.010805510390724023, 0.024939992471369743, -0.00930474547260018, 0.01855491730292136, -0.002452387101012953, -0.028350821830742116, -0.009802726465936286, 0.004399971270574274, 0.04202142888333893, 0.002222156002839992, -0.0015007653837851482, -0.020233045161468042, -0.017995540729190723, 0.02545843741640721, 0.028432681362838007, 0.012695110880271187, -0.005798411773578251, -0.028050669592175434, -0.025362934008080266, 0.01956452316582462, -0.04076624442414799, 0.01552609971421156, 0.012197128955612473, -0.0012986736161854763, -0.026086031508647904, -0.01108519867758934, 0.03945648446003282, 0.007108170340709502, 0.010055127931662102, 0.004096407131627219, -0.024994564251003527, 0.0020004520944807876, -0.0013583632463898192, -0.036809680504630814, 0.01649477581106688, -0.01930530069330589, -0.004017958102927785, -0.040820816203781765, -0.01540330948474511, -0.00933203229373968, 0.005781357393950737, -0.0093661401216721, 0.021160791492275417, -0.04057523760749409, -0.02433968613159116, -0.01350006698161211, -0.008786298664917492, -0.013124875286419846, 0.005532366897282683, 0.014721143612870637, -0.002604168937655828, -0.01806375824770078, -0.02751857890826169, 0.018950572949814986, -0.015908113347519355, 0.010225669865292025, -0.005034385438285273, 0.005856395919253711, 0.031788938942576596, -0.027027419853041114, -0.008492967433143728, 0.004464776888703957, 0.020260332913930153, -0.025049137893282527, -0.00608492153289779, 0.022948066635380102, -0.016835857815681508, 0.002653626126348184, 0.002587114790858966, -0.019469019757497676, -0.027095635508905952, -0.0011136361117979926, 0.014857576787245532, -0.011876510902699209, -0.013506887988405028, -0.007940412797528622, -0.0030407552819200134, -0.005140121288124209, 0.005239035665508921, 0.03274397302584608, -0.01863677683501725, -0.02305721391993811, -0.0004813534213982847, -0.01935987247293967, 0.009325210355624154, 0.015171373833365878, 0.014189054791602113, -0.01398440409871716, 0.018200191422075674, 0.006634065199455134, -0.005972363744943328, 0.005979185683058856, 0.0370825468533806, 0.05200834022781358, 0.00996644646145068, -0.0321982403283465, -0.07864010629660628, 0.02060141491854478, -0.01770903050420988, -0.011733256721531396, -0.0037928434583414695, 0.001910065023325159, 0.0320890930437885, -0.00016830316504361882, -0.006415772027323041, -0.006623832757943147, -0.032061805291326385, 0.02903298770261659, 0.007674368386894359, -0.023343722282273733, -0.03672782097253492, -0.008145062559090964, 0.010519001097065788, 0.01706779439838335, -0.00022149079555267278, 0.02417596520475416, 0.017258801215037246, -0.017190585559172408, 0.019264369064612725, 0.010355281101551391, -0.013650143100895452, 0.007258246925654147, -0.008288317671581386, 0.021815671474332998, -0.01960545293187257, -0.012149378182771607, -0.0054743827516072225, -0.018145617779796674, -0.0021113039322450634, 0.012490461118708844, 0.009591254766258415, 0.012012945008396713, 0.009216064002388759, 0.015812609939192406, 0.01863677683501725, 0.0312977780247108, -0.009884585998032177, -0.016262839228365036, 0.023166359341850892, -0.020792421735198678, -0.008029094267740042, -0.024667126122619953, -0.017449808031691143, 0.00409299662823076, 0.026277036462656583, 0.011119307436844368, 0.006081510563840027, 0.02736850372030096, -0.02371209203935047, -0.002728664185989854, 0.02244326370392847, -0.018391198238729572, 0.01972824223001641, 0.01350006698161211, -0.01199247919405013, -0.02779144525701148, 0.04131197712164757, -0.014325487965977008, 0.02221132712122663, 0.01743616415546009, 0.004082763721057469, -0.008506611309374783, -0.007742584974081807, 0.0030185849143671583, 0.013431850394424663, -0.01800918460542178, -0.01362285627975595, 0.013097588465280344, 0.01063496938841671, 0.02941500133592438, -0.02669997986201232, 0.011180702085916289, -0.033999157485037027, 0.013234021639655239, 0.0034278844374918426, 0.02017847338183426, 0.0008586765356941795, 0.004331754683386826, -0.016576635343162772, 0.019509949523545622, 0.019591809055641514, 0.012135734306540552, -0.019550879289593568, -0.013882079683597294, -0.019073364110604046, 0.003697340050014521, -0.03825587178047565, 0.027750515490963534, 0.0016184390432496254, -0.0008612346460721761, -0.004693302502348036, 0.030015307675702964, -0.00791312690771173, -0.015307807007740773, 0.0019851031993821555, -0.011289848439151682, 0.0017548722176245204, 0.011869689895906291, 0.0029878873570005457, -0.02221132712122663, -0.03154336034628892, 0.01465292702568319, -0.015867183581471406, 0.0009465054382641485, 0.021119861726227467, 0.021010714441669465, 0.010321172342296363, -0.03470860924672839, 0.02256605300207231, 0.006623832757943147, -0.026263394449070745, 0.0026792072301281508, -0.0012500692861728874, 0.004430668595110233, -0.038392306817495774, 0.024571622714293005, -0.02169288031354394, 0.01540330948474511, 0.033480712539999555, 0.01773631825667199, 0.009748152823657283, -0.006159959592539461, -0.00903187912385039, -0.01985103339080547, -0.007299177157363399, 0.04112097030499367, 0.0003208312384793741, 0.0052185703168236425, -0.019946536799132417, -0.011194345030824735, -0.0028804462554633814, -0.0014478974588656808, 0.006105386415921764, -0.019919249046670306, -0.011030625035310338, 0.10068770876570547, 0.022361404171832577, -0.020983428551852572, 0.03230738388761407, 0.03926547764337892, 0.037409988707054614, 0.00015743113772946992, 0.006303214705029883, -0.020314906556209156, 0.0021931639300022615, 0.03045189308864454, -0.010675899154464655, -0.025881380815762953, -0.03282583255794197, -0.020001108578766198, 0.0020891335646922083, -0.018623132958786197, 0.004014547133870021, -0.0019697545371141754, 0.0008177465950232436, 0.019346230459353835, 0.006999023987474108, -0.009038700130643307, 0.001940762464276445, 0.0010991400753791274, -0.02386216908995642, 0.00569608689279708, -0.004761519089535484, -0.01761352709588293, 0.0042942354207353385, 0.0012833249539174964, 0.01540330948474511, -0.03047918084110665, 0.0018520808776496982, 0.01860949094520036, -0.026017813990137847, -0.011624109436973392, -0.01175372160455537, -0.01863677683501725, -0.017749962132903044, -0.009959624523335153, 0.03047918084110665, -0.03522705419176586, -0.012006123070281186, -0.003484163331469074, -0.001111078001419996, 0.020396766088305048, -0.010055127931662102, -0.0062759278838903825]\n"
     ]
    }
   ],
   "source": [
    "print(vector)"
   ]
  }
 ],
 "metadata": {
  "kernelspec": {
   "display_name": "cuda",
   "language": "python",
   "name": "cuda"
  },
  "language_info": {
   "codemirror_mode": {
    "name": "ipython",
    "version": 3
   },
   "file_extension": ".py",
   "mimetype": "text/x-python",
   "name": "python",
   "nbconvert_exporter": "python",
   "pygments_lexer": "ipython3",
   "version": "3.10.13"
  }
 },
 "nbformat": 4,
 "nbformat_minor": 5
}
