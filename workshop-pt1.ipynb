{
 "cells": [
  {
   "cell_type": "code",
   "execution_count": 3,
   "id": "1ecab291-20be-42a5-a7e6-a66c623b4563",
   "metadata": {
    "execution": {
     "iopub.execute_input": "2024-02-15T10:50:34.764686Z",
     "iopub.status.busy": "2024-02-15T10:50:34.764116Z",
     "iopub.status.idle": "2024-02-15T10:50:34.772980Z",
     "shell.execute_reply": "2024-02-15T10:50:34.772150Z",
     "shell.execute_reply.started": "2024-02-15T10:50:34.764647Z"
    }
   },
   "outputs": [],
   "source": [
    "import torch\n",
    "import os\n",
    "from dotenv import load_dotenv\n",
    "from langchain.llms import OpenAI\n",
    "from langchain.chat_models import ChatOpenAI\n",
    "from langchain.chains import RetrievalQA\n",
    "from langchain.schema import (\n",
    "    AIMessage,\n",
    "    HumanMessage,\n",
    "    SystemMessage\n",
    ")\n",
    "from langchain.chat_models import ChatOpenAI\n",
    "from langchain.prompts import PromptTemplate\n",
    "from langchain.chains import LLMChain, SimpleSequentialChain\n",
    "from langchain_experimental.agents.agent_toolkits import create_python_agent\n",
    "from langchain_experimental.tools.python.tool import PythonAstREPLTool\n",
    "from langchain.text_splitter import RecursiveCharacterTextSplitter\n",
    "import tiktoken\n",
    "from langchain.embeddings import OpenAIEmbeddings\n",
    "import pinecone\n",
    "from langchain.vectorstores import Pinecone"
   ]
  },
  {
   "cell_type": "code",
   "execution_count": 5,
   "id": "b34ee8fc-4e2d-429a-baab-ff4b84ff0a0e",
   "metadata": {
    "execution": {
     "iopub.execute_input": "2024-02-15T10:50:37.158342Z",
     "iopub.status.busy": "2024-02-15T10:50:37.157696Z",
     "iopub.status.idle": "2024-02-15T10:50:37.162857Z",
     "shell.execute_reply": "2024-02-15T10:50:37.162400Z",
     "shell.execute_reply.started": "2024-02-15T10:50:37.158312Z"
    }
   },
   "outputs": [
    {
     "data": {
      "text/plain": [
       "'gcp-starter'"
      ]
     },
     "execution_count": 5,
     "metadata": {},
     "output_type": "execute_result"
    }
   ],
   "source": [
    "load_dotenv('./.env')\n",
    "os.environ.get('PINECONE_ENV')"
   ]
  },
  {
   "cell_type": "code",
   "execution_count": 6,
   "id": "ed6f1e82-a572-41fd-8f99-866410da3cfc",
   "metadata": {
    "execution": {
     "iopub.execute_input": "2024-02-15T10:50:37.942976Z",
     "iopub.status.busy": "2024-02-15T10:50:37.942816Z",
     "iopub.status.idle": "2024-02-15T10:50:38.046039Z",
     "shell.execute_reply": "2024-02-15T10:50:38.044425Z",
     "shell.execute_reply.started": "2024-02-15T10:50:37.942965Z"
    }
   },
   "outputs": [
    {
     "name": "stdout",
     "output_type": "stream",
     "text": [
      "GPUs available: 1\n",
      "GPU 0: NVIDIA RTX A4000\n"
     ]
    }
   ],
   "source": [
    "device = torch.device('cuda') if torch.cuda.is_available() else 'cpu'\n",
    "num_gpus = torch.cuda.device_count()\n",
    "\n",
    "if num_gpus > 0:\n",
    "    print(f\"GPUs available: {num_gpus}\")\n",
    "    for i in range(num_gpus):\n",
    "        gpu_name = torch.cuda.get_device_name(i)\n",
    "        print(f\"GPU {i}: {gpu_name}\")\n",
    "else:\n",
    "    print(\"There is no GPU available. Using CPU\")"
   ]
  },
  {
   "cell_type": "markdown",
   "id": "9eac676c-d030-4997-964d-20fed9af472c",
   "metadata": {},
   "source": [
    "### ChatModels: GPT-3.5-Turbo e GPT-4"
   ]
  },
  {
   "cell_type": "code",
   "execution_count": 7,
   "id": "89a44e44-6302-478d-ac01-9bf04cb0e5d8",
   "metadata": {
    "execution": {
     "iopub.execute_input": "2024-02-15T10:50:39.964376Z",
     "iopub.status.busy": "2024-02-15T10:50:39.964231Z",
     "iopub.status.idle": "2024-02-15T10:50:40.008934Z",
     "shell.execute_reply": "2024-02-15T10:50:40.007881Z",
     "shell.execute_reply.started": "2024-02-15T10:50:39.964366Z"
    }
   },
   "outputs": [],
   "source": [
    "chat = ChatOpenAI(\n",
    "    model_name='gpt-3.5-turbo',\n",
    "    temperature=0.5,\n",
    "    max_tokens=1024\n",
    ")"
   ]
  },
  {
   "cell_type": "code",
   "execution_count": 8,
   "id": "3efd9aa4-50c4-465e-9b33-951298fb52f7",
   "metadata": {
    "execution": {
     "iopub.execute_input": "2024-02-15T10:50:40.985627Z",
     "iopub.status.busy": "2024-02-15T10:50:40.985018Z",
     "iopub.status.idle": "2024-02-15T10:50:40.989909Z",
     "shell.execute_reply": "2024-02-15T10:50:40.989534Z",
     "shell.execute_reply.started": "2024-02-15T10:50:40.985574Z"
    }
   },
   "outputs": [],
   "source": [
    "messages = [\n",
    "    SystemMessage(content=\"Voce e um especialista em machine learning que responde tudo em portugues do Brasil\"),\n",
    "    HumanMessage(content=\"explique em um paragrafo o que e machine learning.\")\n",
    "]"
   ]
  },
  {
   "cell_type": "code",
   "execution_count": 9,
   "id": "170cf840-622b-4143-9eb6-60f44fac66b4",
   "metadata": {
    "execution": {
     "iopub.execute_input": "2024-02-15T10:50:42.587079Z",
     "iopub.status.busy": "2024-02-15T10:50:42.586903Z",
     "iopub.status.idle": "2024-02-15T10:50:46.037124Z",
     "shell.execute_reply": "2024-02-15T10:50:46.036717Z",
     "shell.execute_reply.started": "2024-02-15T10:50:42.587068Z"
    }
   },
   "outputs": [],
   "source": [
    "output = chat(messages)"
   ]
  },
  {
   "cell_type": "code",
   "execution_count": 10,
   "id": "d1b7be10-6dba-4ee2-8516-9636197e78b4",
   "metadata": {
    "execution": {
     "iopub.execute_input": "2024-02-15T10:50:48.970352Z",
     "iopub.status.busy": "2024-02-15T10:50:48.970200Z",
     "iopub.status.idle": "2024-02-15T10:50:48.972758Z",
     "shell.execute_reply": "2024-02-15T10:50:48.972362Z",
     "shell.execute_reply.started": "2024-02-15T10:50:48.970340Z"
    }
   },
   "outputs": [
    {
     "name": "stdout",
     "output_type": "stream",
     "text": [
      "Machine learning é uma área da inteligência artificial que se baseia em algoritmos e modelos estatísticos para permitir que um sistema aprenda a partir de dados, sem ser explicitamente programado. Essa abordagem permite que as máquinas adquiram conhecimento e habilidades a partir da análise de grandes quantidades de dados, possibilitando a tomada de decisões, previsões e resolução de problemas de forma automatizada e mais eficiente.\n"
     ]
    }
   ],
   "source": [
    "print(output.content)"
   ]
  },
  {
   "cell_type": "markdown",
   "id": "8fbec47e-c5a6-4d97-b46d-73a0a5f7162c",
   "metadata": {},
   "source": [
    "### Prompt Templates"
   ]
  },
  {
   "cell_type": "code",
   "execution_count": 35,
   "id": "b2afcfe0-e75c-426a-a4e8-858b5b6d3bcc",
   "metadata": {
    "execution": {
     "iopub.execute_input": "2023-12-04T11:03:13.377849Z",
     "iopub.status.busy": "2023-12-04T11:03:13.377689Z",
     "iopub.status.idle": "2023-12-04T11:03:13.380701Z",
     "shell.execute_reply": "2023-12-04T11:03:13.380138Z",
     "shell.execute_reply.started": "2023-12-04T11:03:13.377838Z"
    }
   },
   "outputs": [
    {
     "name": "stdout",
     "output_type": "stream",
     "text": [
      "input_variables=['idioma', 'virus'] template='Você é um virologista experiente.\\nEscreva 5 frases sobre o vírus {virus} no idioma {idioma}.'\n"
     ]
    }
   ],
   "source": [
    "meu_template = \"\"\"Você é um virologista experiente.\n",
    "Escreva 5 frases sobre o vírus {virus} no idioma {idioma}.\"\"\"\n",
    "\n",
    "prompt = PromptTemplate(\n",
    "    input_variables=['virus', 'idioma'],\n",
    "    template=meu_template\n",
    ")\n",
    "\n",
    "print(prompt)"
   ]
  },
  {
   "cell_type": "code",
   "execution_count": 38,
   "id": "315830a2-53b0-451c-945d-5b3de3225947",
   "metadata": {
    "execution": {
     "iopub.execute_input": "2023-12-04T11:03:35.909951Z",
     "iopub.status.busy": "2023-12-04T11:03:35.909792Z",
     "iopub.status.idle": "2023-12-04T11:03:42.056279Z",
     "shell.execute_reply": "2023-12-04T11:03:42.055731Z",
     "shell.execute_reply.started": "2023-12-04T11:03:35.909940Z"
    }
   },
   "outputs": [],
   "source": [
    "llm = OpenAI(\n",
    "    model_name='text-davinci-003',\n",
    "    temperature=0.7\n",
    ")\n",
    "\n",
    "output = llm(prompt.format(virus='covid-19', idioma='portugues do brasil'))"
   ]
  },
  {
   "cell_type": "code",
   "execution_count": 39,
   "id": "3921b580-ac24-40f6-91d5-1b6bfa8dc685",
   "metadata": {
    "execution": {
     "iopub.execute_input": "2023-12-04T11:03:42.057056Z",
     "iopub.status.busy": "2023-12-04T11:03:42.056944Z",
     "iopub.status.idle": "2023-12-04T11:03:42.059022Z",
     "shell.execute_reply": "2023-12-04T11:03:42.058799Z",
     "shell.execute_reply.started": "2023-12-04T11:03:42.057046Z"
    }
   },
   "outputs": [
    {
     "name": "stdout",
     "output_type": "stream",
     "text": [
      "\n",
      "\n",
      "1. O vírus covid-19 pode ser transmitido de pessoa para pessoa através de contato próximo ou por gotículas de saliva. \n",
      "2. É importante praticar medidas de higiene frequentes, como lavar as mãos ou usar álcool em gel, para evitar a propagação do vírus.\n",
      "3. O vírus covid-19 pode causar sintomas leves a graves, como tosse, febre, falta de ar e dificuldades respiratórias.\n",
      "4. As pessoas de maior risco para a doença são aquelas com idade avançada ou que possuem doenças preexistentes.\n",
      "5. A melhor maneira de prevenir a propagação do vírus covid-19 é evitando contato próximo com outras pessoas e seguindo as orientações das autoridades de saúde.\n"
     ]
    }
   ],
   "source": [
    "print(output)"
   ]
  },
  {
   "cell_type": "markdown",
   "id": "d0788566-6b6c-41e1-92f3-72d44b0b8338",
   "metadata": {},
   "source": [
    "### Simple Chains"
   ]
  },
  {
   "cell_type": "code",
   "execution_count": 41,
   "id": "d93b84a7-b0a2-4e52-a199-66fdc67ddc38",
   "metadata": {
    "execution": {
     "iopub.execute_input": "2023-12-04T11:14:42.980316Z",
     "iopub.status.busy": "2023-12-04T11:14:42.980144Z",
     "iopub.status.idle": "2023-12-04T11:14:42.983661Z",
     "shell.execute_reply": "2023-12-04T11:14:42.983436Z",
     "shell.execute_reply.started": "2023-12-04T11:14:42.980305Z"
    }
   },
   "outputs": [],
   "source": [
    "llm = ChatOpenAI(\n",
    "    model_name='gpt-4',\n",
    "    temperature=0.5\n",
    ")\n",
    "\n",
    "meu_template = \"\"\"Você é um virologista experiente.\n",
    "Escreva um resumo sobre o vírus {virus} no idioma {idioma}.\"\"\"\n",
    "\n",
    "prompt = PromptTemplate(\n",
    "    input_variables=['virus', 'idioma'],\n",
    "    template=meu_template\n",
    ")\n",
    "\n",
    "chain = LLMChain(llm=llm, prompt=prompt)"
   ]
  },
  {
   "cell_type": "code",
   "execution_count": 42,
   "id": "601b2aeb-b8b3-4f49-ac27-4edf97a13725",
   "metadata": {
    "execution": {
     "iopub.execute_input": "2023-12-04T11:16:03.674569Z",
     "iopub.status.busy": "2023-12-04T11:16:03.674384Z",
     "iopub.status.idle": "2023-12-04T11:16:35.114128Z",
     "shell.execute_reply": "2023-12-04T11:16:35.113560Z",
     "shell.execute_reply.started": "2023-12-04T11:16:03.674559Z"
    }
   },
   "outputs": [],
   "source": [
    "output = chain.run({\n",
    "    'virus':'covid-19','idioma':'portugues do brasil'\n",
    "})"
   ]
  },
  {
   "cell_type": "code",
   "execution_count": 43,
   "id": "63ea3d92-716f-487b-9701-8c0639be4c97",
   "metadata": {
    "execution": {
     "iopub.execute_input": "2023-12-04T11:16:41.256731Z",
     "iopub.status.busy": "2023-12-04T11:16:41.256546Z",
     "iopub.status.idle": "2023-12-04T11:16:41.259297Z",
     "shell.execute_reply": "2023-12-04T11:16:41.258921Z",
     "shell.execute_reply.started": "2023-12-04T11:16:41.256721Z"
    }
   },
   "outputs": [
    {
     "name": "stdout",
     "output_type": "stream",
     "text": [
      "O COVID-19 é uma doença infecciosa causada pelo coronavírus SARS-CoV-2. Foi identificado pela primeira vez em Wuhan, China, em dezembro de 2019 e, desde então, desencadeou uma pandemia global. O vírus se espalha principalmente através de gotículas produzidas quando uma pessoa infectada tosse, espirra ou fala. Também pode se espalhar tocando uma superfície ou objeto contaminado e depois tocando a boca, nariz ou olhos.\n",
      "\n",
      "Os sintomas do COVID-19 variam em gravidade, desde infecções assintomáticas ou leves a casos graves ou críticos. Os sintomas mais comuns incluem febre, tosse seca e cansaço, mas também podem incluir dores no corpo, dor de garganta, perda de paladar ou olfato, e dificuldade para respirar. Em casos graves, pode levar a pneumonia, síndrome respiratória aguda grave e morte.\n",
      "\n",
      "A prevenção da COVID-19 envolve medidas de saúde pública para reduzir a transmissão do vírus. Isso inclui distanciamento físico, uso de máscaras faciais, higienização frequente das mãos, cobrir a boca ao tossir ou espirrar e limpeza e desinfecção regulares. Vacinas para COVID-19 foram desenvolvidas e estão sendo distribuídas globalmente, o que tem um papel crucial no controle da pandemia.\n",
      "\n",
      "O tratamento para COVID-19 depende da gravidade dos sintomas. Pode variar de autoisolamento e repouso em casa para casos leves, até hospitalização e tratamento intensivo para casos graves. Até o momento, não há cura específica para o COVID-19, mas várias terapias estão sendo investigadas e utilizadas para gerenciar os sintomas e complicações da doença.\n"
     ]
    }
   ],
   "source": [
    "print(output)"
   ]
  },
  {
   "cell_type": "markdown",
   "id": "53dd739e-5c37-48e1-af47-2efcb239ade3",
   "metadata": {},
   "source": [
    "### Sequencial Chains"
   ]
  },
  {
   "cell_type": "code",
   "execution_count": 18,
   "id": "40a2e72a-7bb2-4a9a-956a-03b0c29b9a49",
   "metadata": {
    "execution": {
     "iopub.execute_input": "2023-12-08T11:10:48.177111Z",
     "iopub.status.busy": "2023-12-08T11:10:48.176907Z",
     "iopub.status.idle": "2023-12-08T11:10:48.180364Z",
     "shell.execute_reply": "2023-12-08T11:10:48.180076Z",
     "shell.execute_reply.started": "2023-12-08T11:10:48.177099Z"
    }
   },
   "outputs": [],
   "source": [
    "#--- primeira chain ---\n",
    "\n",
    "llm1 = OpenAI(\n",
    "    model_name='text-davinci-003',\n",
    "    temperature=0.7,\n",
    "    max_tokens=1024\n",
    ")\n",
    "\n",
    "prompt1 = PromptTemplate(\n",
    "    input_variables=['conceito'],\n",
    "    template=\"\"\"\n",
    "    Voce e um cientista experiente e programador Python.\n",
    "    Escreva uma funcao que implementa o conceito de {conceito}\"\"\"\n",
    ")\n",
    "\n",
    "chain1 = LLMChain(llm=llm1, prompt=prompt1)"
   ]
  },
  {
   "cell_type": "code",
   "execution_count": 26,
   "id": "09cf3b6d-8882-4da0-80ca-b9361108526c",
   "metadata": {
    "execution": {
     "iopub.execute_input": "2023-12-08T11:14:31.279609Z",
     "iopub.status.busy": "2023-12-08T11:14:31.279444Z",
     "iopub.status.idle": "2023-12-08T11:14:31.282629Z",
     "shell.execute_reply": "2023-12-08T11:14:31.282327Z",
     "shell.execute_reply.started": "2023-12-08T11:14:31.279597Z"
    }
   },
   "outputs": [],
   "source": [
    "# --- segunda chain ---\n",
    "\n",
    "llm2 = ChatOpenAI(\n",
    "    model_name='gpt-3.5-turbo',\n",
    "    temperature=1.2\n",
    ")\n",
    "\n",
    "prompt2 = PromptTemplate(\n",
    "    input_variables=['function'],\n",
    "    template=\"\"\"Dada a funcao Python {function}, descreva como funciona da forma mais detalhada possivel e por ultimo exiba a o codigo da funcao\"\"\"\n",
    ")\n",
    "\n",
    "chain2 = LLMChain(llm=llm2, prompt=prompt2)"
   ]
  },
  {
   "cell_type": "code",
   "execution_count": 27,
   "id": "c3635a5c-7fbc-447b-a5ff-e6a111b1fa1b",
   "metadata": {
    "execution": {
     "iopub.execute_input": "2023-12-08T11:14:33.496730Z",
     "iopub.status.busy": "2023-12-08T11:14:33.496568Z",
     "iopub.status.idle": "2023-12-08T11:14:53.121163Z",
     "shell.execute_reply": "2023-12-08T11:14:53.120881Z",
     "shell.execute_reply.started": "2023-12-08T11:14:33.496718Z"
    },
    "scrolled": true
   },
   "outputs": [
    {
     "name": "stdout",
     "output_type": "stream",
     "text": [
      "\n",
      "\n",
      "\u001b[1m> Entering new SimpleSequentialChain chain...\u001b[0m\n",
      "\u001b[36;1m\u001b[1;3m.\n",
      "\n",
      "def linear_regression(x, y):\n",
      "    '''Esta funcao implementa o conceito de regressao linear.\n",
      "    \n",
      "    Ela calcula a linha de regressao que melhor se ajusta aos dados x e y,\n",
      "    usando o metodo dos minimos quadrados.\n",
      "    \n",
      "    Args:\n",
      "        x: Lista de valores de x.\n",
      "        y: Lista de valores de y.\n",
      "        \n",
      "    Retorna:\n",
      "        A inclinacao (m) e o intercepto (b) da linha de regressao.\n",
      "    '''\n",
      "    N = len(x)\n",
      "    \n",
      "    # Calcula a media dos valores de x e y\n",
      "    x_mean = sum(x)/N\n",
      "    y_mean = sum(y)/N\n",
      "    \n",
      "    # Calcula os coeficientes da regressao linear\n",
      "    numerador = 0\n",
      "    denominador = 0\n",
      "    for i in range(N):\n",
      "        numerador += (x[i] - x_mean) * (y[i] - y_mean)\n",
      "        denominador += (x[i] - x_mean)**2\n",
      "    m = numerador/denominador\n",
      "    b = y_mean - m*x_mean\n",
      "    \n",
      "    return m, b\u001b[0m\n",
      "\u001b[33;1m\u001b[1;3mA função `linear_regression` implementa o conceito de regressão linear, que é um método estatístico para encontrar a melhor linha de ajuste aos dados.\n",
      "A função recebe duas listas de valores, `x` e `y`, que representam os pontos no gráfico. Ela calcula a inclinação (m) e o intercepto (b) da linha de regressão que melhor se ajusta aos dados usando o método dos mínimos quadrados.\n",
      "\n",
      "A função começa obtendo o número de elementos nas listas `x` e `y`. Isso é armazenado em `N` por meio da função `len()`.\n",
      "\n",
      "Em seguida, a função calcula a média dos valores de `x` e `y`. Isso é feito somando todos os elementos da lista e dividindo pelo total de elementos. A média de `x` é armazenada em `x_mean`, e a média de `y` é armazenada em `y_mean`.\n",
      "\n",
      "Agora a função inicia o cálculo dos coeficientes da regressão linear. Ela usa um loop `for` para percorrer todos os elementos das listas `x` e `y`. Para cada elemento, ela calcula as diferenças em relação às médias de `x` e `y` e as multiplica. Esses valores são somados ao numerador.\n",
      "\n",
      "A função também calcula o denominador somando as diferenças de `x` em relação à média de `x` ao quadrado.\n",
      "\n",
      "Em seguida, a função calcula o coeficiente angular `m` dividindo o numerador pelo denominador e calcula o coeficiente linear `b` subtraindo `m` multiplicado pela média de `x` da média de `y`.\n",
      "\n",
      "Por fim, a função retorna `m` e `b`, ou seja, a inclinação e o intercepto da linha de regressão.\n",
      "\n",
      "Aqui está o código da função:\n",
      "\n",
      "```python\n",
      "def linear_regression(x, y):\n",
      "    N = len(x)\n",
      "    \n",
      "    x_mean = sum(x)/N\n",
      "    y_mean = sum(y)/N\n",
      "    \n",
      "    numerador = 0\n",
      "    denominador = 0\n",
      "    \n",
      "    for i in range(N):\n",
      "        numerador += (x[i] - x_mean) * (y[i] - y_mean)\n",
      "        denominador += (x[i] - x_mean)**2\n",
      "    \n",
      "    m = numerador/denominador\n",
      "    b = y_mean - m*x_mean\n",
      "    \n",
      "    return m, b\n",
      "```\n",
      "\n",
      "A função recebe uma lista de valores `x` e uma lista de valores `y` e retorna a inclinação `m` e o intercepto `b`, que são os coeficientes da linha de regressão que melhor se ajustam aos dados.\u001b[0m\n",
      "\n",
      "\u001b[1m> Finished chain.\u001b[0m\n"
     ]
    }
   ],
   "source": [
    "overall_chain = SimpleSequentialChain(chains=[chain1, chain2], verbose=True)\n",
    "output = overall_chain.run('regressao linear')"
   ]
  },
  {
   "cell_type": "code",
   "execution_count": 28,
   "id": "04c2c0c1-9e74-43c4-8442-816be4f7c647",
   "metadata": {
    "execution": {
     "iopub.execute_input": "2023-12-08T11:14:57.979642Z",
     "iopub.status.busy": "2023-12-08T11:14:57.979398Z",
     "iopub.status.idle": "2023-12-08T11:14:57.982457Z",
     "shell.execute_reply": "2023-12-08T11:14:57.982021Z",
     "shell.execute_reply.started": "2023-12-08T11:14:57.979622Z"
    },
    "scrolled": true
   },
   "outputs": [
    {
     "name": "stdout",
     "output_type": "stream",
     "text": [
      "A função `linear_regression` implementa o conceito de regressão linear, que é um método estatístico para encontrar a melhor linha de ajuste aos dados.\n",
      "A função recebe duas listas de valores, `x` e `y`, que representam os pontos no gráfico. Ela calcula a inclinação (m) e o intercepto (b) da linha de regressão que melhor se ajusta aos dados usando o método dos mínimos quadrados.\n",
      "\n",
      "A função começa obtendo o número de elementos nas listas `x` e `y`. Isso é armazenado em `N` por meio da função `len()`.\n",
      "\n",
      "Em seguida, a função calcula a média dos valores de `x` e `y`. Isso é feito somando todos os elementos da lista e dividindo pelo total de elementos. A média de `x` é armazenada em `x_mean`, e a média de `y` é armazenada em `y_mean`.\n",
      "\n",
      "Agora a função inicia o cálculo dos coeficientes da regressão linear. Ela usa um loop `for` para percorrer todos os elementos das listas `x` e `y`. Para cada elemento, ela calcula as diferenças em relação às médias de `x` e `y` e as multiplica. Esses valores são somados ao numerador.\n",
      "\n",
      "A função também calcula o denominador somando as diferenças de `x` em relação à média de `x` ao quadrado.\n",
      "\n",
      "Em seguida, a função calcula o coeficiente angular `m` dividindo o numerador pelo denominador e calcula o coeficiente linear `b` subtraindo `m` multiplicado pela média de `x` da média de `y`.\n",
      "\n",
      "Por fim, a função retorna `m` e `b`, ou seja, a inclinação e o intercepto da linha de regressão.\n",
      "\n",
      "Aqui está o código da função:\n",
      "\n",
      "```python\n",
      "def linear_regression(x, y):\n",
      "    N = len(x)\n",
      "    \n",
      "    x_mean = sum(x)/N\n",
      "    y_mean = sum(y)/N\n",
      "    \n",
      "    numerador = 0\n",
      "    denominador = 0\n",
      "    \n",
      "    for i in range(N):\n",
      "        numerador += (x[i] - x_mean) * (y[i] - y_mean)\n",
      "        denominador += (x[i] - x_mean)**2\n",
      "    \n",
      "    m = numerador/denominador\n",
      "    b = y_mean - m*x_mean\n",
      "    \n",
      "    return m, b\n",
      "```\n",
      "\n",
      "A função recebe uma lista de valores `x` e uma lista de valores `y` e retorna a inclinação `m` e o intercepto `b`, que são os coeficientes da linha de regressão que melhor se ajustam aos dados.\n"
     ]
    }
   ],
   "source": [
    "print(output)"
   ]
  },
  {
   "cell_type": "markdown",
   "id": "e1a9943f-c961-4f77-98c9-bb7807b19782",
   "metadata": {
    "execution": {
     "iopub.execute_input": "2023-12-08T11:30:56.788367Z",
     "iopub.status.busy": "2023-12-08T11:30:56.788109Z",
     "iopub.status.idle": "2023-12-08T11:30:56.791037Z",
     "shell.execute_reply": "2023-12-08T11:30:56.790610Z",
     "shell.execute_reply.started": "2023-12-08T11:30:56.788347Z"
    }
   },
   "source": [
    "### LangChain Agents"
   ]
  },
  {
   "cell_type": "code",
   "execution_count": 7,
   "id": "962d6574-c0b6-4031-b7f9-5e8647e7234e",
   "metadata": {
    "execution": {
     "iopub.execute_input": "2023-12-16T10:34:42.826339Z",
     "iopub.status.busy": "2023-12-16T10:34:42.826071Z",
     "iopub.status.idle": "2023-12-16T10:34:42.829617Z",
     "shell.execute_reply": "2023-12-16T10:34:42.829240Z",
     "shell.execute_reply.started": "2023-12-16T10:34:42.826324Z"
    }
   },
   "outputs": [],
   "source": [
    "llm = OpenAI(temperature=0)\n",
    "agent_executor = create_python_agent(\n",
    "    llm=llm,\n",
    "    tool=PythonAstREPLTool(),\n",
    "    verbose=True\n",
    ")"
   ]
  },
  {
   "cell_type": "code",
   "execution_count": 5,
   "id": "fba64e91-697d-4e19-974b-dc47ce2d1044",
   "metadata": {
    "execution": {
     "iopub.execute_input": "2023-12-16T10:34:06.144154Z",
     "iopub.status.busy": "2023-12-16T10:34:06.143992Z",
     "iopub.status.idle": "2023-12-16T10:34:09.171308Z",
     "shell.execute_reply": "2023-12-16T10:34:09.171047Z",
     "shell.execute_reply.started": "2023-12-16T10:34:06.144141Z"
    }
   },
   "outputs": [
    {
     "name": "stdout",
     "output_type": "stream",
     "text": [
      "\n",
      "\n",
      "\u001b[1m> Entering new AgentExecutor chain...\u001b[0m\n",
      "\u001b[32;1m\u001b[1;3m I need to calculate the square root of the factorial of 20\n",
      "Action: python_repl_ast\n",
      "Action Input: from math import factorial; print(f\"{round(factorial(20)**0.5, 4)}\")\u001b[0m\n",
      "Observation: \u001b[36;1m\u001b[1;3m1559776268.6285\n",
      "\u001b[0m\n",
      "Thought:\u001b[32;1m\u001b[1;3m I now know the final answer\n",
      "Final Answer: 1559776268.6285\u001b[0m\n",
      "\n",
      "\u001b[1m> Finished chain.\u001b[0m\n"
     ]
    },
    {
     "data": {
      "text/plain": [
       "'1559776268.6285'"
      ]
     },
     "execution_count": 5,
     "metadata": {},
     "output_type": "execute_result"
    }
   ],
   "source": [
    "agent_executor.run('calcule a raiz quadrada do fatorial de 20 e exiba com quatro casas decimais')"
   ]
  },
  {
   "cell_type": "markdown",
   "id": "a3c9893a-f8ca-49fc-ac7e-c12a20087981",
   "metadata": {},
   "source": [
    "### Splitting e Embedding de texto"
   ]
  },
  {
   "cell_type": "code",
   "execution_count": 127,
   "id": "dc471425-4d0d-4a03-8073-ab05e16e50e1",
   "metadata": {
    "execution": {
     "iopub.execute_input": "2024-02-11T11:52:20.200030Z",
     "iopub.status.busy": "2024-02-11T11:52:20.199695Z",
     "iopub.status.idle": "2024-02-11T11:52:20.203066Z",
     "shell.execute_reply": "2024-02-11T11:52:20.202661Z",
     "shell.execute_reply.started": "2024-02-11T11:52:20.200010Z"
    }
   },
   "outputs": [],
   "source": [
    "with open('docs/nat.txt') as f:\n",
    "    clt = f.read()\n",
    "\n",
    "text_splitter = RecursiveCharacterTextSplitter(\n",
    "    chunk_size=500,\n",
    "    chunk_overlap=10,\n",
    "    length_function=len\n",
    ")"
   ]
  },
  {
   "cell_type": "code",
   "execution_count": 128,
   "id": "6e3095f2-2f51-4ebb-8926-4a467cef7e1b",
   "metadata": {
    "execution": {
     "iopub.execute_input": "2024-02-11T11:52:21.014996Z",
     "iopub.status.busy": "2024-02-11T11:52:21.014693Z",
     "iopub.status.idle": "2024-02-11T11:52:21.017690Z",
     "shell.execute_reply": "2024-02-11T11:52:21.017265Z",
     "shell.execute_reply.started": "2024-02-11T11:52:21.014976Z"
    }
   },
   "outputs": [],
   "source": [
    "chunks = text_splitter.create_documents([clt])"
   ]
  },
  {
   "cell_type": "code",
   "execution_count": 129,
   "id": "982e64a2-62e7-4ebf-b650-503e60ca9994",
   "metadata": {
    "execution": {
     "iopub.execute_input": "2024-02-11T11:52:21.525765Z",
     "iopub.status.busy": "2024-02-11T11:52:21.525555Z",
     "iopub.status.idle": "2024-02-11T11:52:21.528701Z",
     "shell.execute_reply": "2024-02-11T11:52:21.528382Z",
     "shell.execute_reply.started": "2024-02-11T11:52:21.525746Z"
    },
    "scrolled": true
   },
   "outputs": [
    {
     "data": {
      "text/plain": [
       "9"
      ]
     },
     "execution_count": 129,
     "metadata": {},
     "output_type": "execute_result"
    }
   ],
   "source": [
    "len(chunks)\n"
   ]
  },
  {
   "cell_type": "code",
   "execution_count": 146,
   "id": "7cc83e09-d7a3-4089-ad9a-6b6c09a6d9ef",
   "metadata": {
    "execution": {
     "iopub.execute_input": "2024-02-11T11:53:39.888744Z",
     "iopub.status.busy": "2024-02-11T11:53:39.888492Z",
     "iopub.status.idle": "2024-02-11T11:53:39.890946Z",
     "shell.execute_reply": "2024-02-11T11:53:39.890659Z",
     "shell.execute_reply.started": "2024-02-11T11:53:39.888729Z"
    }
   },
   "outputs": [
    {
     "name": "stdout",
     "output_type": "stream",
     "text": [
      "NAT: Núcleo de Apoio Técnico\n",
      "\n",
      "Coordenadora-Geral: Marcela Cristina Ozório\n",
      "Coordenador-Adjunto: Bernardo Fiterman Albano\n"
     ]
    }
   ],
   "source": [
    "print(chunks[0].page_content)"
   ]
  },
  {
   "cell_type": "code",
   "execution_count": 147,
   "id": "f7ae2900-7832-4a07-ae37-b3fef5c366cc",
   "metadata": {
    "execution": {
     "iopub.execute_input": "2024-02-11T11:53:41.922480Z",
     "iopub.status.busy": "2024-02-11T11:53:41.922320Z",
     "iopub.status.idle": "2024-02-11T11:53:41.925171Z",
     "shell.execute_reply": "2024-02-11T11:53:41.924843Z",
     "shell.execute_reply.started": "2024-02-11T11:53:41.922468Z"
    }
   },
   "outputs": [],
   "source": [
    "def embedding_cost(texts):\n",
    "    enc = tiktoken.encoding_for_model('text-embedding-ada-002')\n",
    "    total_tokens = sum([len(enc.encode(page.page_content)) for page in texts])\n",
    "    total_em_dolar = total_tokens / 1000 * 0.0001\n",
    "    print(f'Total de tokens: {total_tokens}')\n",
    "    print(f'Custo de Embedding em USD: {total_em_dolar:.6f}')\n",
    "    print(f'Custo de Embedding em R$: {total_em_dolar * 4.95:.6f}')"
   ]
  },
  {
   "cell_type": "code",
   "execution_count": 148,
   "id": "ebc162a7-dafc-4c8b-96f3-dba11f0f8994",
   "metadata": {
    "execution": {
     "iopub.execute_input": "2024-02-11T11:53:44.601688Z",
     "iopub.status.busy": "2024-02-11T11:53:44.601435Z",
     "iopub.status.idle": "2024-02-11T11:53:44.604240Z",
     "shell.execute_reply": "2024-02-11T11:53:44.603970Z",
     "shell.execute_reply.started": "2024-02-11T11:53:44.601675Z"
    }
   },
   "outputs": [
    {
     "name": "stdout",
     "output_type": "stream",
     "text": [
      "Total de tokens: 818\n",
      "Custo de Embedding em USD: 0.000082\n",
      "Custo de Embedding em R$: 0.000405\n"
     ]
    }
   ],
   "source": [
    "embedding_cost(chunks)"
   ]
  },
  {
   "cell_type": "code",
   "execution_count": 149,
   "id": "b7e273e5-9467-45ca-9387-f2a428d0401b",
   "metadata": {
    "execution": {
     "iopub.execute_input": "2024-02-11T11:53:47.108925Z",
     "iopub.status.busy": "2024-02-11T11:53:47.108760Z",
     "iopub.status.idle": "2024-02-11T11:53:47.111511Z",
     "shell.execute_reply": "2024-02-11T11:53:47.111166Z",
     "shell.execute_reply.started": "2024-02-11T11:53:47.108912Z"
    }
   },
   "outputs": [],
   "source": [
    "embeddings = OpenAIEmbeddings()"
   ]
  },
  {
   "cell_type": "code",
   "execution_count": 150,
   "id": "146d4e1d-9ad2-4bef-8436-ddb2f3d444b2",
   "metadata": {
    "execution": {
     "iopub.execute_input": "2024-02-11T11:53:47.856343Z",
     "iopub.status.busy": "2024-02-11T11:53:47.856131Z",
     "iopub.status.idle": "2024-02-11T11:53:48.163411Z",
     "shell.execute_reply": "2024-02-11T11:53:48.163058Z",
     "shell.execute_reply.started": "2024-02-11T11:53:47.856329Z"
    }
   },
   "outputs": [],
   "source": [
    "vector = embeddings.embed_query(chunks[0].page_content)"
   ]
  },
  {
   "cell_type": "code",
   "execution_count": 151,
   "id": "fc547190-9721-4554-b80a-02408af120f3",
   "metadata": {
    "execution": {
     "iopub.execute_input": "2024-02-11T11:53:48.970108Z",
     "iopub.status.busy": "2024-02-11T11:53:48.969942Z",
     "iopub.status.idle": "2024-02-11T11:53:48.972838Z",
     "shell.execute_reply": "2024-02-11T11:53:48.972473Z",
     "shell.execute_reply.started": "2024-02-11T11:53:48.970095Z"
    },
    "scrolled": true
   },
   "outputs": [
    {
     "name": "stdout",
     "output_type": "stream",
     "text": [
      "[-0.024427912094871006, 0.00519900227828066, 0.019773696288307465, -0.020769106928320225, -0.011110933874245265, 0.030238959100842643, -0.00589511703197114, -0.011339608964324037, 0.004334743747300751, 0.004089254093228515, 0.011938200736968595, -0.015146381735223736, 0.002322064092877294, -0.011252174535409672, -0.0007280620876736171, 0.004906432403820288, 0.010014636781594326, -0.014581419090566107, -0.007687528878312557, -0.014621774230414941, -0.00527634862072477, 0.01502531910964505, 0.01261750092666561, 0.0011349697982116897, 0.012711661367441882, -0.011709525646889823, -0.0023506484791371404, -0.03900933397940493, 0.018509256349689706, -0.04315239337356088, 0.014998415993520028, -0.0019252451090937671, 0.020029273563188652, -0.03548504159951144, -0.010949516108817742, -0.020083079795438698, 0.00032472748362568813, -0.016209049699887745, 0.013626363590402183, -0.0215223904545304, 0.010384553464160113, 0.005568918495185143, 0.010707388995015157, -0.016948883065019318, -0.010283667011521934, 0.0207422028808726, -0.016679851903769104, 0.012160150746508065, -0.03134198220535549, 0.021818323800583028, -0.0004285561881036421, 0.03413989138119601, -0.006806455783339185, -0.01814606474766322, -0.0294049652949348, -0.008387006172272688, -0.02625731654079161, -0.002863486860171507, -0.01324299581543519, -0.01592656837755893, -0.0019773697219630073, -0.017634908335255634, -0.019733342079781238, 0.015496121313526408, 0.004230494754392923, 0.004425541647807373, -0.004257397870517944, 0.03879410905040476, -0.015321251524375072, -0.0013249721827297096, 0.02436065570154236, 0.025382968526357536, 0.017150654107650463, -0.005256171050800353, 0.04056970540143011, 0.010983145236804671, 0.006365919701513801, -0.0036352662205099695, 0.0009104979998853062, 0.0006801411740104058, 0.024562428606818718, -0.013895392889007185, -0.021899032217635485, -0.0053536944975075785, 0.019020412762097292, 0.0040657139830344476, 0.009079758385693517, 0.006016180588872433, 0.019249087852176064, -0.012583872730001288, 0.016504983045940374, 0.03317138292598566, 0.03134198220535549, 0.0035343800007024426, -0.005108204843435342, 0.010088620118107483, -0.008945243736391016, 0.022894442857648245, -0.006675303674306334, -0.03868649658590467, -0.030427279982395188, 0.015523024429651429, -0.015630636894151513, -0.011554832962001601, -0.03510839983640635, -0.018764833624570893, 0.023553565943082146, 0.004906432403820288, 0.019652631800083566, 0.000559918426799514, -0.03572716685066881, 0.020244498492188824, -0.02015033805141255, -0.012752016507290718, -0.010835178563778356, -0.009947379456943076, 0.012368648732323724, -0.018226775027360892, 0.006261670242944669, -0.001574665477800312, 0.03513530388385398, 0.021334069572977857, 0.03798701742929933, 0.008992323956779152, 0.02305586155439837, 0.001950466605837986, 0.006456717136359119, -0.01937015047775475, -0.014756288879717442, -0.015200187967473779, -0.00026734843592381613, 0.002248080989194788, -0.0026264042552653515, 0.017029591482071775, -0.0016209050631210353, 0.006823270347332649, -0.011554832962001601, -0.011312706779521621, -0.04021996768577265, -0.013229544723033983, 0.02406472235548973, 0.03626522917316924, -0.01046526188121257, -0.0033443776161844224, 0.0036285404414787142, 0.00831302283575953, 0.02753520850313318, 0.004280937980712012, 0.013095029142408876, 0.028947615114777257, 0.019719890056057423, -0.02827504000561954, -0.007149468884118646, -0.012429180045113068, -0.004940061066145913, -0.0012610775147634354, 0.007162920442181157, 0.02787149605771204, -0.017688714567505676, -0.012032361177744866, -0.0039581019841956645, 0.013444767789388941, 0.015711345311203974, -0.01686817278532165, 0.010936065016416535, 0.03333280348538101, -0.01639737058144029, 0.0016990918078019068, 0.013222818711172075, 0.014689031555066193, 0.004284300986642965, 0.007714431994437579, -0.01740623324517686, 0.011124385897969078, 0.001960555157969543, 0.025342614317831306, 0.00437173541555733, -0.00389757043857567, -0.018374739837741995, -0.014460355533664813, 0.001847898999480308, -0.01370034692691534, 0.0019168379435123607, 0.011003322341067785, -0.0288669066977248, 0.015146381735223736, 0.015899666192756515, 0.020553881999320053, 0.02134752159670167, -0.005027495960721581, 0.0221815135399643, -0.0019319707717096967, 0.0024565789750104457, 0.007465579334434389, -0.6357714153306796, -0.021266811317004, -0.009799413715239368, -0.03075011551325023, 0.0010475351364666733, 0.00010498470866288781, 0.013276624943422117, -0.005192276732080056, -0.022611961535319428, -0.049824332644952354, -0.014541064882039878, -0.007707705982575672, -0.011124385897969078, -0.0022766653754546346, -0.01674711015974296, -0.03222977851822295, -0.010835178563778356, 0.015280897315848843, 0.019033864785821107, 0.004075802535166004, -0.020365561117767512, -0.00013419967308670383, 0.003618451889347157, 0.025409872573805163, 0.008508069729173982, -0.0057202477084811075, 0.02452207439829249, -0.0070889371056679995, -0.023432503317503458, -0.008117976873667688, -0.034543437191748724, 0.00804399353715453, -0.0012762104593760971, -0.011736428763014844, 0.04500869814163869, 0.0007688369629795296, -0.027763883593211955, 0.023782241033160918, -0.014352744000487335, 0.01900696073837348, -0.022719573999819515, -0.013579283370014046, 0.03222977851822295, -0.009147015710344767, 0.006624860913648548, 0.01224758517542243, 0.014366195092888542, -0.015980374609808973, -0.018805187833097124, -0.032687128698380495, 0.010276940999660027, -0.024629685000147363, -0.018630318975268394, 0.014931158668868778, -0.002712157414044891, -0.0016234272011539244, 0.016935431041295503, 0.0032418101262420705, -0.007062034455204281, 0.01039127947602202, -0.004691208406142723, 0.011534655857738487, -0.009032678165305381, -0.026768472953199195, -0.029673996456185014, 0.008588779077549045, -0.018993508714649665, 0.024979424578450034, 0.018589964766742163, -0.012684759182639466, 0.0066988437845004025, 0.03368254120103847, -0.008810728155765911, 0.0026617144205564533, 0.0019756882189975304, 0.018294031420689534, 0.01591311821648033, -0.007889300852266308, 0.007539562205286243, -0.001153465632339979, -0.02274647618462193, -0.018374739837741995, 0.0030854364040496757, -0.004734926086261209, 0.004351558311294215, -0.03535052508756373, -0.023741886824634687, -0.022894442857648245, 0.010283667011521934, 0.0013132021276326758, 0.02740069385383068, 0.008972146852516039, -0.0005384801371046291, 0.012227408071159317, -0.0026297670283656534, 0.01799809807463691, -0.01396265114498104, -3.8331503154846e-05, -0.008265942615371395, -0.02787149605771204, 0.008218862394983258, -0.011097482781844057, 0.0013997960378949537, -0.04024687173322027, 0.037475862879536956, 0.002964373079979034, -0.02039246516521514, 0.02840955465492204, 0.04995884915690007, -0.013269898931560211, -0.012018910085343658, -0.002322064092877294, -0.020123435866610136, -0.021952838449885527, 0.005807682603056775, -0.02031175674816268, 0.01657224130191423, 0.008541698857160909, 0.015442315081276366, 0.005272985614793817, 0.004610499523428962, -0.001982413998028786, 0.008333200871345252, -0.017944293705032078, 0.010377827452298205, -0.0032300400711450365, -9.705042941073255e-05, -0.028786196418027127, -0.0112925287439359, -0.02188558019391167, -0.015724797334927786, 0.012429180045113068, 0.032202878196065744, -0.0011005003844033261, 0.04667668575345437, 0.013095029142408876, 0.02697024585847555, -0.00926807926724606, 0.009436223044535489, -0.02623041249334398, -0.02305586155439837, -0.023513211734555915, 0.017634908335255634, -0.03653425847177424, 0.0023321528778395026, -0.03865959253845705, -0.014446904441263606, 0.010868806760442678, -0.023674628568660833, 0.014406550232737377, -0.015805505751980243, 0.002764281910498805, -0.015038770202046258, 0.018549610558215936, 0.029216644413382255, -0.01502531910964505, -0.010081895037568183, -0.03322519102088092, -0.026028641450712833, -0.01019623258260757, 0.019383602501478567, 0.004425541647807373, -0.010498891009199499, -0.008904888596542182, -0.022854088649122015, -0.011474124544949144, -0.004388549979550794, 0.016235953747335375, 0.01926253987589988, -0.04315239337356088, 0.016787464368269188, -0.021899032217635485, -0.017957743866110678, -0.00013388440583259265, -0.0057740539407311504, 0.0019992283291915985, 0.0035276542216711873, 0.021858678009109254, 0.018751383463492293, 0.015119479550421321, -0.002870212406372111, 0.0008276872384646994, -0.01826712923588712, -0.025705804057212577, 0.027198920948554323, 0.008360103056147667, 0.03066940709619777, 0.011662445426501687, -0.01459487111428992, 0.0144334533488624, -0.01692197901757169, -0.00014723081175209814, 0.0035881860001218337, 0.025584741431633893, 0.018294031420689534, 0.036803287770379244, -0.006954422456365499, 0.0016570558634795497, -0.007727883086838787, 0.02675502092947538, 0.01565753907895393, 0.005209090830412218, 0.04269504319340334, 0.0072301777668324066, 0.009012501061042268, -0.016128341282835287, 0.007768237761026318, -0.01849580432596589, 0.03602310019672144, -0.002148876272352738, 0.0009256309444979678, -0.029996831987040055, -0.013976102237382248, -0.0029526030248820004, -0.00040480589003888965, 0.0033763250083752227, 0.0026600329175909764, 0.001893297716902967, -0.012651130054652538, 0.0021102031011306826, 0.011756605867277958, 0.008918340620265995, 0.006816544335470742, 0.0022211778730697666, -0.032041457636670406, 0.005212453836343171, 0.017809777193084363, 0.02996992793959243, 0.022934797066174472, 0.013276624943422117, 0.000613304050477536, 0.014541064882039878, -0.0003476370593115337, 0.011716251658751729, 0.028786196418027127, -0.003541105779733698, -0.009315159487634197, -0.02884000265027717, 0.017298620780676777, 0.01569789328748016, 0.0011206776050817664, 0.01926253987589988, 0.009624543926088032, -0.0028533980752092985, 0.026687764536146737, -0.0021791419287474096, 0.036453550054721784, 0.02662050628017288, -0.006345742131589384, -0.008158331082193916, 0.003077029354883595, -0.0160072786572566, -0.04239910984735071, 0.007384869986059325, 0.020728752719793995, -0.020015823402110052, -0.0037697811026431217, 0.0018344474414177974, 0.0014931158436038126, 0.025759610289462623, 0.03699160865193178, 0.01865722302271602, 0.020728752719793995, -0.00418677753993574, 0.01877828564829471, -0.01407026267815852, 0.021374423781504084, -0.015321251524375072, 0.010734292111140178, -0.034893174907406184, 0.014796643088243671, -0.013841587588079747, 0.010519068113462614, 0.0009407638309029666, 0.0021219731562277166, 0.003652080551672782, 0.011951652760692408, 0.018105710539136993, -0.008319748847621438, -0.011992006969218637, -0.013525477137764004, -0.010310570127646955, 0.02948567557463247, 0.01211979560665923, -0.019033864785821107, 0.006614772361516991, -0.011837314284330417, 0.021966290473609342, -0.04156511790408808, -0.005730336260612665, 0.029943025754790013, -0.002834902241081009, -0.003383050787406478, 0.008972146852516039, 0.0005069531788628612, -0.013989553329783456, 0.010001185689193118, -0.0384443713347473, -0.02313656997145083, -0.01756765194192699, 0.007573190867611868, -0.029808511105487514, -0.010149152362219433, -0.019020412762097292, 0.01019623258260757, 0.008918340620265995, -0.013559106265750933, 0.0028937527493968305, 0.006688755232368845, -0.02805981693926458, 0.02105158825064904, -0.009200821942594811, 0.012234134083021223, 0.0038000469918684446, -0.007223452220631803, -0.01208616740999491, -0.01914147538767598, -0.006453354130428166, 0.019773696288307465, -0.016276307955861602, -0.002935788460888536, -0.012361922720461816, -0.010949516108817742, -0.006322202021395316, 0.019249087852176064, 0.05036239496745278, 0.00518555072021815, 0.03475866212074889, -0.010882258784166493, 0.012234134083021223, -0.016074535050585245, -0.008528246833437095, 0.0038471272122565805, -0.0376641837610895, -0.003598274552253391, -0.007492481984898107, 0.027602464896461825, -0.007519385101023129, 0.020688398511267768, 0.023257632597029516, -0.0038908446595444144, -0.0303196675178951, 0.018159516771387035, 0.0006994777014137705, -0.00417332598187323, -0.03346731627203829, 0.024347203677818546, 0.027198920948554323, 0.0207422028808726, -0.027763883593211955, 0.004886255299557173, 0.014648677346539964, 0.009288256371509176, -0.033897766130038635, 0.004250671858656037, 0.013195915595047054, 0.00045104541715195, 0.02405127033176592, -0.010821726540054543, -0.01135306098804785, -0.008898163516002882, 0.003971553542258176, 0.024279947284489903, -0.008958694828792224, 0.012704936286902582, 0.0056328132795667426, -0.004149785871679162, -0.026728118744672964, 0.012200504955034296, -0.01122527141928465, 0.0021421504933214824, 0.029270450645632298, -0.012926885365119446, -0.018038454145808347, 0.024548976583094906, 0.008904888596542182, -0.02397056191471346, -0.007418499114046254, 0.010411456580285134, 0.014191326235059813, 0.028786196418027127, 0.021589648710504256, -0.0038572159972187895, -0.021966290473609342, -0.016989237273545548, -0.024804555720621305, 0.003968190536327222, -0.025409872573805163, -0.020231046468465012, -0.010492164997337591, -0.013565831346290233, 0.013478396917375868, -0.045600564833743945, -0.012065990305731794, -0.009355513696160426, -0.03088463016255273, -0.012684759182639466, 0.009530383485311761, 0.022020094843214173, 0.0039850051003206865, 0.024804555720621305, 0.01848235230224208, -0.00026839934617340765, 0.03185313675511786, -0.02035211095668891, -0.01692197901757169, -0.004035448326639776, -0.019154927411399795, 0.022477446886016928, 0.015576829730578865, -0.008602230169950252, -0.00405562543090289, -0.005010681396728117, 0.020419367350017554, -0.014554516905763691, -0.016814366553071603, 0.02596138319473898, 0.010263489907258819, -0.010189506570745662, 0.01320264160690896, 0.04027377205537748, 0.010888984796028399, 0.0003634005093285862, -0.013316979151948348, -0.0008617363347393566, -0.0633834398420259, -0.00924117615112104, -0.0013064763486014203, 0.009785961691515554, -0.016276307955861602, -0.006631586459849152, 0.027172016901106696, -0.03239119907761829, 0.006544152030934787, 0.015940020401282746, -0.005444492398014199, 0.009933928364541869, -0.009644721030351147, -0.02358046812788456, 0.018280579396965722, 0.009510206381048646, 0.014971512877395007, -0.000969348275370476, -0.009590914798101105, 0.01573824749600639, -0.015953472425006558, 0.0307232114658026, 0.03537742913501135, 0.004025359774508218, 0.033951570499643466, -0.018334385629215764, -0.027172016901106696, -0.009382416812285447, 0.0228406366253982, -0.013565831346290233, 0.010532520137186427, -0.008218862394983258, -0.02827504000561954, -0.01427203465211227, -0.008669487494601502, -0.03658806284137907, 0.011891120516580459, -0.011648993402777873, -0.014056811585757313, -0.009584189717561803, -0.007357967335595607, 0.018953154506123438, 0.009584189717561803, -0.010028088805318141, -0.027844592010264412, 0.00956401261329869, -0.005767327928869244, 0.004233857760323876, 0.032337390982723035, -0.015509572405927615, 0.014863900412894922, -0.0010635087161467477, -0.0035007513383768173, -0.032633324328775665, 0.008635859297937181, -0.02648599163087038, -0.01450071067351365, 0.01826712923588712, 0.030346569702697515, 0.013727249111717755, 0.0017638271108355937, 0.013027771817757624, -0.00326030596037036, -0.0017024546973175346, 0.0057471508246061285, -0.0043212926548995435, 0.013182464502645846, -0.01770216659122949, 0.03895552588450968, 0.028194331588567084, 0.026714666720949153, -0.0036150888834162033, -0.02383604726541096, -0.012899982248994425, -0.01980059847310988, -0.023419051293779646, -0.02854406930422454, 0.00021669516725319953, -0.024589330791621133, -0.021159200715149127, 0.010835178563778356, 0.0068938906779148525, -0.0004611340274911701, -0.022813734440595784, 0.013478396917375868, 0.037771796225589585, 0.026647410327620507, 0.02512739125147635, 0.0144334533488624, 0.023889853497661002, -0.01713720394657186, 0.005868214381507422, 0.003487299780314307, 0.004227131748461969, -0.024939070369923804, 0.0058581258293758645, -0.028920711067329626, -0.017150654107650463, 0.01476973997211865, 0.010545971229587635, 0.006412999921901937, 0.018119162562860804, -0.004660942749748051, 0.0008667806690127981, 0.003033311907595761, 0.0016167014221226692, -0.013357333360474576, 0.0011290847706631726, -0.017944293705032078, 0.004381823967688887, -0.010324021220048163, 0.011998732981080545, -0.009160467734068582, 0.021724163359806755, 0.0009668261373375867, -0.027346887621580638, 0.0116826225307648, 0.015684441263756344, -0.025840320569160292, 0.022894442857648245, -0.000771779476753788, 0.02608244768296288, -0.004354921317225169, 0.016437724789966517, 0.04274884756300817, 0.007990187304904486, 0.004590322419165848, 0.008212137314443958, 0.0003617190936746038, 0.012079441398133002, 0.03892862183706205, -0.0077009804363750685, -0.0015393553125092102, -0.01813261458658462, 0.026203510308541563, 0.007902752875990121, 0.0035310172276021407, -0.015993826633532788, 0.026687764536146737, -0.0013308572102782266, 0.008171782174595124, -0.00887126039987786, 0.007270532441019939, -0.013303527128224532, 0.020970879833596582, -0.021199554923675354, 0.006157421250036841, -0.028517167119422124, 0.012012184073481752, -0.023419051293779646, 0.025208099668528806, -0.01452761378963867, 0.03543123350461618, 0.01877828564829471, 0.0011324476601788003, 0.01046526188121257, -0.005293162719056932, -0.0013686895136022178, 0.006604683343724131, 0.008548424869022816, 0.007008228222954238, -0.006614772361516991, 0.01019623258260757, 0.017729068776031906, 0.02962019022393497, -0.0021337432113247507, 0.009792687703377462, 0.002396047429390451, 0.02918974222857984, -0.007189823558306178, -0.013720524031178455, 0.006554240583066345, 0.01396265114498104, 0.012395551848448745, -0.00126612190724454, 0.0022279036521010223, -0.007411773102184346, -0.021132296667701497, -0.03061560086394773, 0.0011938200736968595, 0.023378697085253416, -0.022719573999819515, -0.006591232251322923, 0.005259534056731307, -0.016034180842059015, -0.006702206790431355, -0.008050719549016436, -0.00834665196374646, 0.012328294523797495, -0.03521601230090644, -0.002162327597584597, -0.002562509703714403, 0.0012753698243086846, 0.002073211432874104, 0.013653266706527204, -0.016209049699887745, 0.015818957775704058, 0.001077800909276671, -0.012065990305731794, -0.009449674136936696, -0.017890487472782032, -0.025544387223107663, 0.029593286176487342, -0.010492164997337591, -0.012624226938527517, 0.03309067450893321, -0.02109194245917527, -0.026956793834751736, -0.009194095930732903, 0.009160467734068582, 0.004926609508083403, -0.029916121707342386, -0.01467557953134238, 0.022800282416871973, 0.0011349697982116897, 0.011803686087666094, -0.003381369284441001, -0.03241809939977549, 0.027239275157080554, -0.0144334533488624, 0.0067257469006254235, -0.0001674080469824541, -0.0068938906779148525, 0.01836128967666339, -0.0033981836156038135, -0.008265942615371395, 0.014944609761269986, -0.025369518365278933, -0.013256446907836398, 0.006325565027326269, 0.016424274628887917, -0.027239275157080554, -0.01783668124053199, -0.006675303674306334, -0.009604366821824918, -0.0023422414299710597, -0.008582053065687137, 0.005000592844596559, 0.002162327597584597, -0.00963126993794994, 0.003547831558764953, 0.014420001325138584, 0.008548424869022816, -0.019585375406754923, -0.004664305755679005, -0.028732390185777085, -0.021535842478254213, -0.025867222753962707, -0.012778919623415739, -0.017433135429979277, 0.028651681768724627, -0.003383050787406478, -0.021899032217635485, 0.006049809251198059, -0.02531571213302889, -0.026701214697225337, 0.004593684959435499, -0.023593920151608373, 0.006429814020234098, -0.01039127947602202, 0.011823863191929209, 0.009516932392910554, -0.0004741651516046487, -0.0164108226051641, 0.014016456445908477, -0.0025658724768147048, 0.0028971155224971324, 0.03171862396846058, -0.020298304724438866, 0.039789517827772306, -0.01105040256145592, -0.028517167119422124, 0.008965420840654131, 0.01771561675230809, 0.017729068776031906, 0.0029038413015283876, 0.015455766173677573, -0.02422614105223986, -0.02727962936560678, -0.0019353336612253243, -0.008575327053825231, 0.005767327928869244, 0.007203275116368688, 0.030238959100842643, -0.02483145790542372, 0.010169329466482548, 0.008709842634450338, -0.0029273814117224558, -0.008017090421029507, -0.002834902241081009, 0.02483145790542372, 0.003147649685465799, 0.04377116038782334, -0.03954739257661493, 0.00685017346345767, 0.010236586791133798, 0.004072439994896354, 0.0039850051003206865, -0.002421268809719344, -0.009577463705699897, 0.005975826380346204, 0.013989553329783456, -0.005071213175178764, 0.003944650426133154, -0.0164108226051641, -0.04285646002750825, 0.006907342235977363, 0.023082763739200787, -0.020701848672346368, 0.00039240530043363334, -0.022033546866937984, -0.008460989508785845, -0.014984963969796214, 0.005441129392083246, -0.013296802047685232, -0.011339608964324037, -0.024602782815344948, -0.005283074166925374, 0.046219331848006404, -0.018751383463492293, 0.009315159487634197, -0.019329796269228525, -0.015186736875072571, 0.01657224130191423, -0.009214273034996018, -0.002797910805655082, -0.012947062469382561, -0.014823546204368692, 0.019464310918531024, -0.027508304455685553, -0.014231680443586041, 0.0014552835402798215, 0.007149468884118646, 0.006866987561789831, 0.01834783765293958, 0.19639181266475925, -0.030265861285645058, 0.0013342200997938543, 0.0072167266744312, -0.01912802522659738, 0.013269898931560211, 0.006816544335470742, -0.0026802102546847426, -0.004048899884702286, 0.015778601704532616, 0.0007074644912538076, -0.003304023174827542, -0.02705095427552801, 0.0013745745411507348, 0.009012501061042268, -0.027844592010264412, -0.04081183437787791, -0.03658806284137907, -0.01393574802885602, -0.008790551051502796, -0.00887126039987786, 0.005111567849366295, 0.018993508714649665, -0.01411061688668475, 0.042345301752455454, 0.015563378638177658, -0.04476657289048131, -0.004677756848080213, 0.017419685268900677, -0.014917706645144965, -0.007949833096378258, -0.01853615853449212, 0.011326157871922829, -0.007001502676753635, 0.02406472235548973, 0.004980415740333445, 0.01320264160690896, -0.006507160362678208, 0.004351558311294215, 0.023688080592384645, 0.021656905103832898, 0.014890803529019944, -0.004206954644198855, -0.023862949450213375, 0.019908210937609968, 0.02239673660631926, -0.014958060853671193, -0.015549926614453844, -0.025409872573805163, 0.024939070369923804, -0.03467794997840601, 0.009779235679653648, -0.0016881625041876114, 0.01814606474766322, 0.004482710420327066, 0.01961227759155734, 0.0027356975242389587, 0.001208953018309521, 0.0147024826474674, 0.016908526993847876, -0.017244814548426735, 0.036507354424326614, -0.011400141208435986, -0.002554102421717671, -0.013841587588079747, 0.006113704035579658, -0.011891120516580459, 0.013801232448230913, 0.02149548640708277, -0.02805981693926458, -0.0032653502364361382, -0.0049636011763399815, 0.009039404177167289, 0.009456400148798604, -0.029243548460829882, -0.026284218725594024, 0.0012753698243086846, 0.026351476981567878, 0.013976102237382248, 0.03379015366553855, -0.000739832142770651, 0.009745607482989325, 0.00038546936263552484, 0.005901843043833047, -0.019975469193583822, -0.01402990846963229, 0.014083713770559727, 0.011474124544949144, -0.004983778280603096, -0.0219259344024379, 0.00996083148066689, 0.007781689319088829, -0.005249445504599749, -0.001663781642510805, -0.00507793918704067, 0.03147649499201278, 0.01331025314008644, 0.0037159751032237306, -0.009315159487634197, 0.012940337388843261, -0.02535606634155512, 0.0829688115234904, 0.01022313569873259, 0.004475984408465159, -4.269273048654151e-05, 0.010263489907258819, 0.025409872573805163, 0.027844592010264412, 0.019235635828452252, 0.00893851772452911, -0.0009046129723367893, -0.02773698140840954, 0.00443563019993893, 0.0007015794637052907, 0.007492481984898107, -0.010485439916798291, 0.0018075444417081016, -0.028301944053067168, 0.015227091083598801, -0.022598509511595616, 0.013801232448230913, -0.04156511790408808, -0.0337363455706433, 0.021737613520885355, -0.003971553542258176, -0.017809777193084363, -0.020177240236214967, 0.008541698857160909, -0.011702799635027916, -0.04059660944887773, 0.01393574802885602, -0.0002652466445284646, 0.00963126993794994, -0.028382652470119625, -0.010505617021061406, 0.008427361312121523, 0.007512659554822525, -0.01337751046473769, -0.011305980767659714, 0.00710238866373051, -0.009490029276785533, -0.01386849070420477, 0.029673996456185014, -0.0005309136647982984, -0.013195915595047054, -0.008575327053825231, 0.026889535578777882, -0.016760562183466773, -0.022154611355161884, -0.01165571941463978, -0.005350331491576625, -0.02674157076839678, -0.003238447120311117, 0.0007385710737542063, 0.027763883593211955, 0.0016436044218323647, -0.03295616172227592, -0.017513845709676946, 0.0103711014404363, 0.010250038814857611, -0.04968981985829506, -0.015496121313526408, 0.04317929742100851, -0.020298304724438866, -0.012476260265501202, -0.0013140427627000883, -0.17282479097266285, 0.013747427147303476, 0.00698132557249052, -0.011763331879139865, 0.01705649366687419, 0.010007911701055026, 0.0038639415434193933, 0.009342062603759218, -0.006560966129266948, -0.02317692417997706, 0.003115702293274999, 0.005501661170533892, -0.03701851269937941, -0.0035142028964393283, 0.010021362793456234, 0.0012501482111491398, -0.022289126004464387, 0.017675262543781864, 0.01411061688668475, -0.006823270347332649, 0.006359193689651895, -0.01814606474766322, 0.012604049834264403, -0.008171782174595124, 0.017809777193084363, 0.013579283370014046, -0.014715934671191214, 0.003561283116827464, -0.0004939220547493826, -0.0009878441094987652, 0.0074521277763718785, -0.016841270600519233, 0.024575878767897318, 0.00891161460840409, 0.013316979151948348, 0.0007705184077373434, -0.02187213003283307, -0.0017940930000609168, -0.007310887115207471, 0.02621696233226538, -0.0011248811296648068, 0.010102072141831299, 0.01608798707430906, -0.014796643088243671, -0.016289759979585417, 0.009039404177167289, 0.03701851269937941, -0.011346334976185944, 0.013976102237382248, -0.01937015047775475, 0.017298620780676777, -0.025423322734883763, 0.003995093652452243, -0.004079165541096958, 0.01450071067351365, 0.01045853680067327, 0.005363783049639135, 0.008750196842976567, 0.03061560086394773, 0.011743153843554144, -0.013128658270395804, -0.0043750984214882835, 0.011366512080449058, 0.011823863191929209, -0.008050719549016436, -0.0009289937758059327, -0.02062114025529391, 0.002475074809138735, -0.041000155259430446, 0.004035448326639776, -0.022194965563688114, -0.0022901169335171456, -0.002194274989775397, -0.030857727977750316, 0.02083636332164887, -0.005488209612471382, -0.007472304880634993, 0.00017844247363592343, 0.012523340485889338, 0.003285527340699253, 0.007405047555983742, 0.015227091083598801, -0.010471987893074478, -0.018159516771387035, -0.013357333360474576, 0.021858678009109254, 0.004190140545866693, 0.009812864807640575, 0.012940337388843261, -0.001669666670059322, 0.022665767767569473, -0.0301851528685926, 0.007808592435213851, -0.022127707307714257, 0.03605000424416907, 0.02399746596216109, -0.01072084101873897, 0.012065990305731794, 0.010606502542376979, 0.010559422321988842, 0.013290076035823325, -0.007896026864128216, -0.04145750543958799, 0.021737613520885355, 0.025409872573805163, 0.015401960872750137, -0.011480849625488444, 0.011137836990370286, 0.03236429503017066, -0.0010937746053720709, -0.026122801891489106, 0.030077540404092516, -0.0006986369499310321, 0.036076908291616694, -0.0034065908976005457, 0.015980374609808973, -0.002206045044872431, -0.03438202035764381, -0.02095742780987277, -0.024293397445568504, 0.06908687438349745, 0.01045853680067327, -0.004438993205869883, -0.009516932392910554, -0.015186736875072571, -0.010102072141831299, -0.042802651932613, -0.007156194895980553, -0.002607908421137062, 0.025773062313186434, -0.006281847812869087, 0.025759610289462623, 0.006789641685007023, 0.020701848672346368, -0.01947776294225484, 0.01739278122145305, -0.00673247291248733, -0.02479110369689749, 0.0003306125111742051, -0.010835178563778356, -0.001780641558413732, 0.014191326235059813, 0.009510206381048646, -0.01569789328748016, -0.0004951831237658273, 0.012624226938527517, 0.0037899584397368875, 0.008992323956779152, 0.0002290957568584558, -0.019760244264583653, -0.017809777193084363, -0.004008545210514754, -0.039439780112114846, 0.01006844301384437, 0.019639181639004966, -0.001323290679764233, -0.008353377975608365, -0.026459089446067965, 0.032606420281328034, -0.03349422031948592, -0.013021045805895718, -0.0012476260731162506, -0.022154611355161884, -0.015845859960506473, 0.0023153383138460383, -0.011608639194251643, -0.00698132557249052, -0.022598509511595616, 0.009207547954456717, -0.04441683144953343, -0.015375057756625114, -0.005464669502277314, 0.009200821942594811, -0.0030198603495332505, 0.00389757043857567, -0.013068126026283855, -0.02401091612323969, -0.015173284851348758, -0.012039087189606773, -0.020809461136846456, 0.01078809834339022, -0.011736428763014844, 0.01764836035897945, -0.01766181238270326, -0.01661259551044046, -0.02409162640293736, 0.014446904441263606, 0.03061560086394773, -0.0018563061650617144, 0.005249445504599749, 0.03761037566619425, 0.020002371378386237, -0.02039246516521514, -0.013175738490783939, 0.03214907010117049, -0.0076471742041250255, 0.02171071133608294, 0.0015099301747666253, -0.01930289408442611, -0.014958060853671193, -0.031234369740855403, -0.0014527614022469323, -0.02553093519938385, -0.009651447042213055, 0.030911532347355147, -0.02239673660631926, -0.019208733643649837, -0.033951570499643466, -0.004338106753231705, -0.004021996768577265, -0.007431950206447461, 0.011205094315021535, 0.006016180588872433, 0.009254628174844853, 0.005118293395566899, -0.028167427541119453, 0.010075169025706276, 0.010989870317343971, -0.0019033863854498502, -0.032552615911723204, 0.014056811585757313, -0.03169171992101295, 0.0032939346226959847, -0.005706796150418597, 0.0017571014482196641, 0.03443582472724864, -0.019988919354662425, -0.0024969336491979777, -0.10153187410543014, 0.021804871776859212, -0.004449081758001441, 0.0007297435324314309, -0.035242912623063644, -0.0016385601457665861, 0.037852504642642046, 0.002306931264679958, 0.016451176813690332, -0.001586435532897346, -0.02015033805141255, 0.0007646333801888264, 0.007324338673269982, -0.005589095599448257, -0.02288099083392443, -0.020284852700715054, 0.023028957506950744, 0.0046004109712974054, 0.010236586791133798, 0.01596692258608516, -0.018885898112794793, 0.008904888596542182, -0.002767644916429759, 0.01476973997211865, -0.013922296005132206, 0.024710395279845032, -0.012361922720461816, 0.00013766762743384236, -0.0021202916532622397, 0.007492481984898107, 0.008420635300259617, -0.020379013141491324, -0.010364376359896997, 0.03917075081350985, -0.022854088649122015, -0.029109033811527383, -0.0012753698243086846, 0.02145513219855654, 0.012126521618521138, 0.03849817570435213, -0.02983541329028993, -0.021334069572977857, 0.006386096805776916, -0.003981642094389733, -0.008864534388015953, 0.00011129009740085825, -0.0017890487239951383, -0.007869123748003195, 0.010539245217725727, -0.018025002122084535, 0.00020839306650330408, -0.008138153977930801, -0.008481166613048959, -0.005057761617116253, 0.006254944696744065, -0.008245765511108281, 0.022679217928648073, 0.01569789328748016, -0.0026684401995877086, -0.010189506570745662, 0.028517167119422124, 0.012610775846126309, 0.015765151543454016, 0.018105710539136993, 0.024333751654094734, 0.0057774164810008004, 0.020015823402110052, 0.012361922720461816, 0.03545813755206381, -0.042533622634008, -0.028947615114777257, 0.007539562205286243, -0.010936065016416535, -0.0020093168813231557, -0.017231364387348132, 0.0021673718736503755, -0.030938436394802774, 0.013290076035823325, -0.002105158825064904, 0.018334385629215764, 0.0021875492107441418, 0.014689031555066193, -0.024912166322476177, 0.042022468084245625, 0.0046306766276920765, 0.0029778244052108935, -0.010983145236804671, -0.003776506881674377, -0.0033309262909525634, -0.006648401023842616, -0.042318401430298254, 0.03435511631019618, -0.002833220970946184, -0.01267803317077756, -0.004512976076721738, 0.009086484397555425, 0.013787781355829705, -0.004674394307810563, 0.012052538282007981, 0.0075933684375362855, -0.005108204843435342, 0.005336880399175417, 0.0011601914113712343, -0.02366117840758223, -0.037529667249141786, 0.0213878758052279, -0.027239275157080554, -0.0006998980189474768, 5.706375861988722e-05, -0.0010231542747898672, 0.008635859297937181, -0.015213639991197594, 0.022733024160898115, 0.015630636894151513, -0.0368839961874317, 0.015132930642822529, -0.019881308752807553, 0.010835178563778356, -0.03704541302153661, -0.006702206790431355, 0.009496754357324833, 0.017069945690598005, 0.03158410745651286, 0.013518751125902099, 0.014554516905763691, 0.006809818789270138, 0.014984963969796214, -0.04048899698437765, 0.019894758913886153, 0.013646540694665298, 0.010229860779271892, -0.001937015164190801, -0.015549926614453844, -0.014406550232737377, -0.009039404177167289, 0.013283350023961419, 0.011864217400455438, -0.020997782018398997, 0.00963126993794994, 0.12095583640337057, 0.011131110978508378, -0.0108957098765677, 0.008353377975608365, 0.019249087852176064, -0.007472304880634993, 0.007431950206447461, -0.008077621733818851, -0.007445401764509972, -0.023297986805555747, 0.01947776294225484, -0.010512342101600706, -0.012220682059297409, -0.0038504902181875343, -0.018428546069992037, 0.008877986411739766, -0.003961464990126618, -0.0012509889626318783, -0.00926807926724606, 0.002765963413464282, 0.020123435866610136, -0.005148559517622874, -0.00017739157793824766, 0.03306377046148558, -0.008824180179489724, 0.011635542310376666, 0.016195599538809145, 0.0066416750119807095, -0.00015259038417581939, -0.01261750092666561, 0.005700070604217993, -0.0035545573377962084, -0.02948567557463247, -0.019814050496833695, 0.018885898112794793, -0.03545813755206381, -0.006658489575974174, -0.016491531022216562, 0.031072951044105273, 0.028786196418027127, -0.010229860779271892, 0.025221551692252618, -0.030427279982395188, -0.03338660785498584, 0.004923246967813752, -0.0015208594783809209, -0.02553093519938385, -0.016424274628887917, -0.003695797998960616]\n"
     ]
    }
   ],
   "source": [
    "print(vector)"
   ]
  },
  {
   "cell_type": "markdown",
   "id": "38e7eccf-2a36-418c-bbb1-9465b95377d0",
   "metadata": {
    "execution": {
     "iopub.execute_input": "2024-02-11T11:10:12.626446Z",
     "iopub.status.busy": "2024-02-11T11:10:12.626245Z",
     "iopub.status.idle": "2024-02-11T11:10:12.628198Z",
     "shell.execute_reply": "2024-02-11T11:10:12.627953Z",
     "shell.execute_reply.started": "2024-02-11T11:10:12.626433Z"
    }
   },
   "source": [
    "## Vector"
   ]
  },
  {
   "cell_type": "code",
   "execution_count": 152,
   "id": "956150b6-2e56-4e1f-813b-b5bb96325152",
   "metadata": {
    "execution": {
     "iopub.execute_input": "2024-02-11T11:53:51.104434Z",
     "iopub.status.busy": "2024-02-11T11:53:51.104271Z",
     "iopub.status.idle": "2024-02-11T11:53:51.506373Z",
     "shell.execute_reply": "2024-02-11T11:53:51.505989Z",
     "shell.execute_reply.started": "2024-02-11T11:53:51.104422Z"
    }
   },
   "outputs": [],
   "source": [
    "pinecone.init(api_key=os.environ.get('PINECONE_API_KEY'), environment=os.environ.get('PINECONE_ENV'))"
   ]
  },
  {
   "cell_type": "code",
   "execution_count": 153,
   "id": "30c613c7-163e-4ca0-b011-6bdaeb96fc62",
   "metadata": {
    "execution": {
     "iopub.execute_input": "2024-02-11T11:53:52.578346Z",
     "iopub.status.busy": "2024-02-11T11:53:52.577921Z",
     "iopub.status.idle": "2024-02-11T11:53:58.901433Z",
     "shell.execute_reply": "2024-02-11T11:53:58.901090Z",
     "shell.execute_reply.started": "2024-02-11T11:53:52.578326Z"
    }
   },
   "outputs": [
    {
     "name": "stdout",
     "output_type": "stream",
     "text": [
      "Index encontrada e apagada: linuxtips\n"
     ]
    }
   ],
   "source": [
    "indexes = pinecone.list_indexes()\n",
    "for i in indexes:\n",
    "    print('Index encontrada e apagada: ' + i)\n",
    "    pinecone.delete_index(i)"
   ]
  },
  {
   "cell_type": "code",
   "execution_count": 154,
   "id": "114b665f-01ce-454f-93e7-56a2acc94b19",
   "metadata": {
    "execution": {
     "iopub.execute_input": "2024-02-11T11:54:00.065998Z",
     "iopub.status.busy": "2024-02-11T11:54:00.065789Z",
     "iopub.status.idle": "2024-02-11T11:54:06.834800Z",
     "shell.execute_reply": "2024-02-11T11:54:06.834487Z",
     "shell.execute_reply.started": "2024-02-11T11:54:00.065984Z"
    }
   },
   "outputs": [
    {
     "name": "stdout",
     "output_type": "stream",
     "text": [
      "Index linuxtips criado\n"
     ]
    }
   ],
   "source": [
    "index_name = 'linuxtips'\n",
    "if index_name not in pinecone.list_indexes():\n",
    "    pinecone.create_index(index_name, dimension=1536, metric='cosine')\n",
    "    print('Index '+index_name+' criado')"
   ]
  },
  {
   "cell_type": "code",
   "execution_count": 155,
   "id": "ce2b2261-0622-446f-98e3-66ca6a9ade40",
   "metadata": {
    "execution": {
     "iopub.execute_input": "2024-02-11T11:54:09.678612Z",
     "iopub.status.busy": "2024-02-11T11:54:09.678452Z",
     "iopub.status.idle": "2024-02-11T11:54:11.749338Z",
     "shell.execute_reply": "2024-02-11T11:54:11.749016Z",
     "shell.execute_reply.started": "2024-02-11T11:54:09.678600Z"
    }
   },
   "outputs": [],
   "source": [
    "vector_store = Pinecone.from_documents(chunks, embeddings, index_name=index_name)"
   ]
  },
  {
   "cell_type": "markdown",
   "id": "d8b120a7-6962-4dd8-b985-cb5710428b46",
   "metadata": {},
   "source": [
    "### Conversando com dados"
   ]
  },
  {
   "cell_type": "code",
   "execution_count": 157,
   "id": "86cdef23-e442-46e5-a1f6-88f753c144bd",
   "metadata": {
    "execution": {
     "iopub.execute_input": "2024-02-11T11:55:13.169210Z",
     "iopub.status.busy": "2024-02-11T11:55:13.169048Z",
     "iopub.status.idle": "2024-02-11T11:55:13.864412Z",
     "shell.execute_reply": "2024-02-11T11:55:13.863833Z",
     "shell.execute_reply.started": "2024-02-11T11:55:13.169198Z"
    }
   },
   "outputs": [
    {
     "name": "stdout",
     "output_type": "stream",
     "text": [
      "[Document(page_content='O acesso para registro e acompanhamento de pedidos de apoio ao NAT pode\\nser feito por meio do endereço: https://sigep.mpac.mp.br\\n\\n\\nSite do NAT: https://nat.mpac.mp.br'), Document(page_content='Prova disso é que no ano de 2019, o NAT atendeu diversas demandas de\\nbaixa, média e alta complexidade, em processos e/ou procedimentos judiciais e\\nextrajudiciais, além de dar suporte ao Grupo de Atuação Especial de Combate ao\\nCrime Organizado – GAECO na condução de operações importantes e de suas\\natividades diárias.'), Document(page_content='O Núcleo de Apoio Técnico (NAT) foi instituído no âmbito do Ministério\\nPúblico do Estado do Acre por meio do Ato n.º 25, de 13 de setembro de 2012, da\\nProcuradoria-Geral de Justiça, com o escopo de prestar apoio de inteligência e\\nsegurança institucional, técnico-científico e operacional, por meio de servidores\\nhabilitados em áreas de conhecimento específico, aos órgãos de execução e, em\\nespecial, ao Grupo de Atuação Especial no Combate ao Crime Organizado\\n(GAECO).'), Document(page_content='NAT: Núcleo de Apoio Técnico\\n\\nCoordenadora-Geral: Marcela Cristina Ozório\\nCoordenador-Adjunto: Bernardo Fiterman Albano')]\n"
     ]
    }
   ],
   "source": [
    "query = 'site do nat'\n",
    "result = vector_store.similarity_search(query)\n",
    "print(result)"
   ]
  },
  {
   "cell_type": "code",
   "execution_count": 158,
   "id": "391b486b-271f-4187-8d11-53f12017c03a",
   "metadata": {
    "execution": {
     "iopub.execute_input": "2024-02-11T11:55:25.104673Z",
     "iopub.status.busy": "2024-02-11T11:55:25.104476Z",
     "iopub.status.idle": "2024-02-11T11:55:25.107484Z",
     "shell.execute_reply": "2024-02-11T11:55:25.107084Z",
     "shell.execute_reply.started": "2024-02-11T11:55:25.104660Z"
    }
   },
   "outputs": [
    {
     "name": "stdout",
     "output_type": "stream",
     "text": [
      "O acesso para registro e acompanhamento de pedidos de apoio ao NAT pode\n",
      "ser feito por meio do endereço: https://sigep.mpac.mp.br\n",
      "\n",
      "\n",
      "Site do NAT: https://nat.mpac.mp.br\n",
      "--------------------------------------------------\n",
      "Prova disso é que no ano de 2019, o NAT atendeu diversas demandas de\n",
      "baixa, média e alta complexidade, em processos e/ou procedimentos judiciais e\n",
      "extrajudiciais, além de dar suporte ao Grupo de Atuação Especial de Combate ao\n",
      "Crime Organizado – GAECO na condução de operações importantes e de suas\n",
      "atividades diárias.\n",
      "--------------------------------------------------\n",
      "O Núcleo de Apoio Técnico (NAT) foi instituído no âmbito do Ministério\n",
      "Público do Estado do Acre por meio do Ato n.º 25, de 13 de setembro de 2012, da\n",
      "Procuradoria-Geral de Justiça, com o escopo de prestar apoio de inteligência e\n",
      "segurança institucional, técnico-científico e operacional, por meio de servidores\n",
      "habilitados em áreas de conhecimento específico, aos órgãos de execução e, em\n",
      "especial, ao Grupo de Atuação Especial no Combate ao Crime Organizado\n",
      "(GAECO).\n",
      "--------------------------------------------------\n",
      "NAT: Núcleo de Apoio Técnico\n",
      "\n",
      "Coordenadora-Geral: Marcela Cristina Ozório\n",
      "Coordenador-Adjunto: Bernardo Fiterman Albano\n",
      "--------------------------------------------------\n"
     ]
    }
   ],
   "source": [
    "for r in result:\n",
    "    print(r.page_content)\n",
    "    print('-' * 50)"
   ]
  },
  {
   "cell_type": "markdown",
   "id": "e0e67be0-a7bc-4e1e-b71c-c8bca3d20f79",
   "metadata": {},
   "source": [
    "### Conversando com LLM sobre dados"
   ]
  },
  {
   "cell_type": "code",
   "execution_count": 159,
   "id": "dee94ea8-e463-4f37-ac72-b48ebaf81b5e",
   "metadata": {
    "execution": {
     "iopub.execute_input": "2024-02-11T11:55:31.596729Z",
     "iopub.status.busy": "2024-02-11T11:55:31.596522Z",
     "iopub.status.idle": "2024-02-11T11:55:31.599798Z",
     "shell.execute_reply": "2024-02-11T11:55:31.599524Z",
     "shell.execute_reply.started": "2024-02-11T11:55:31.596717Z"
    }
   },
   "outputs": [],
   "source": [
    "llm = ChatOpenAI(model='gpt-3.5-turbo-16k', temperature=0.5)\n",
    "retriever = vector_store.as_retriever(search_type='similarity', search_kwargs={'k':3})\n",
    "chain = RetrievalQA.from_chain_type(llm=llm, chain_type='stuff', retriever=retriever)"
   ]
  },
  {
   "cell_type": "code",
   "execution_count": 166,
   "id": "e39c89fc-3f8f-48b3-8d65-164abb0c0a43",
   "metadata": {
    "execution": {
     "iopub.execute_input": "2024-02-11T11:56:53.507912Z",
     "iopub.status.busy": "2024-02-11T11:56:53.507735Z",
     "iopub.status.idle": "2024-02-11T11:56:58.108666Z",
     "shell.execute_reply": "2024-02-11T11:56:58.108299Z",
     "shell.execute_reply.started": "2024-02-11T11:56:53.507898Z"
    }
   },
   "outputs": [],
   "source": [
    "query = 'me da um resumo sobre o que é o nat'\n",
    "resp = chain.run(query)"
   ]
  },
  {
   "cell_type": "code",
   "execution_count": 167,
   "id": "08d75f00-8db7-47f3-ab51-f73d0902f543",
   "metadata": {
    "execution": {
     "iopub.execute_input": "2024-02-11T11:56:58.109378Z",
     "iopub.status.busy": "2024-02-11T11:56:58.109220Z",
     "iopub.status.idle": "2024-02-11T11:56:58.112024Z",
     "shell.execute_reply": "2024-02-11T11:56:58.111677Z",
     "shell.execute_reply.started": "2024-02-11T11:56:58.109361Z"
    }
   },
   "outputs": [
    {
     "name": "stdout",
     "output_type": "stream",
     "text": [
      "O Núcleo de Apoio Técnico (NAT) é um órgão do Ministério Público do Estado do Acre que foi instituído com o objetivo de fornecer apoio técnico, científico e operacional aos membros e órgãos do Ministério Público, em especial ao Grupo de Atuação Especial no Combate ao Crime Organizado (GAECO). O NAT atende demandas de baixa, média e alta complexidade, tanto em processos judiciais como extrajudiciais, e também dá suporte ao GAECO em suas atividades diárias e na condução de operações importantes. Desde a sua criação, o NAT tem sido fundamental para o desenvolvimento das atividades finais do Ministério Público.\n"
     ]
    }
   ],
   "source": [
    "print(resp)"
   ]
  },
  {
   "cell_type": "code",
   "execution_count": null,
   "id": "d8bf8c99-a01d-469f-baa6-351aaf7899c2",
   "metadata": {},
   "outputs": [],
   "source": []
  }
 ],
 "metadata": {
  "kernelspec": {
   "display_name": "cuda",
   "language": "python",
   "name": "cuda"
  },
  "language_info": {
   "codemirror_mode": {
    "name": "ipython",
    "version": 3
   },
   "file_extension": ".py",
   "mimetype": "text/x-python",
   "name": "python",
   "nbconvert_exporter": "python",
   "pygments_lexer": "ipython3",
   "version": "3.10.13"
  }
 },
 "nbformat": 4,
 "nbformat_minor": 5
}
