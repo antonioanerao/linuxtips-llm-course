{
 "cells": [
  {
   "cell_type": "code",
   "execution_count": 17,
   "id": "1ecab291-20be-42a5-a7e6-a66c623b4563",
   "metadata": {
    "execution": {
     "iopub.execute_input": "2023-12-08T11:10:42.750053Z",
     "iopub.status.busy": "2023-12-08T11:10:42.749822Z",
     "iopub.status.idle": "2023-12-08T11:10:42.752356Z",
     "shell.execute_reply": "2023-12-08T11:10:42.752001Z",
     "shell.execute_reply.started": "2023-12-08T11:10:42.750039Z"
    }
   },
   "outputs": [],
   "source": [
    "import torch\n",
    "import os\n",
    "from dotenv import load_dotenv\n",
    "from langchain.llms import OpenAI\n",
    "from langchain.schema import (\n",
    "    AIMessage,\n",
    "    HumanMessage,\n",
    "    SystemMessage\n",
    ")\n",
    "from langchain.chat_models import ChatOpenAI\n",
    "from langchain.prompts import PromptTemplate\n",
    "from langchain.chains import LLMChain, SimpleSequentialChain"
   ]
  },
  {
   "cell_type": "code",
   "execution_count": 3,
   "id": "b34ee8fc-4e2d-429a-baab-ff4b84ff0a0e",
   "metadata": {
    "execution": {
     "iopub.execute_input": "2023-12-08T11:02:16.646419Z",
     "iopub.status.busy": "2023-12-08T11:02:16.646330Z",
     "iopub.status.idle": "2023-12-08T11:02:16.672202Z",
     "shell.execute_reply": "2023-12-08T11:02:16.671991Z",
     "shell.execute_reply.started": "2023-12-08T11:02:16.646410Z"
    }
   },
   "outputs": [
    {
     "data": {
      "text/plain": [
       "'gcp-starter'"
      ]
     },
     "execution_count": 3,
     "metadata": {},
     "output_type": "execute_result"
    }
   ],
   "source": [
    "load_dotenv('./.env')\n",
    "os.environ.get('PINECONE_ENV')"
   ]
  },
  {
   "cell_type": "code",
   "execution_count": 4,
   "id": "ed6f1e82-a572-41fd-8f99-866410da3cfc",
   "metadata": {
    "execution": {
     "iopub.execute_input": "2023-12-08T11:02:16.672830Z",
     "iopub.status.busy": "2023-12-08T11:02:16.672713Z",
     "iopub.status.idle": "2023-12-08T11:02:16.795007Z",
     "shell.execute_reply": "2023-12-08T11:02:16.794348Z",
     "shell.execute_reply.started": "2023-12-08T11:02:16.672821Z"
    }
   },
   "outputs": [
    {
     "name": "stdout",
     "output_type": "stream",
     "text": [
      "GPUs available: 1\n",
      "GPU 0: NVIDIA RTX A4000\n"
     ]
    }
   ],
   "source": [
    "device = torch.device('cuda') if torch.cuda.is_available() else 'cpu'\n",
    "num_gpus = torch.cuda.device_count()\n",
    "\n",
    "if num_gpus > 0:\n",
    "    print(f\"GPUs available: {num_gpus}\")\n",
    "    for i in range(num_gpus):\n",
    "        gpu_name = torch.cuda.get_device_name(i)\n",
    "        print(f\"GPU {i}: {gpu_name}\")\n",
    "else:\n",
    "    print(\"There is no GPU available. Using CPU\")"
   ]
  },
  {
   "cell_type": "code",
   "execution_count": 4,
   "id": "5231dff9-8298-493b-b086-00a1e5c439ea",
   "metadata": {
    "execution": {
     "iopub.execute_input": "2023-12-04T10:38:41.234098Z",
     "iopub.status.busy": "2023-12-04T10:38:41.233906Z",
     "iopub.status.idle": "2023-12-04T10:38:41.265487Z",
     "shell.execute_reply": "2023-12-04T10:38:41.265078Z",
     "shell.execute_reply.started": "2023-12-04T10:38:41.234088Z"
    }
   },
   "outputs": [
    {
     "name": "stdout",
     "output_type": "stream",
     "text": [
      "\u001b[1mOpenAI\u001b[0m\n",
      "Params: {'model_name': 'text-davinci-003', 'temperature': 0.7, 'top_p': 1, 'frequency_penalty': 0, 'presence_penalty': 0, 'n': 1, 'logit_bias': {}, 'max_tokens': 512}\n"
     ]
    }
   ],
   "source": [
    "llm = OpenAI(model_name='text-davinci-003', temperature=0.7, max_tokens=512)\n",
    "print(llm)"
   ]
  },
  {
   "cell_type": "code",
   "execution_count": 5,
   "id": "4f041c22-7a9b-48a5-9170-7f35d7adb25f",
   "metadata": {
    "execution": {
     "iopub.execute_input": "2023-12-04T10:38:41.266057Z",
     "iopub.status.busy": "2023-12-04T10:38:41.265892Z",
     "iopub.status.idle": "2023-12-04T10:38:48.709818Z",
     "shell.execute_reply": "2023-12-04T10:38:48.709260Z",
     "shell.execute_reply.started": "2023-12-04T10:38:41.266047Z"
    }
   },
   "outputs": [],
   "source": [
    "output = llm('explique como funções python funcionam')"
   ]
  },
  {
   "cell_type": "code",
   "execution_count": 6,
   "id": "b8781ee7-4e7d-4d65-8b4a-76b0f050104b",
   "metadata": {
    "execution": {
     "iopub.execute_input": "2023-12-04T10:38:48.710383Z",
     "iopub.status.busy": "2023-12-04T10:38:48.710280Z",
     "iopub.status.idle": "2023-12-04T10:38:48.712777Z",
     "shell.execute_reply": "2023-12-04T10:38:48.712519Z",
     "shell.execute_reply.started": "2023-12-04T10:38:48.710371Z"
    }
   },
   "outputs": [
    {
     "name": "stdout",
     "output_type": "stream",
     "text": [
      "\n",
      "\n",
      "Em Python, uma função é um bloco de código que pode ser reutilizado para executar uma tarefa específica. Uma função começa com a palavra-chave def seguida de um nome de função e parênteses. Dentro dos parênteses, você pode fornecer argumentos ou parâmetros que a função usa quando é chamada.\n",
      "\n",
      "Em seguida, a função contém um bloco de código que é executado quando a função é chamada. Esse bloco de código pode incluir qualquer coisa, desde instruções simples até instruções mais complexas. Por fim, a função retorna um resultado, que pode ser qualquer tipo de valor, desde um número até um objeto.\n",
      "\n",
      "Essencialmente, uma função é uma maneira de encapsular um conjunto de instruções para que elas possam ser reutilizadas várias vezes. Isso significa que você pode escrever um código uma vez e chamá-lo várias vezes sem ter que digitar o código novamente.\n"
     ]
    }
   ],
   "source": [
    "print(output)"
   ]
  },
  {
   "cell_type": "code",
   "execution_count": 7,
   "id": "0a69b214-2bbb-4d23-8758-493153ef5fb6",
   "metadata": {
    "execution": {
     "iopub.execute_input": "2023-12-04T10:40:26.491614Z",
     "iopub.status.busy": "2023-12-04T10:40:26.491425Z",
     "iopub.status.idle": "2023-12-04T10:40:28.437976Z",
     "shell.execute_reply": "2023-12-04T10:40:28.437412Z",
     "shell.execute_reply.started": "2023-12-04T10:40:26.491604Z"
    }
   },
   "outputs": [],
   "source": [
    "output = llm.generate([\n",
    "    '...é a capital do Brasil',\n",
    "    'qual é a formula da área de um círculo?'\n",
    "])"
   ]
  },
  {
   "cell_type": "code",
   "execution_count": 8,
   "id": "def8897b-792d-447b-b54a-f5aefb74d055",
   "metadata": {
    "execution": {
     "iopub.execute_input": "2023-12-04T10:40:28.438734Z",
     "iopub.status.busy": "2023-12-04T10:40:28.438594Z",
     "iopub.status.idle": "2023-12-04T10:40:28.441132Z",
     "shell.execute_reply": "2023-12-04T10:40:28.440869Z",
     "shell.execute_reply.started": "2023-12-04T10:40:28.438725Z"
    }
   },
   "outputs": [
    {
     "name": "stdout",
     "output_type": "stream",
     "text": [
      "generations=[[Generation(text='?\\n\\nBrasília é a capital do Brasil.', generation_info={'finish_reason': 'stop', 'logprobs': None})], [Generation(text='\\n\\nA área de um círculo é calculada usando a seguinte formula: A = π * r², onde A é a área e r é o raio do círculo.', generation_info={'finish_reason': 'stop', 'logprobs': None})]] llm_output={'token_usage': {'total_tokens': 91, 'prompt_tokens': 23, 'completion_tokens': 68}, 'model_name': 'text-davinci-003'} run=[RunInfo(run_id=UUID('0fb39415-29c5-48ff-8591-b5e94dc3330c')), RunInfo(run_id=UUID('1c9e54ea-cc01-4776-9e64-f64d3e167adc'))]\n"
     ]
    }
   ],
   "source": [
    "print(output)"
   ]
  },
  {
   "cell_type": "code",
   "execution_count": 11,
   "id": "bf5d0068-4f7d-4263-af99-4b42f48c848e",
   "metadata": {
    "execution": {
     "iopub.execute_input": "2023-12-04T10:41:35.304938Z",
     "iopub.status.busy": "2023-12-04T10:41:35.304747Z",
     "iopub.status.idle": "2023-12-04T10:41:35.307149Z",
     "shell.execute_reply": "2023-12-04T10:41:35.306789Z",
     "shell.execute_reply.started": "2023-12-04T10:41:35.304927Z"
    }
   },
   "outputs": [
    {
     "name": "stdout",
     "output_type": "stream",
     "text": [
      "\n",
      "\n",
      "A área de um círculo é calculada usando a seguinte formula: A = π * r², onde A é a área e r é o raio do círculo.\n"
     ]
    }
   ],
   "source": [
    "print(output.generations[1][0].text)"
   ]
  },
  {
   "cell_type": "code",
   "execution_count": 14,
   "id": "97ee6f75-d9df-4015-98ac-712ff3cd8ede",
   "metadata": {
    "execution": {
     "iopub.execute_input": "2023-12-04T10:44:18.837406Z",
     "iopub.status.busy": "2023-12-04T10:44:18.837215Z",
     "iopub.status.idle": "2023-12-04T10:44:19.870737Z",
     "shell.execute_reply": "2023-12-04T10:44:19.870120Z",
     "shell.execute_reply.started": "2023-12-04T10:44:18.837396Z"
    }
   },
   "outputs": [],
   "source": [
    "output = llm.generate(['escreva um slogan original para um restaurante acreano que venda Rabada no Tucupí'] * 3)"
   ]
  },
  {
   "cell_type": "code",
   "execution_count": 15,
   "id": "35fe342b-a2b4-419b-a0dc-9bbe27c3db22",
   "metadata": {
    "execution": {
     "iopub.execute_input": "2023-12-04T10:44:19.871441Z",
     "iopub.status.busy": "2023-12-04T10:44:19.871336Z",
     "iopub.status.idle": "2023-12-04T10:44:19.873789Z",
     "shell.execute_reply": "2023-12-04T10:44:19.873524Z",
     "shell.execute_reply.started": "2023-12-04T10:44:19.871431Z"
    }
   },
   "outputs": [
    {
     "name": "stdout",
     "output_type": "stream",
     "text": [
      "\n",
      "\n",
      "\"Saboreie o sabor do Acre: Rabada no Tucupí!\"\n",
      "\n",
      "\"Sabor Acreano: Rabada no Tucupí, Delícia em Cada Gole!\"\n",
      "\n",
      "\"Rabada no Tucupí, sabor acreano autêntico!\""
     ]
    }
   ],
   "source": [
    "for o in output.generations:\n",
    "    print(o[0].text, end='')"
   ]
  },
  {
   "cell_type": "markdown",
   "id": "9eac676c-d030-4997-964d-20fed9af472c",
   "metadata": {},
   "source": [
    "### ChatModels: GPT-3.5-Turbo e GPT-4"
   ]
  },
  {
   "cell_type": "code",
   "execution_count": 26,
   "id": "89a44e44-6302-478d-ac01-9bf04cb0e5d8",
   "metadata": {
    "execution": {
     "iopub.execute_input": "2023-12-04T10:53:01.174116Z",
     "iopub.status.busy": "2023-12-04T10:53:01.173963Z",
     "iopub.status.idle": "2023-12-04T10:53:01.177425Z",
     "shell.execute_reply": "2023-12-04T10:53:01.177075Z",
     "shell.execute_reply.started": "2023-12-04T10:53:01.174105Z"
    }
   },
   "outputs": [],
   "source": [
    "chat = ChatOpenAI(\n",
    "    model_name='gpt-3.5-turbo',\n",
    "    temperature=0.5,\n",
    "    max_tokens=1024\n",
    ")"
   ]
  },
  {
   "cell_type": "code",
   "execution_count": 27,
   "id": "3efd9aa4-50c4-465e-9b33-951298fb52f7",
   "metadata": {
    "execution": {
     "iopub.execute_input": "2023-12-04T10:53:02.403196Z",
     "iopub.status.busy": "2023-12-04T10:53:02.403007Z",
     "iopub.status.idle": "2023-12-04T10:53:02.405778Z",
     "shell.execute_reply": "2023-12-04T10:53:02.405460Z",
     "shell.execute_reply.started": "2023-12-04T10:53:02.403186Z"
    }
   },
   "outputs": [],
   "source": [
    "messages = [\n",
    "    SystemMessage(content=\"Voce e um especialista em machine learning que responde tudo em portugues do Brasil\"),\n",
    "    HumanMessage(content=\"explique em um paragrafo o que e machine learning.\")\n",
    "]"
   ]
  },
  {
   "cell_type": "code",
   "execution_count": 28,
   "id": "170cf840-622b-4143-9eb6-60f44fac66b4",
   "metadata": {
    "execution": {
     "iopub.execute_input": "2023-12-04T10:53:04.042291Z",
     "iopub.status.busy": "2023-12-04T10:53:04.042094Z",
     "iopub.status.idle": "2023-12-04T10:53:09.164167Z",
     "shell.execute_reply": "2023-12-04T10:53:09.163494Z",
     "shell.execute_reply.started": "2023-12-04T10:53:04.042281Z"
    }
   },
   "outputs": [],
   "source": [
    "output = chat(messages)"
   ]
  },
  {
   "cell_type": "code",
   "execution_count": 29,
   "id": "d1b7be10-6dba-4ee2-8516-9636197e78b4",
   "metadata": {
    "execution": {
     "iopub.execute_input": "2023-12-04T10:53:14.793903Z",
     "iopub.status.busy": "2023-12-04T10:53:14.793635Z",
     "iopub.status.idle": "2023-12-04T10:53:14.796817Z",
     "shell.execute_reply": "2023-12-04T10:53:14.796304Z",
     "shell.execute_reply.started": "2023-12-04T10:53:14.793887Z"
    }
   },
   "outputs": [
    {
     "name": "stdout",
     "output_type": "stream",
     "text": [
      "Machine learning, ou aprendizado de máquina, é uma área da inteligência artificial que se baseia em algoritmos e modelos estatísticos para permitir que os computadores aprendam e melhorem a partir de dados, sem serem explicitamente programados. É um processo de treinamento em que os sistemas são expostos a grandes volumes de dados, identificam padrões e tendências, e utilizam essas informações para tomar decisões ou realizar previsões de forma autônoma. O objetivo do machine learning é capacitar as máquinas a aprenderem e se adaptarem, proporcionando soluções mais eficientes e precisas em diversas áreas, como reconhecimento de padrões, análise de dados, processamento de linguagem natural, entre outras.\n"
     ]
    }
   ],
   "source": [
    "print(output.content)"
   ]
  },
  {
   "cell_type": "markdown",
   "id": "8fbec47e-c5a6-4d97-b46d-73a0a5f7162c",
   "metadata": {},
   "source": [
    "### Prompt Templates"
   ]
  },
  {
   "cell_type": "code",
   "execution_count": 35,
   "id": "b2afcfe0-e75c-426a-a4e8-858b5b6d3bcc",
   "metadata": {
    "execution": {
     "iopub.execute_input": "2023-12-04T11:03:13.377849Z",
     "iopub.status.busy": "2023-12-04T11:03:13.377689Z",
     "iopub.status.idle": "2023-12-04T11:03:13.380701Z",
     "shell.execute_reply": "2023-12-04T11:03:13.380138Z",
     "shell.execute_reply.started": "2023-12-04T11:03:13.377838Z"
    }
   },
   "outputs": [
    {
     "name": "stdout",
     "output_type": "stream",
     "text": [
      "input_variables=['idioma', 'virus'] template='Você é um virologista experiente.\\nEscreva 5 frases sobre o vírus {virus} no idioma {idioma}.'\n"
     ]
    }
   ],
   "source": [
    "meu_template = \"\"\"Você é um virologista experiente.\n",
    "Escreva 5 frases sobre o vírus {virus} no idioma {idioma}.\"\"\"\n",
    "\n",
    "prompt = PromptTemplate(\n",
    "    input_variables=['virus', 'idioma'],\n",
    "    template=meu_template\n",
    ")\n",
    "\n",
    "print(prompt)"
   ]
  },
  {
   "cell_type": "code",
   "execution_count": 38,
   "id": "315830a2-53b0-451c-945d-5b3de3225947",
   "metadata": {
    "execution": {
     "iopub.execute_input": "2023-12-04T11:03:35.909951Z",
     "iopub.status.busy": "2023-12-04T11:03:35.909792Z",
     "iopub.status.idle": "2023-12-04T11:03:42.056279Z",
     "shell.execute_reply": "2023-12-04T11:03:42.055731Z",
     "shell.execute_reply.started": "2023-12-04T11:03:35.909940Z"
    }
   },
   "outputs": [],
   "source": [
    "llm = OpenAI(\n",
    "    model_name='text-davinci-003',\n",
    "    temperature=0.7\n",
    ")\n",
    "\n",
    "output = llm(prompt.format(virus='covid-19', idioma='portugues do brasil'))"
   ]
  },
  {
   "cell_type": "code",
   "execution_count": 39,
   "id": "3921b580-ac24-40f6-91d5-1b6bfa8dc685",
   "metadata": {
    "execution": {
     "iopub.execute_input": "2023-12-04T11:03:42.057056Z",
     "iopub.status.busy": "2023-12-04T11:03:42.056944Z",
     "iopub.status.idle": "2023-12-04T11:03:42.059022Z",
     "shell.execute_reply": "2023-12-04T11:03:42.058799Z",
     "shell.execute_reply.started": "2023-12-04T11:03:42.057046Z"
    }
   },
   "outputs": [
    {
     "name": "stdout",
     "output_type": "stream",
     "text": [
      "\n",
      "\n",
      "1. O vírus covid-19 pode ser transmitido de pessoa para pessoa através de contato próximo ou por gotículas de saliva. \n",
      "2. É importante praticar medidas de higiene frequentes, como lavar as mãos ou usar álcool em gel, para evitar a propagação do vírus.\n",
      "3. O vírus covid-19 pode causar sintomas leves a graves, como tosse, febre, falta de ar e dificuldades respiratórias.\n",
      "4. As pessoas de maior risco para a doença são aquelas com idade avançada ou que possuem doenças preexistentes.\n",
      "5. A melhor maneira de prevenir a propagação do vírus covid-19 é evitando contato próximo com outras pessoas e seguindo as orientações das autoridades de saúde.\n"
     ]
    }
   ],
   "source": [
    "print(output)"
   ]
  },
  {
   "cell_type": "markdown",
   "id": "d0788566-6b6c-41e1-92f3-72d44b0b8338",
   "metadata": {},
   "source": [
    "### Simple Chains"
   ]
  },
  {
   "cell_type": "code",
   "execution_count": 41,
   "id": "d93b84a7-b0a2-4e52-a199-66fdc67ddc38",
   "metadata": {
    "execution": {
     "iopub.execute_input": "2023-12-04T11:14:42.980316Z",
     "iopub.status.busy": "2023-12-04T11:14:42.980144Z",
     "iopub.status.idle": "2023-12-04T11:14:42.983661Z",
     "shell.execute_reply": "2023-12-04T11:14:42.983436Z",
     "shell.execute_reply.started": "2023-12-04T11:14:42.980305Z"
    }
   },
   "outputs": [],
   "source": [
    "llm = ChatOpenAI(\n",
    "    model_name='gpt-4',\n",
    "    temperature=0.5\n",
    ")\n",
    "\n",
    "meu_template = \"\"\"Você é um virologista experiente.\n",
    "Escreva um resumo sobre o vírus {virus} no idioma {idioma}.\"\"\"\n",
    "\n",
    "prompt = PromptTemplate(\n",
    "    input_variables=['virus', 'idioma'],\n",
    "    template=meu_template\n",
    ")\n",
    "\n",
    "chain = LLMChain(llm=llm, prompt=prompt)"
   ]
  },
  {
   "cell_type": "code",
   "execution_count": 42,
   "id": "601b2aeb-b8b3-4f49-ac27-4edf97a13725",
   "metadata": {
    "execution": {
     "iopub.execute_input": "2023-12-04T11:16:03.674569Z",
     "iopub.status.busy": "2023-12-04T11:16:03.674384Z",
     "iopub.status.idle": "2023-12-04T11:16:35.114128Z",
     "shell.execute_reply": "2023-12-04T11:16:35.113560Z",
     "shell.execute_reply.started": "2023-12-04T11:16:03.674559Z"
    }
   },
   "outputs": [],
   "source": [
    "output = chain.run({\n",
    "    'virus':'covid-19','idioma':'portugues do brasil'\n",
    "})"
   ]
  },
  {
   "cell_type": "code",
   "execution_count": 43,
   "id": "63ea3d92-716f-487b-9701-8c0639be4c97",
   "metadata": {
    "execution": {
     "iopub.execute_input": "2023-12-04T11:16:41.256731Z",
     "iopub.status.busy": "2023-12-04T11:16:41.256546Z",
     "iopub.status.idle": "2023-12-04T11:16:41.259297Z",
     "shell.execute_reply": "2023-12-04T11:16:41.258921Z",
     "shell.execute_reply.started": "2023-12-04T11:16:41.256721Z"
    }
   },
   "outputs": [
    {
     "name": "stdout",
     "output_type": "stream",
     "text": [
      "O COVID-19 é uma doença infecciosa causada pelo coronavírus SARS-CoV-2. Foi identificado pela primeira vez em Wuhan, China, em dezembro de 2019 e, desde então, desencadeou uma pandemia global. O vírus se espalha principalmente através de gotículas produzidas quando uma pessoa infectada tosse, espirra ou fala. Também pode se espalhar tocando uma superfície ou objeto contaminado e depois tocando a boca, nariz ou olhos.\n",
      "\n",
      "Os sintomas do COVID-19 variam em gravidade, desde infecções assintomáticas ou leves a casos graves ou críticos. Os sintomas mais comuns incluem febre, tosse seca e cansaço, mas também podem incluir dores no corpo, dor de garganta, perda de paladar ou olfato, e dificuldade para respirar. Em casos graves, pode levar a pneumonia, síndrome respiratória aguda grave e morte.\n",
      "\n",
      "A prevenção da COVID-19 envolve medidas de saúde pública para reduzir a transmissão do vírus. Isso inclui distanciamento físico, uso de máscaras faciais, higienização frequente das mãos, cobrir a boca ao tossir ou espirrar e limpeza e desinfecção regulares. Vacinas para COVID-19 foram desenvolvidas e estão sendo distribuídas globalmente, o que tem um papel crucial no controle da pandemia.\n",
      "\n",
      "O tratamento para COVID-19 depende da gravidade dos sintomas. Pode variar de autoisolamento e repouso em casa para casos leves, até hospitalização e tratamento intensivo para casos graves. Até o momento, não há cura específica para o COVID-19, mas várias terapias estão sendo investigadas e utilizadas para gerenciar os sintomas e complicações da doença.\n"
     ]
    }
   ],
   "source": [
    "print(output)"
   ]
  },
  {
   "cell_type": "markdown",
   "id": "53dd739e-5c37-48e1-af47-2efcb239ade3",
   "metadata": {},
   "source": [
    "### Sequencial Chains"
   ]
  },
  {
   "cell_type": "code",
   "execution_count": 18,
   "id": "40a2e72a-7bb2-4a9a-956a-03b0c29b9a49",
   "metadata": {
    "execution": {
     "iopub.execute_input": "2023-12-08T11:10:48.177111Z",
     "iopub.status.busy": "2023-12-08T11:10:48.176907Z",
     "iopub.status.idle": "2023-12-08T11:10:48.180364Z",
     "shell.execute_reply": "2023-12-08T11:10:48.180076Z",
     "shell.execute_reply.started": "2023-12-08T11:10:48.177099Z"
    }
   },
   "outputs": [],
   "source": [
    "#--- primeira chain ---\n",
    "\n",
    "llm1 = OpenAI(\n",
    "    model_name='text-davinci-003',\n",
    "    temperature=0.7,\n",
    "    max_tokens=1024\n",
    ")\n",
    "\n",
    "prompt1 = PromptTemplate(\n",
    "    input_variables=['conceito'],\n",
    "    template=\"\"\"\n",
    "    Voce e um cientista experiente e programador Python.\n",
    "    Escreva uma funcao que implementa o conceito de {conceito}\"\"\"\n",
    ")\n",
    "\n",
    "chain1 = LLMChain(llm=llm1, prompt=prompt1)"
   ]
  },
  {
   "cell_type": "code",
   "execution_count": 26,
   "id": "09cf3b6d-8882-4da0-80ca-b9361108526c",
   "metadata": {
    "execution": {
     "iopub.execute_input": "2023-12-08T11:14:31.279609Z",
     "iopub.status.busy": "2023-12-08T11:14:31.279444Z",
     "iopub.status.idle": "2023-12-08T11:14:31.282629Z",
     "shell.execute_reply": "2023-12-08T11:14:31.282327Z",
     "shell.execute_reply.started": "2023-12-08T11:14:31.279597Z"
    }
   },
   "outputs": [],
   "source": [
    "# --- segunda chain ---\n",
    "\n",
    "llm2 = ChatOpenAI(\n",
    "    model_name='gpt-3.5-turbo',\n",
    "    temperature=1.2\n",
    ")\n",
    "\n",
    "prompt2 = PromptTemplate(\n",
    "    input_variables=['function'],\n",
    "    template=\"\"\"Dada a funcao Python {function}, descreva como funciona da forma mais detalhada possivel e por ultimo exiba a o codigo da funcao\"\"\"\n",
    ")\n",
    "\n",
    "chain2 = LLMChain(llm=llm2, prompt=prompt2)"
   ]
  },
  {
   "cell_type": "code",
   "execution_count": 27,
   "id": "c3635a5c-7fbc-447b-a5ff-e6a111b1fa1b",
   "metadata": {
    "execution": {
     "iopub.execute_input": "2023-12-08T11:14:33.496730Z",
     "iopub.status.busy": "2023-12-08T11:14:33.496568Z",
     "iopub.status.idle": "2023-12-08T11:14:53.121163Z",
     "shell.execute_reply": "2023-12-08T11:14:53.120881Z",
     "shell.execute_reply.started": "2023-12-08T11:14:33.496718Z"
    }
   },
   "outputs": [
    {
     "name": "stdout",
     "output_type": "stream",
     "text": [
      "\n",
      "\n",
      "\u001b[1m> Entering new SimpleSequentialChain chain...\u001b[0m\n",
      "\u001b[36;1m\u001b[1;3m.\n",
      "\n",
      "def linear_regression(x, y):\n",
      "    '''Esta funcao implementa o conceito de regressao linear.\n",
      "    \n",
      "    Ela calcula a linha de regressao que melhor se ajusta aos dados x e y,\n",
      "    usando o metodo dos minimos quadrados.\n",
      "    \n",
      "    Args:\n",
      "        x: Lista de valores de x.\n",
      "        y: Lista de valores de y.\n",
      "        \n",
      "    Retorna:\n",
      "        A inclinacao (m) e o intercepto (b) da linha de regressao.\n",
      "    '''\n",
      "    N = len(x)\n",
      "    \n",
      "    # Calcula a media dos valores de x e y\n",
      "    x_mean = sum(x)/N\n",
      "    y_mean = sum(y)/N\n",
      "    \n",
      "    # Calcula os coeficientes da regressao linear\n",
      "    numerador = 0\n",
      "    denominador = 0\n",
      "    for i in range(N):\n",
      "        numerador += (x[i] - x_mean) * (y[i] - y_mean)\n",
      "        denominador += (x[i] - x_mean)**2\n",
      "    m = numerador/denominador\n",
      "    b = y_mean - m*x_mean\n",
      "    \n",
      "    return m, b\u001b[0m\n",
      "\u001b[33;1m\u001b[1;3mA função `linear_regression` implementa o conceito de regressão linear, que é um método estatístico para encontrar a melhor linha de ajuste aos dados.\n",
      "A função recebe duas listas de valores, `x` e `y`, que representam os pontos no gráfico. Ela calcula a inclinação (m) e o intercepto (b) da linha de regressão que melhor se ajusta aos dados usando o método dos mínimos quadrados.\n",
      "\n",
      "A função começa obtendo o número de elementos nas listas `x` e `y`. Isso é armazenado em `N` por meio da função `len()`.\n",
      "\n",
      "Em seguida, a função calcula a média dos valores de `x` e `y`. Isso é feito somando todos os elementos da lista e dividindo pelo total de elementos. A média de `x` é armazenada em `x_mean`, e a média de `y` é armazenada em `y_mean`.\n",
      "\n",
      "Agora a função inicia o cálculo dos coeficientes da regressão linear. Ela usa um loop `for` para percorrer todos os elementos das listas `x` e `y`. Para cada elemento, ela calcula as diferenças em relação às médias de `x` e `y` e as multiplica. Esses valores são somados ao numerador.\n",
      "\n",
      "A função também calcula o denominador somando as diferenças de `x` em relação à média de `x` ao quadrado.\n",
      "\n",
      "Em seguida, a função calcula o coeficiente angular `m` dividindo o numerador pelo denominador e calcula o coeficiente linear `b` subtraindo `m` multiplicado pela média de `x` da média de `y`.\n",
      "\n",
      "Por fim, a função retorna `m` e `b`, ou seja, a inclinação e o intercepto da linha de regressão.\n",
      "\n",
      "Aqui está o código da função:\n",
      "\n",
      "```python\n",
      "def linear_regression(x, y):\n",
      "    N = len(x)\n",
      "    \n",
      "    x_mean = sum(x)/N\n",
      "    y_mean = sum(y)/N\n",
      "    \n",
      "    numerador = 0\n",
      "    denominador = 0\n",
      "    \n",
      "    for i in range(N):\n",
      "        numerador += (x[i] - x_mean) * (y[i] - y_mean)\n",
      "        denominador += (x[i] - x_mean)**2\n",
      "    \n",
      "    m = numerador/denominador\n",
      "    b = y_mean - m*x_mean\n",
      "    \n",
      "    return m, b\n",
      "```\n",
      "\n",
      "A função recebe uma lista de valores `x` e uma lista de valores `y` e retorna a inclinação `m` e o intercepto `b`, que são os coeficientes da linha de regressão que melhor se ajustam aos dados.\u001b[0m\n",
      "\n",
      "\u001b[1m> Finished chain.\u001b[0m\n"
     ]
    }
   ],
   "source": [
    "overall_chain = SimpleSequentialChain(chains=[chain1, chain2], verbose=True)\n",
    "output = overall_chain.run('regressao linear')"
   ]
  },
  {
   "cell_type": "code",
   "execution_count": 28,
   "id": "04c2c0c1-9e74-43c4-8442-816be4f7c647",
   "metadata": {
    "execution": {
     "iopub.execute_input": "2023-12-08T11:14:57.979642Z",
     "iopub.status.busy": "2023-12-08T11:14:57.979398Z",
     "iopub.status.idle": "2023-12-08T11:14:57.982457Z",
     "shell.execute_reply": "2023-12-08T11:14:57.982021Z",
     "shell.execute_reply.started": "2023-12-08T11:14:57.979622Z"
    }
   },
   "outputs": [
    {
     "name": "stdout",
     "output_type": "stream",
     "text": [
      "A função `linear_regression` implementa o conceito de regressão linear, que é um método estatístico para encontrar a melhor linha de ajuste aos dados.\n",
      "A função recebe duas listas de valores, `x` e `y`, que representam os pontos no gráfico. Ela calcula a inclinação (m) e o intercepto (b) da linha de regressão que melhor se ajusta aos dados usando o método dos mínimos quadrados.\n",
      "\n",
      "A função começa obtendo o número de elementos nas listas `x` e `y`. Isso é armazenado em `N` por meio da função `len()`.\n",
      "\n",
      "Em seguida, a função calcula a média dos valores de `x` e `y`. Isso é feito somando todos os elementos da lista e dividindo pelo total de elementos. A média de `x` é armazenada em `x_mean`, e a média de `y` é armazenada em `y_mean`.\n",
      "\n",
      "Agora a função inicia o cálculo dos coeficientes da regressão linear. Ela usa um loop `for` para percorrer todos os elementos das listas `x` e `y`. Para cada elemento, ela calcula as diferenças em relação às médias de `x` e `y` e as multiplica. Esses valores são somados ao numerador.\n",
      "\n",
      "A função também calcula o denominador somando as diferenças de `x` em relação à média de `x` ao quadrado.\n",
      "\n",
      "Em seguida, a função calcula o coeficiente angular `m` dividindo o numerador pelo denominador e calcula o coeficiente linear `b` subtraindo `m` multiplicado pela média de `x` da média de `y`.\n",
      "\n",
      "Por fim, a função retorna `m` e `b`, ou seja, a inclinação e o intercepto da linha de regressão.\n",
      "\n",
      "Aqui está o código da função:\n",
      "\n",
      "```python\n",
      "def linear_regression(x, y):\n",
      "    N = len(x)\n",
      "    \n",
      "    x_mean = sum(x)/N\n",
      "    y_mean = sum(y)/N\n",
      "    \n",
      "    numerador = 0\n",
      "    denominador = 0\n",
      "    \n",
      "    for i in range(N):\n",
      "        numerador += (x[i] - x_mean) * (y[i] - y_mean)\n",
      "        denominador += (x[i] - x_mean)**2\n",
      "    \n",
      "    m = numerador/denominador\n",
      "    b = y_mean - m*x_mean\n",
      "    \n",
      "    return m, b\n",
      "```\n",
      "\n",
      "A função recebe uma lista de valores `x` e uma lista de valores `y` e retorna a inclinação `m` e o intercepto `b`, que são os coeficientes da linha de regressão que melhor se ajustam aos dados.\n"
     ]
    }
   ],
   "source": [
    "print(output)"
   ]
  }
 ],
 "metadata": {
  "kernelspec": {
   "display_name": "cuda",
   "language": "python",
   "name": "cuda"
  },
  "language_info": {
   "codemirror_mode": {
    "name": "ipython",
    "version": 3
   },
   "file_extension": ".py",
   "mimetype": "text/x-python",
   "name": "python",
   "nbconvert_exporter": "python",
   "pygments_lexer": "ipython3",
   "version": "3.10.13"
  }
 },
 "nbformat": 4,
 "nbformat_minor": 5
}
