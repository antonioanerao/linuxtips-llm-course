{
 "cells": [
  {
   "cell_type": "code",
   "execution_count": 15,
   "id": "ccd8fdd7-e0ff-4b98-b919-cd22b6bc1923",
   "metadata": {
    "execution": {
     "iopub.execute_input": "2024-02-15T11:05:29.133818Z",
     "iopub.status.busy": "2024-02-15T11:05:29.133651Z",
     "iopub.status.idle": "2024-02-15T11:05:29.136181Z",
     "shell.execute_reply": "2024-02-15T11:05:29.135857Z",
     "shell.execute_reply.started": "2024-02-15T11:05:29.133806Z"
    }
   },
   "outputs": [],
   "source": [
    "import torch\n",
    "import os\n",
    "from dotenv import load_dotenv\n",
    "import tiktoken\n",
    "from langchain.embeddings import OpenAIEmbeddings\n",
    "import pinecone\n",
    "from langchain.vectorstores import Pinecone\n",
    "from langchain.text_splitter import RecursiveCharacterTextSplitter\n",
    "from langchain.chat_models import ChatOpenAI\n",
    "from langchain.chains import RetrievalQA"
   ]
  },
  {
   "cell_type": "code",
   "execution_count": 2,
   "id": "2d14191b-393f-43bb-9e5f-37a0240bc493",
   "metadata": {
    "execution": {
     "iopub.execute_input": "2024-02-15T11:04:33.781817Z",
     "iopub.status.busy": "2024-02-15T11:04:33.781577Z",
     "iopub.status.idle": "2024-02-15T11:04:33.787715Z",
     "shell.execute_reply": "2024-02-15T11:04:33.787238Z",
     "shell.execute_reply.started": "2024-02-15T11:04:33.781799Z"
    }
   },
   "outputs": [
    {
     "data": {
      "text/plain": [
       "True"
      ]
     },
     "execution_count": 2,
     "metadata": {},
     "output_type": "execute_result"
    }
   ],
   "source": [
    "load_dotenv('./.env')"
   ]
  },
  {
   "cell_type": "markdown",
   "id": "167eb948-647b-4c49-9fe1-6a8f2845b024",
   "metadata": {},
   "source": [
    "#### Leitura do arquivo e criação do splitter'"
   ]
  },
  {
   "cell_type": "code",
   "execution_count": 3,
   "id": "7a1cafe3-f4a4-4ef0-8ed9-ac39e3accd72",
   "metadata": {
    "execution": {
     "iopub.execute_input": "2024-02-15T11:04:33.788544Z",
     "iopub.status.busy": "2024-02-15T11:04:33.788309Z",
     "iopub.status.idle": "2024-02-15T11:04:33.804639Z",
     "shell.execute_reply": "2024-02-15T11:04:33.804278Z",
     "shell.execute_reply.started": "2024-02-15T11:04:33.788526Z"
    }
   },
   "outputs": [],
   "source": [
    "with open('docs/nat.txt') as f:\n",
    "    clt = f.read()\n",
    "\n",
    "# Criação de um objeto RecursiveCharacterTextSplitter para dividir o texto em pedaços\n",
    "text_splitter = RecursiveCharacterTextSplitter(\n",
    "    chunk_size=500,\n",
    "    chunk_overlap=10,\n",
    "    length_function=len\n",
    ")"
   ]
  },
  {
   "cell_type": "code",
   "execution_count": 4,
   "id": "5ad2f45e-6475-4e0b-8ad9-7b7fb0a9d8df",
   "metadata": {
    "execution": {
     "iopub.execute_input": "2024-02-15T11:04:33.805270Z",
     "iopub.status.busy": "2024-02-15T11:04:33.805135Z",
     "iopub.status.idle": "2024-02-15T11:04:33.817179Z",
     "shell.execute_reply": "2024-02-15T11:04:33.816842Z",
     "shell.execute_reply.started": "2024-02-15T11:04:33.805257Z"
    }
   },
   "outputs": [],
   "source": [
    "chunks = text_splitter.create_documents([clt])"
   ]
  },
  {
   "cell_type": "code",
   "execution_count": 5,
   "id": "8ce3c0af-2380-419b-8ac1-9036087e7eac",
   "metadata": {
    "execution": {
     "iopub.execute_input": "2024-02-15T11:04:33.817694Z",
     "iopub.status.busy": "2024-02-15T11:04:33.817581Z",
     "iopub.status.idle": "2024-02-15T11:04:33.831943Z",
     "shell.execute_reply": "2024-02-15T11:04:33.831585Z",
     "shell.execute_reply.started": "2024-02-15T11:04:33.817684Z"
    }
   },
   "outputs": [],
   "source": [
    "# Função para calcular o valor do embedding usando o ada-002 da OpenAI\n",
    "def embedding_cost(texts):\n",
    "    enc = tiktoken.encoding_for_model('text-embedding-ada-002')\n",
    "    total_tokens = sum([len(enc.encode(page.page_content)) for page in texts])\n",
    "    total_em_dolar = total_tokens / 1000 * 0.0001\n",
    "    print(f'Total de tokens: {total_tokens}')\n",
    "    print(f'Custo de Embedding em USD: {total_em_dolar:.6f}')\n",
    "    print(f'Custo de Embedding em R$: {total_em_dolar * 4.95:.6f}')"
   ]
  },
  {
   "cell_type": "code",
   "execution_count": 6,
   "id": "86c8fab6-1539-40dc-ac3d-30b9cec323eb",
   "metadata": {
    "execution": {
     "iopub.execute_input": "2024-02-15T11:04:33.832533Z",
     "iopub.status.busy": "2024-02-15T11:04:33.832363Z",
     "iopub.status.idle": "2024-02-15T11:04:33.997540Z",
     "shell.execute_reply": "2024-02-15T11:04:33.997251Z",
     "shell.execute_reply.started": "2024-02-15T11:04:33.832522Z"
    }
   },
   "outputs": [
    {
     "name": "stdout",
     "output_type": "stream",
     "text": [
      "Total de tokens: 818\n",
      "Custo de Embedding em USD: 0.000082\n",
      "Custo de Embedding em R$: 0.000405\n"
     ]
    }
   ],
   "source": [
    "embedding_cost(chunks)"
   ]
  },
  {
   "cell_type": "code",
   "execution_count": 7,
   "id": "843fdb58-d3d1-4535-a320-704fc192f196",
   "metadata": {
    "execution": {
     "iopub.execute_input": "2024-02-15T11:04:33.998805Z",
     "iopub.status.busy": "2024-02-15T11:04:33.998601Z",
     "iopub.status.idle": "2024-02-15T11:04:34.063774Z",
     "shell.execute_reply": "2024-02-15T11:04:34.063428Z",
     "shell.execute_reply.started": "2024-02-15T11:04:33.998794Z"
    }
   },
   "outputs": [],
   "source": [
    "embeddings = OpenAIEmbeddings()"
   ]
  },
  {
   "cell_type": "code",
   "execution_count": 8,
   "id": "d50c5c2d-0208-4b5e-9609-85a2dd87d1b0",
   "metadata": {
    "execution": {
     "iopub.execute_input": "2024-02-15T11:04:34.064342Z",
     "iopub.status.busy": "2024-02-15T11:04:34.064202Z",
     "iopub.status.idle": "2024-02-15T11:04:34.650240Z",
     "shell.execute_reply": "2024-02-15T11:04:34.648969Z",
     "shell.execute_reply.started": "2024-02-15T11:04:34.064331Z"
    }
   },
   "outputs": [],
   "source": [
    "pinecone.init(api_key=os.environ.get('PINECONE_API_KEY'), environment=os.environ.get('PINECONE_ENV'))"
   ]
  },
  {
   "cell_type": "code",
   "execution_count": 9,
   "id": "47f2d76a-532f-451c-b0b5-461062ee906c",
   "metadata": {
    "execution": {
     "iopub.execute_input": "2024-02-15T11:04:34.652492Z",
     "iopub.status.busy": "2024-02-15T11:04:34.652004Z",
     "iopub.status.idle": "2024-02-15T11:04:41.114453Z",
     "shell.execute_reply": "2024-02-15T11:04:41.114004Z",
     "shell.execute_reply.started": "2024-02-15T11:04:34.652445Z"
    }
   },
   "outputs": [
    {
     "name": "stdout",
     "output_type": "stream",
     "text": [
      "Index encontrada e apagada: natgpt\n"
     ]
    }
   ],
   "source": [
    "indexes = pinecone.list_indexes()\n",
    "for i in indexes:\n",
    "    print('Index encontrada e apagada: ' + i)\n",
    "    pinecone.delete_index(i)"
   ]
  },
  {
   "cell_type": "code",
   "execution_count": 10,
   "id": "16ce7cf3-fdb4-4b4a-ae54-aa314ca8af13",
   "metadata": {
    "execution": {
     "iopub.execute_input": "2024-02-15T11:04:41.115206Z",
     "iopub.status.busy": "2024-02-15T11:04:41.115098Z",
     "iopub.status.idle": "2024-02-15T11:04:47.882055Z",
     "shell.execute_reply": "2024-02-15T11:04:47.880092Z",
     "shell.execute_reply.started": "2024-02-15T11:04:41.115196Z"
    }
   },
   "outputs": [
    {
     "name": "stdout",
     "output_type": "stream",
     "text": [
      "Index natgpt criado\n"
     ]
    }
   ],
   "source": [
    "index_name = 'natgpt'\n",
    "if index_name not in pinecone.list_indexes():\n",
    "    pinecone.create_index(index_name, dimension=1536, metric='cosine')\n",
    "    print('Index '+index_name+' criado')"
   ]
  },
  {
   "cell_type": "code",
   "execution_count": 11,
   "id": "411c8651-15d6-4f66-955f-6fcc5cdb048f",
   "metadata": {
    "execution": {
     "iopub.execute_input": "2024-02-15T11:04:47.885847Z",
     "iopub.status.busy": "2024-02-15T11:04:47.885315Z",
     "iopub.status.idle": "2024-02-15T11:04:50.374468Z",
     "shell.execute_reply": "2024-02-15T11:04:50.372246Z",
     "shell.execute_reply.started": "2024-02-15T11:04:47.885799Z"
    }
   },
   "outputs": [],
   "source": [
    "vector_store = Pinecone.from_documents(chunks, embeddings, index_name=index_name)"
   ]
  },
  {
   "cell_type": "markdown",
   "id": "b430f3c8-d72c-4a42-8697-4dcfd21b9e68",
   "metadata": {},
   "source": [
    "### Conversando com LLM sobre dados"
   ]
  },
  {
   "cell_type": "code",
   "execution_count": 12,
   "id": "38cd0c21-5e53-4d7f-bb8c-09f5abad35de",
   "metadata": {
    "execution": {
     "iopub.execute_input": "2024-02-15T11:04:50.376349Z",
     "iopub.status.busy": "2024-02-15T11:04:50.375939Z",
     "iopub.status.idle": "2024-02-15T11:04:50.390172Z",
     "shell.execute_reply": "2024-02-15T11:04:50.388700Z",
     "shell.execute_reply.started": "2024-02-15T11:04:50.376306Z"
    }
   },
   "outputs": [],
   "source": [
    "llm = ChatOpenAI(model='gpt-3.5-turbo-16k', temperature=0.5)\n",
    "retriever = vector_store.as_retriever(search_type='similarity', search_kwargs={'k':3})\n",
    "chain = RetrievalQA.from_chain_type(llm=llm, chain_type='stuff', retriever=retriever)"
   ]
  },
  {
   "cell_type": "code",
   "execution_count": 16,
   "id": "1fe252fa-3ce8-4054-9d95-df96d27d985c",
   "metadata": {
    "execution": {
     "iopub.execute_input": "2024-02-15T11:05:40.981649Z",
     "iopub.status.busy": "2024-02-15T11:05:40.981096Z",
     "iopub.status.idle": "2024-02-15T11:05:44.983006Z",
     "shell.execute_reply": "2024-02-15T11:05:44.981151Z",
     "shell.execute_reply.started": "2024-02-15T11:05:40.981600Z"
    }
   },
   "outputs": [],
   "source": [
    "query = 'me da um resumo sobre o que é o nat'\n",
    "resp = chain.run(query)"
   ]
  },
  {
   "cell_type": "code",
   "execution_count": 17,
   "id": "dde95ad7-7cb6-4e33-b235-25ce3841dc3e",
   "metadata": {
    "execution": {
     "iopub.execute_input": "2024-02-15T11:05:46.017115Z",
     "iopub.status.busy": "2024-02-15T11:05:46.016267Z",
     "iopub.status.idle": "2024-02-15T11:05:46.025174Z",
     "shell.execute_reply": "2024-02-15T11:05:46.023755Z",
     "shell.execute_reply.started": "2024-02-15T11:05:46.017062Z"
    }
   },
   "outputs": [
    {
     "name": "stdout",
     "output_type": "stream",
     "text": [
      "O Núcleo de Apoio Técnico (NAT) é um órgão auxiliar do Ministério Público do Estado do Acre, criado com o objetivo de fornecer suporte técnico, científico e operacional aos membros e órgãos do Ministério Público. Ele foi estabelecido em 2012 e regulado pela Lei Orgânica do Ministério Público do Estado do Acre em 2014. O NAT atende demandas de baixa, média e alta complexidade, tanto em processos judiciais quanto extrajudiciais, e também oferece apoio ao Grupo de Atuação Especial de Combate ao Crime Organizado (GAECO) em suas operações e atividades diárias. Desde a sua criação, o NAT tem sido fundamental para o desenvolvimento das atividades finais da instituição.\n"
     ]
    }
   ],
   "source": [
    "print(resp)"
   ]
  }
 ],
 "metadata": {
  "kernelspec": {
   "display_name": "cuda",
   "language": "python",
   "name": "cuda"
  },
  "language_info": {
   "codemirror_mode": {
    "name": "ipython",
    "version": 3
   },
   "file_extension": ".py",
   "mimetype": "text/x-python",
   "name": "python",
   "nbconvert_exporter": "python",
   "pygments_lexer": "ipython3",
   "version": "3.10.13"
  }
 },
 "nbformat": 4,
 "nbformat_minor": 5
}
