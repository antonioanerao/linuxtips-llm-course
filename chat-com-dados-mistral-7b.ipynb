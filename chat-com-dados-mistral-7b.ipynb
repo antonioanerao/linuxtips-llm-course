{
 "cells": [
  {
   "cell_type": "code",
   "execution_count": 3,
   "id": "ccd8fdd7-e0ff-4b98-b919-cd22b6bc1923",
   "metadata": {
    "execution": {
     "iopub.execute_input": "2024-02-16T16:49:20.067384Z",
     "iopub.status.busy": "2024-02-16T16:49:20.066950Z",
     "iopub.status.idle": "2024-02-16T16:49:20.072736Z",
     "shell.execute_reply": "2024-02-16T16:49:20.072030Z",
     "shell.execute_reply.started": "2024-02-16T16:49:20.067353Z"
    }
   },
   "outputs": [],
   "source": [
    "import torch\n",
    "import os\n",
    "from dotenv import load_dotenv\n",
    "import tiktoken\n",
    "from langchain.embeddings import OpenAIEmbeddings\n",
    "import pinecone\n",
    "from langchain.vectorstores import Pinecone\n",
    "from langchain.text_splitter import RecursiveCharacterTextSplitter\n",
    "from langchain.chains import RetrievalQA"
   ]
  },
  {
   "cell_type": "code",
   "execution_count": 4,
   "id": "2d14191b-393f-43bb-9e5f-37a0240bc493",
   "metadata": {
    "execution": {
     "iopub.execute_input": "2024-02-16T16:49:20.754437Z",
     "iopub.status.busy": "2024-02-16T16:49:20.753887Z",
     "iopub.status.idle": "2024-02-16T16:49:20.764025Z",
     "shell.execute_reply": "2024-02-16T16:49:20.763254Z",
     "shell.execute_reply.started": "2024-02-16T16:49:20.754386Z"
    }
   },
   "outputs": [
    {
     "data": {
      "text/plain": [
       "True"
      ]
     },
     "execution_count": 4,
     "metadata": {},
     "output_type": "execute_result"
    }
   ],
   "source": [
    "load_dotenv('./.env')"
   ]
  },
  {
   "cell_type": "markdown",
   "id": "167eb948-647b-4c49-9fe1-6a8f2845b024",
   "metadata": {},
   "source": [
    "#### Leitura do arquivo e criação do splitter'"
   ]
  },
  {
   "cell_type": "code",
   "execution_count": 5,
   "id": "7a1cafe3-f4a4-4ef0-8ed9-ac39e3accd72",
   "metadata": {
    "execution": {
     "iopub.execute_input": "2024-02-16T16:49:22.941159Z",
     "iopub.status.busy": "2024-02-16T16:49:22.940624Z",
     "iopub.status.idle": "2024-02-16T16:49:22.948532Z",
     "shell.execute_reply": "2024-02-16T16:49:22.947673Z",
     "shell.execute_reply.started": "2024-02-16T16:49:22.941112Z"
    }
   },
   "outputs": [],
   "source": [
    "with open('docs/nat.txt') as f:\n",
    "    clt = f.read()\n",
    "\n",
    "# Criação de um objeto RecursiveCharacterTextSplitter para dividir o texto em pedaços\n",
    "text_splitter = RecursiveCharacterTextSplitter(\n",
    "    chunk_size=500,\n",
    "    chunk_overlap=10,\n",
    "    length_function=len\n",
    ")"
   ]
  },
  {
   "cell_type": "code",
   "execution_count": 6,
   "id": "5ad2f45e-6475-4e0b-8ad9-7b7fb0a9d8df",
   "metadata": {
    "execution": {
     "iopub.execute_input": "2024-02-16T16:49:24.398106Z",
     "iopub.status.busy": "2024-02-16T16:49:24.397522Z",
     "iopub.status.idle": "2024-02-16T16:49:24.404865Z",
     "shell.execute_reply": "2024-02-16T16:49:24.403932Z",
     "shell.execute_reply.started": "2024-02-16T16:49:24.398058Z"
    }
   },
   "outputs": [],
   "source": [
    "chunks = text_splitter.create_documents([clt])"
   ]
  },
  {
   "cell_type": "code",
   "execution_count": 7,
   "id": "8ce3c0af-2380-419b-8ac1-9036087e7eac",
   "metadata": {
    "execution": {
     "iopub.execute_input": "2024-02-16T16:49:24.919704Z",
     "iopub.status.busy": "2024-02-16T16:49:24.919504Z",
     "iopub.status.idle": "2024-02-16T16:49:24.922589Z",
     "shell.execute_reply": "2024-02-16T16:49:24.922327Z",
     "shell.execute_reply.started": "2024-02-16T16:49:24.919687Z"
    }
   },
   "outputs": [],
   "source": [
    "# Função para calcular o valor do embedding usando o ada-002 da OpenAI\n",
    "def embedding_cost(texts):\n",
    "    enc = tiktoken.encoding_for_model('text-embedding-ada-002')\n",
    "    total_tokens = sum([len(enc.encode(page.page_content)) for page in texts])\n",
    "    total_em_dolar = total_tokens / 1000 * 0.0001\n",
    "    print(f'Total de tokens: {total_tokens}')\n",
    "    print(f'Custo de Embedding em USD: {total_em_dolar:.6f}')\n",
    "    print(f'Custo de Embedding em R$: {total_em_dolar * 4.95:.6f}')"
   ]
  },
  {
   "cell_type": "code",
   "execution_count": 8,
   "id": "86c8fab6-1539-40dc-ac3d-30b9cec323eb",
   "metadata": {
    "execution": {
     "iopub.execute_input": "2024-02-16T16:49:25.409283Z",
     "iopub.status.busy": "2024-02-16T16:49:25.409094Z",
     "iopub.status.idle": "2024-02-16T16:49:25.635636Z",
     "shell.execute_reply": "2024-02-16T16:49:25.635112Z",
     "shell.execute_reply.started": "2024-02-16T16:49:25.409270Z"
    }
   },
   "outputs": [
    {
     "name": "stdout",
     "output_type": "stream",
     "text": [
      "Total de tokens: 818\n",
      "Custo de Embedding em USD: 0.000082\n",
      "Custo de Embedding em R$: 0.000405\n"
     ]
    }
   ],
   "source": [
    "embedding_cost(chunks)"
   ]
  },
  {
   "cell_type": "code",
   "execution_count": 9,
   "id": "843fdb58-d3d1-4535-a320-704fc192f196",
   "metadata": {
    "execution": {
     "iopub.execute_input": "2024-02-16T16:49:26.480839Z",
     "iopub.status.busy": "2024-02-16T16:49:26.480140Z",
     "iopub.status.idle": "2024-02-16T16:49:26.496731Z",
     "shell.execute_reply": "2024-02-16T16:49:26.496290Z",
     "shell.execute_reply.started": "2024-02-16T16:49:26.480787Z"
    }
   },
   "outputs": [],
   "source": [
    "embeddings = OpenAIEmbeddings()"
   ]
  },
  {
   "cell_type": "markdown",
   "id": "2db3c938-7ad8-4b5c-be33-fc32144a01a1",
   "metadata": {},
   "source": [
    "### Pinecone\n",
    "\n",
    "Pinecone é um serviço de banco de dados vetorizado projetado para buscas por similaridade em larga escala. Ele permite que você armazene e pesquise vetores de alta dimensão, que são representações numéricas de dados complexos, como textos, imagens, e mais."
   ]
  },
  {
   "cell_type": "code",
   "execution_count": 10,
   "id": "d50c5c2d-0208-4b5e-9609-85a2dd87d1b0",
   "metadata": {
    "execution": {
     "iopub.execute_input": "2024-02-16T16:49:28.205305Z",
     "iopub.status.busy": "2024-02-16T16:49:28.204716Z",
     "iopub.status.idle": "2024-02-16T16:49:28.839853Z",
     "shell.execute_reply": "2024-02-16T16:49:28.837931Z",
     "shell.execute_reply.started": "2024-02-16T16:49:28.205250Z"
    }
   },
   "outputs": [],
   "source": [
    "pinecone.init(api_key=os.environ.get('PINECONE_API_KEY'), environment=os.environ.get('PINECONE_ENV'))"
   ]
  },
  {
   "cell_type": "code",
   "execution_count": 11,
   "id": "1f9582ce-9f27-4e25-8066-ad69dd598080",
   "metadata": {
    "execution": {
     "iopub.execute_input": "2024-02-16T16:49:28.842621Z",
     "iopub.status.busy": "2024-02-16T16:49:28.842158Z",
     "iopub.status.idle": "2024-02-16T16:49:29.326751Z",
     "shell.execute_reply": "2024-02-16T16:49:29.325213Z",
     "shell.execute_reply.started": "2024-02-16T16:49:28.842576Z"
    }
   },
   "outputs": [],
   "source": [
    "indexes = pinecone.list_indexes()\n",
    "index_name = 'natgpt'"
   ]
  },
  {
   "cell_type": "code",
   "execution_count": 12,
   "id": "47f2d76a-532f-451c-b0b5-461062ee906c",
   "metadata": {
    "execution": {
     "iopub.execute_input": "2024-02-16T16:49:31.131693Z",
     "iopub.status.busy": "2024-02-16T16:49:31.131426Z",
     "iopub.status.idle": "2024-02-16T16:49:37.445879Z",
     "shell.execute_reply": "2024-02-16T16:49:37.443812Z",
     "shell.execute_reply.started": "2024-02-16T16:49:31.131677Z"
    }
   },
   "outputs": [
    {
     "name": "stdout",
     "output_type": "stream",
     "text": [
      "Index encontrada e apagada: natgpt\n"
     ]
    }
   ],
   "source": [
    "indexes = pinecone.list_indexes()\n",
    "for i in indexes:\n",
    "    print('Index encontrada e apagada: ' + i)\n",
    "    pinecone.delete_index(i)"
   ]
  },
  {
   "cell_type": "code",
   "execution_count": 13,
   "id": "16ce7cf3-fdb4-4b4a-ae54-aa314ca8af13",
   "metadata": {
    "execution": {
     "iopub.execute_input": "2024-02-16T16:49:38.557165Z",
     "iopub.status.busy": "2024-02-16T16:49:38.556752Z",
     "iopub.status.idle": "2024-02-16T16:49:45.357737Z",
     "shell.execute_reply": "2024-02-16T16:49:45.356196Z",
     "shell.execute_reply.started": "2024-02-16T16:49:38.557130Z"
    }
   },
   "outputs": [
    {
     "name": "stdout",
     "output_type": "stream",
     "text": [
      "Index natgpt criado\n"
     ]
    }
   ],
   "source": [
    "if index_name not in pinecone.list_indexes():\n",
    "    pinecone.create_index(index_name, dimension=1536, metric='cosine')\n",
    "    print('Index '+index_name+' criado')"
   ]
  },
  {
   "cell_type": "code",
   "execution_count": 14,
   "id": "411c8651-15d6-4f66-955f-6fcc5cdb048f",
   "metadata": {
    "execution": {
     "iopub.execute_input": "2024-02-16T16:50:23.404344Z",
     "iopub.status.busy": "2024-02-16T16:50:23.403770Z",
     "iopub.status.idle": "2024-02-16T16:50:25.568410Z",
     "shell.execute_reply": "2024-02-16T16:50:25.566832Z",
     "shell.execute_reply.started": "2024-02-16T16:50:23.404295Z"
    }
   },
   "outputs": [],
   "source": [
    "vector_store = Pinecone.from_documents(chunks, embeddings, index_name=index_name)"
   ]
  },
  {
   "cell_type": "markdown",
   "id": "35d0538a-50ce-47a6-a6c9-6d6233d22898",
   "metadata": {},
   "source": [
    "#### Busca por similaridade\n",
    "\n",
    "A busca por similaridade, no contexto de Pinecone, envolve a comparação de vetores numéricos para encontrar aqueles que são mais próximos entre si em termos de distância em um espaço vetorial. Essa \"proximidade\" pode ser calculada usando métricas como distância euclidiana, similaridade de cosseno, entre outras. Quanto menor a distância ou maior a similaridade, mais semelhantes são os itens.\n",
    "\n",
    "<div align=\"center\">\n",
    "    <img src=\"images/similarity.png\" width=\"50%\">\n",
    "</div>"
   ]
  },
  {
   "cell_type": "code",
   "execution_count": 15,
   "id": "c30631b7-46dc-48d3-b999-3f72b04694e8",
   "metadata": {
    "execution": {
     "iopub.execute_input": "2024-02-16T16:51:02.870344Z",
     "iopub.status.busy": "2024-02-16T16:51:02.870147Z",
     "iopub.status.idle": "2024-02-16T16:51:06.465565Z",
     "shell.execute_reply": "2024-02-16T16:51:06.464990Z",
     "shell.execute_reply.started": "2024-02-16T16:51:02.870331Z"
    }
   },
   "outputs": [
    {
     "name": "stdout",
     "output_type": "stream",
     "text": [
      "[Document(page_content='Prova disso é que no ano de 2019, o NAT atendeu diversas demandas de\\nbaixa, média e alta complexidade, em processos e/ou procedimentos judiciais e\\nextrajudiciais, além de dar suporte ao Grupo de Atuação Especial de Combate ao\\nCrime Organizado – GAECO na condução de operações importantes e de suas\\natividades diárias.'), Document(page_content='O Núcleo de Apoio Técnico (NAT) foi instituído no âmbito do Ministério\\nPúblico do Estado do Acre por meio do Ato n.º 25, de 13 de setembro de 2012, da\\nProcuradoria-Geral de Justiça, com o escopo de prestar apoio de inteligência e\\nsegurança institucional, técnico-científico e operacional, por meio de servidores\\nhabilitados em áreas de conhecimento específico, aos órgãos de execução e, em\\nespecial, ao Grupo de Atuação Especial no Combate ao Crime Organizado\\n(GAECO).'), Document(page_content='Posteriormente, o NAT foi regulado pela nova Lei Orgânica do Ministério\\nPúblico do Estado do Acre (Lei Complementar n.º 291, de 29 de dezembro de 2014),\\nsendo previsto como órgão administrativo auxiliar de apoio técnico especializado de\\nmembros e órgãos do Ministério Público, vinculado à Procuradoria Geral de Justiça.\\n\\nDesde a sua criação, o NAT vem se mostrando essencial para o\\ndesenvolvimento das atividades finalísticas da instituição.')]\n"
     ]
    }
   ],
   "source": [
    "query = 'O que é o NAT?'\n",
    "result = vector_store.similarity_search(query, k=3) # Retorna os 3 resultados mais similares\n",
    "print(result)"
   ]
  },
  {
   "cell_type": "code",
   "execution_count": 16,
   "id": "12505615-fc18-4139-9189-5cd9eea1f128",
   "metadata": {
    "execution": {
     "iopub.execute_input": "2024-02-16T16:51:07.639960Z",
     "iopub.status.busy": "2024-02-16T16:51:07.639686Z",
     "iopub.status.idle": "2024-02-16T16:51:07.642955Z",
     "shell.execute_reply": "2024-02-16T16:51:07.642630Z",
     "shell.execute_reply.started": "2024-02-16T16:51:07.639935Z"
    }
   },
   "outputs": [
    {
     "name": "stdout",
     "output_type": "stream",
     "text": [
      "Prova disso é que no ano de 2019, o NAT atendeu diversas demandas de\n",
      "baixa, média e alta complexidade, em processos e/ou procedimentos judiciais e\n",
      "extrajudiciais, além de dar suporte ao Grupo de Atuação Especial de Combate ao\n",
      "Crime Organizado – GAECO na condução de operações importantes e de suas\n",
      "atividades diárias.\n",
      "--------------------------------------------------\n",
      "O Núcleo de Apoio Técnico (NAT) foi instituído no âmbito do Ministério\n",
      "Público do Estado do Acre por meio do Ato n.º 25, de 13 de setembro de 2012, da\n",
      "Procuradoria-Geral de Justiça, com o escopo de prestar apoio de inteligência e\n",
      "segurança institucional, técnico-científico e operacional, por meio de servidores\n",
      "habilitados em áreas de conhecimento específico, aos órgãos de execução e, em\n",
      "especial, ao Grupo de Atuação Especial no Combate ao Crime Organizado\n",
      "(GAECO).\n",
      "--------------------------------------------------\n",
      "Posteriormente, o NAT foi regulado pela nova Lei Orgânica do Ministério\n",
      "Público do Estado do Acre (Lei Complementar n.º 291, de 29 de dezembro de 2014),\n",
      "sendo previsto como órgão administrativo auxiliar de apoio técnico especializado de\n",
      "membros e órgãos do Ministério Público, vinculado à Procuradoria Geral de Justiça.\n",
      "\n",
      "Desde a sua criação, o NAT vem se mostrando essencial para o\n",
      "desenvolvimento das atividades finalísticas da instituição.\n",
      "--------------------------------------------------\n"
     ]
    }
   ],
   "source": [
    "for r in result:\n",
    "    print(r.page_content)\n",
    "    print('-' * 50)"
   ]
  },
  {
   "cell_type": "markdown",
   "id": "b430f3c8-d72c-4a42-8697-4dcfd21b9e68",
   "metadata": {},
   "source": [
    "### Conversando com LLM sobre dados"
   ]
  },
  {
   "cell_type": "code",
   "execution_count": 17,
   "id": "38cd0c21-5e53-4d7f-bb8c-09f5abad35de",
   "metadata": {
    "execution": {
     "iopub.execute_input": "2024-02-16T16:51:13.169495Z",
     "iopub.status.busy": "2024-02-16T16:51:13.169333Z",
     "iopub.status.idle": "2024-02-16T16:51:13.798478Z",
     "shell.execute_reply": "2024-02-16T16:51:13.796638Z",
     "shell.execute_reply.started": "2024-02-16T16:51:13.169481Z"
    },
    "scrolled": true
   },
   "outputs": [
    {
     "name": "stderr",
     "output_type": "stream",
     "text": [
      "/linux-data/miniconda3/envs/linuxtips-llm/lib/python3.10/site-packages/huggingface_hub/utils/_deprecation.py:131: FutureWarning: 'InferenceApi' (from 'huggingface_hub.inference_api') is deprecated and will be removed from version '1.0'. `InferenceApi` client is deprecated in favor of the more feature-complete `InferenceClient`. Check out this guide to learn how to convert your script to use it: https://huggingface.co/docs/huggingface_hub/guides/inference#legacy-inferenceapi-client.\n",
      "  warnings.warn(warning_message, FutureWarning)\n"
     ]
    }
   ],
   "source": [
    "from langchain import HuggingFaceHub\n",
    "llm = HuggingFaceHub(\n",
    "    repo_id=\"mistralai/Mistral-7B-Instruct-v0.1\",\n",
    "    model_kwargs={\"temperature\":0.5, \"max_length\":2048},\n",
    ")"
   ]
  },
  {
   "cell_type": "code",
   "execution_count": 18,
   "id": "8501c329-a886-44c9-8cba-91df98c53695",
   "metadata": {
    "execution": {
     "iopub.execute_input": "2024-02-16T16:52:51.834686Z",
     "iopub.status.busy": "2024-02-16T16:52:51.833192Z",
     "iopub.status.idle": "2024-02-16T16:52:51.839427Z",
     "shell.execute_reply": "2024-02-16T16:52:51.838662Z",
     "shell.execute_reply.started": "2024-02-16T16:52:51.834627Z"
    }
   },
   "outputs": [],
   "source": [
    "retriever = vector_store.as_retriever(search_type='similarity', search_kwargs={'k':3})"
   ]
  },
  {
   "cell_type": "code",
   "execution_count": 19,
   "id": "6adf3065-ee26-4887-9184-538aee2e7978",
   "metadata": {
    "execution": {
     "iopub.execute_input": "2024-02-16T16:52:52.522460Z",
     "iopub.status.busy": "2024-02-16T16:52:52.521964Z",
     "iopub.status.idle": "2024-02-16T16:52:52.525157Z",
     "shell.execute_reply": "2024-02-16T16:52:52.524849Z",
     "shell.execute_reply.started": "2024-02-16T16:52:52.522448Z"
    }
   },
   "outputs": [],
   "source": [
    "chain = RetrievalQA.from_chain_type(llm=llm, chain_type='stuff', retriever=retriever)"
   ]
  },
  {
   "cell_type": "code",
   "execution_count": 26,
   "id": "6498e346-d876-446a-a528-0615108e5c13",
   "metadata": {
    "execution": {
     "iopub.execute_input": "2024-02-16T16:53:40.872197Z",
     "iopub.status.busy": "2024-02-16T16:53:40.870660Z",
     "iopub.status.idle": "2024-02-16T16:53:40.877443Z",
     "shell.execute_reply": "2024-02-16T16:53:40.876683Z",
     "shell.execute_reply.started": "2024-02-16T16:53:40.872128Z"
    }
   },
   "outputs": [],
   "source": [
    "# Prompt para evitar que o LLM invente algo caso não saiba a resposta e sempre responda em Português\n",
    "prompt1 = \"Responda em português do Brasil: \"\n",
    "prompt2 = \". Se não souber, useu seu conhecimento. Se não tiver conhecimento, diga apenas 'eu não sei'. Não invente uma resposta\""
   ]
  },
  {
   "cell_type": "code",
   "execution_count": 21,
   "id": "1fe252fa-3ce8-4054-9d95-df96d27d985c",
   "metadata": {
    "execution": {
     "iopub.execute_input": "2024-02-16T16:52:54.166469Z",
     "iopub.status.busy": "2024-02-16T16:52:54.166263Z",
     "iopub.status.idle": "2024-02-16T16:52:57.037672Z",
     "shell.execute_reply": "2024-02-16T16:52:57.035831Z",
     "shell.execute_reply.started": "2024-02-16T16:52:54.166455Z"
    }
   },
   "outputs": [
    {
     "name": "stdout",
     "output_type": "stream",
     "text": [
      " Resumidamente, o NAT é um núcleo de apoio técnico, que atende diversas demandas de baixa, média e alta complexidade, em processos e/ouprocedimentos judiciais e extrajudiciais, além de dar suporte ao Grupo de Atuaação Especial de Combate ao Crime Organizado – GAECO na condução de operações importantes e de suas atividades\n"
     ]
    }
   ],
   "source": [
    "pergunta = 'Resumidamente, o que é o NAT?'\n",
    "resp = chain.run(prompt1+pergunta+prompt2)\n",
    "print(resp)"
   ]
  },
  {
   "cell_type": "code",
   "execution_count": 22,
   "id": "9d33579b-11c8-4269-bb01-33d8936bea2c",
   "metadata": {
    "execution": {
     "iopub.execute_input": "2024-02-16T16:53:15.299829Z",
     "iopub.status.busy": "2024-02-16T16:53:15.299551Z",
     "iopub.status.idle": "2024-02-16T16:53:16.487808Z",
     "shell.execute_reply": "2024-02-16T16:53:16.486846Z",
     "shell.execute_reply.started": "2024-02-16T16:53:15.299804Z"
    }
   },
   "outputs": [
    {
     "name": "stdout",
     "output_type": "stream",
     "text": [
      " Marcela Cristina Ozório e Bernardo Fiterman Albano são os responsáveis pelo NAT.\n"
     ]
    }
   ],
   "source": [
    "pergunta = 'Quem são os responsáveis pelo NAT?'\n",
    "resp = chain.run(prompt1+pergunta+prompt2)\n",
    "print(resp)"
   ]
  },
  {
   "cell_type": "code",
   "execution_count": 23,
   "id": "628c8be8-5df4-4c6d-a7ed-9983b62b74a9",
   "metadata": {
    "execution": {
     "iopub.execute_input": "2024-02-16T16:53:20.486269Z",
     "iopub.status.busy": "2024-02-16T16:53:20.486110Z",
     "iopub.status.idle": "2024-02-16T16:53:21.662968Z",
     "shell.execute_reply": "2024-02-16T16:53:21.662476Z",
     "shell.execute_reply.started": "2024-02-16T16:53:20.486256Z"
    }
   },
   "outputs": [
    {
     "name": "stdout",
     "output_type": "stream",
     "text": [
      " O site do NAT é https://nat.mpac.mp.br.\n"
     ]
    }
   ],
   "source": [
    "pergunta = 'Qual o site do NAT?'\n",
    "resp = chain.run(prompt1+pergunta+prompt2)\n",
    "print(resp)"
   ]
  },
  {
   "cell_type": "code",
   "execution_count": 28,
   "id": "f29eb8a4-bb7e-4ee7-b98d-70903a550a06",
   "metadata": {
    "execution": {
     "iopub.execute_input": "2024-02-16T16:53:54.898098Z",
     "iopub.status.busy": "2024-02-16T16:53:54.897509Z",
     "iopub.status.idle": "2024-02-16T16:53:57.215189Z",
     "shell.execute_reply": "2024-02-16T16:53:57.213671Z",
     "shell.execute_reply.started": "2024-02-16T16:53:54.898045Z"
    }
   },
   "outputs": [
    {
     "name": "stdout",
     "output_type": "stream",
     "text": [
      " As atividades do NAT são diversas e incluem atendimento a demandas de baixa, média e alta complexidade, em processos e/ou procedimentos judiciais e extrajudiciais, além de dar suporte ao Grupo de Atuação Especial de Combate ao Crime Organizado – GAECO na condução de operações importantes e de suas atividades diárias.\n"
     ]
    }
   ],
   "source": [
    "pergunta = 'Quais são as atividades do NAT?'\n",
    "resp = chain.run(prompt1+pergunta+prompt2)\n",
    "print(resp)"
   ]
  },
  {
   "cell_type": "code",
   "execution_count": 29,
   "id": "f7f28d50-7519-4e6f-aa82-f9ddac98ba65",
   "metadata": {
    "execution": {
     "iopub.execute_input": "2024-02-16T16:55:45.547835Z",
     "iopub.status.busy": "2024-02-16T16:55:45.547508Z",
     "iopub.status.idle": "2024-02-16T16:55:48.445814Z",
     "shell.execute_reply": "2024-02-16T16:55:48.444280Z",
     "shell.execute_reply.started": "2024-02-16T16:55:45.547807Z"
    }
   },
   "outputs": [
    {
     "name": "stdout",
     "output_type": "stream",
     "text": [
      " O NAT foi instituído no âmbito do Ministério Público do Estado do Acre por meio do Ato n.º 25, de 13 de setembro de 2012.\n"
     ]
    }
   ],
   "source": [
    "pergunta = 'Quando e onde o NAT foi instituído?'\n",
    "resp = chain.run(prompt1+pergunta+prompt2)\n",
    "print(resp)"
   ]
  }
 ],
 "metadata": {
  "kernelspec": {
   "display_name": "cuda",
   "language": "python",
   "name": "cuda"
  },
  "language_info": {
   "codemirror_mode": {
    "name": "ipython",
    "version": 3
   },
   "file_extension": ".py",
   "mimetype": "text/x-python",
   "name": "python",
   "nbconvert_exporter": "python",
   "pygments_lexer": "ipython3",
   "version": "3.10.13"
  }
 },
 "nbformat": 4,
 "nbformat_minor": 5
}
