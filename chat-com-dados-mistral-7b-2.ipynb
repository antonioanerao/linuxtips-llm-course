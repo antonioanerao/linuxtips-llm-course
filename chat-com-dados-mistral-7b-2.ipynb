{
 "cells": [
  {
   "cell_type": "code",
   "execution_count": 1,
   "id": "ccd8fdd7-e0ff-4b98-b919-cd22b6bc1923",
   "metadata": {
    "execution": {
     "iopub.execute_input": "2024-02-17T03:38:47.418321Z",
     "iopub.status.busy": "2024-02-17T03:38:47.416950Z",
     "iopub.status.idle": "2024-02-17T03:38:49.031156Z",
     "shell.execute_reply": "2024-02-17T03:38:49.030591Z",
     "shell.execute_reply.started": "2024-02-17T03:38:47.418234Z"
    }
   },
   "outputs": [],
   "source": [
    "import torch\n",
    "import os\n",
    "import numpy as np\n",
    "from dotenv import load_dotenv\n",
    "from pinecone import Pinecone, PodSpec\n",
    "from langchain.vectorstores import Pinecone as PineconeStore\n",
    "from langchain.text_splitter import RecursiveCharacterTextSplitter\n",
    "from langchain.chains import RetrievalQA\n",
    "from sentence_transformers import SentenceTransformer\n",
    "from sentence_transformers import SentenceTransformer"
   ]
  },
  {
   "cell_type": "code",
   "execution_count": 2,
   "id": "2d14191b-393f-43bb-9e5f-37a0240bc493",
   "metadata": {
    "execution": {
     "iopub.execute_input": "2024-02-17T03:38:50.142980Z",
     "iopub.status.busy": "2024-02-17T03:38:50.142748Z",
     "iopub.status.idle": "2024-02-17T03:38:50.147144Z",
     "shell.execute_reply": "2024-02-17T03:38:50.146848Z",
     "shell.execute_reply.started": "2024-02-17T03:38:50.142966Z"
    }
   },
   "outputs": [
    {
     "data": {
      "text/plain": [
       "True"
      ]
     },
     "execution_count": 2,
     "metadata": {},
     "output_type": "execute_result"
    }
   ],
   "source": [
    "cache_dir=\"cache_dir\"\n",
    "load_dotenv('./.env')"
   ]
  },
  {
   "cell_type": "markdown",
   "id": "167eb948-647b-4c49-9fe1-6a8f2845b024",
   "metadata": {},
   "source": [
    "#### Leitura do arquivo e criação do splitter'"
   ]
  },
  {
   "cell_type": "code",
   "execution_count": 3,
   "id": "7a1cafe3-f4a4-4ef0-8ed9-ac39e3accd72",
   "metadata": {
    "execution": {
     "iopub.execute_input": "2024-02-17T03:38:51.568855Z",
     "iopub.status.busy": "2024-02-17T03:38:51.568664Z",
     "iopub.status.idle": "2024-02-17T03:38:51.572112Z",
     "shell.execute_reply": "2024-02-17T03:38:51.571737Z",
     "shell.execute_reply.started": "2024-02-17T03:38:51.568840Z"
    }
   },
   "outputs": [],
   "source": [
    "with open('docs/nat.txt') as f:\n",
    "    clt = f.read()\n",
    "\n",
    "# Criação de um objeto RecursiveCharacterTextSplitter para dividir o texto em pedaços\n",
    "text_splitter = RecursiveCharacterTextSplitter(\n",
    "    chunk_size=500,\n",
    "    chunk_overlap=10,\n",
    "    length_function=len\n",
    ")"
   ]
  },
  {
   "cell_type": "code",
   "execution_count": 4,
   "id": "5ad2f45e-6475-4e0b-8ad9-7b7fb0a9d8df",
   "metadata": {
    "execution": {
     "iopub.execute_input": "2024-02-17T03:38:52.648543Z",
     "iopub.status.busy": "2024-02-17T03:38:52.648332Z",
     "iopub.status.idle": "2024-02-17T03:38:52.652105Z",
     "shell.execute_reply": "2024-02-17T03:38:52.651571Z",
     "shell.execute_reply.started": "2024-02-17T03:38:52.648526Z"
    },
    "scrolled": true
   },
   "outputs": [],
   "source": [
    "chunks = text_splitter.create_documents([clt])\n",
    "text_chunks = [doc.page_content for doc in chunks]"
   ]
  },
  {
   "cell_type": "code",
   "execution_count": 5,
   "id": "d53798a5-5317-4fbc-ae1b-e06eca25e039",
   "metadata": {
    "execution": {
     "iopub.execute_input": "2024-02-17T03:38:53.389680Z",
     "iopub.status.busy": "2024-02-17T03:38:53.389462Z",
     "iopub.status.idle": "2024-02-17T03:38:54.132447Z",
     "shell.execute_reply": "2024-02-17T03:38:54.131950Z",
     "shell.execute_reply.started": "2024-02-17T03:38:53.389668Z"
    }
   },
   "outputs": [
    {
     "name": "stdout",
     "output_type": "stream",
     "text": [
      "(1536,)\n"
     ]
    }
   ],
   "source": [
    "# Inicialize o modelo de embedding\n",
    "model = SentenceTransformer('all-MiniLM-L6-v2')\n",
    "\n",
    "# Isso retornará uma lista de vetores\n",
    "embeddings = model.encode(text_chunks, convert_to_tensor=False)  \n",
    "\n",
    "# Adiciona zeros para estender cada vetor até a dimensão 1536\n",
    "extended_embeddings = np.array([np.pad(emb, (0, 1536 - len(emb)), 'constant') for emb in embeddings])\n",
    "print(extended_embeddings[0].shape)"
   ]
  },
  {
   "cell_type": "code",
   "execution_count": 6,
   "id": "e1356940-9eb5-44fb-8ad0-e8ad77f1db06",
   "metadata": {
    "execution": {
     "iopub.execute_input": "2024-02-17T03:38:54.906139Z",
     "iopub.status.busy": "2024-02-17T03:38:54.905349Z",
     "iopub.status.idle": "2024-02-17T03:38:55.370795Z",
     "shell.execute_reply": "2024-02-17T03:38:55.368476Z",
     "shell.execute_reply.started": "2024-02-17T03:38:54.906102Z"
    }
   },
   "outputs": [],
   "source": [
    "pc = Pinecone(api_key=os.environ.get('PINECONE_API_KEY'))\n",
    "indexes = pc.list_indexes()\n",
    "index_name = 'natgpt'"
   ]
  },
  {
   "cell_type": "code",
   "execution_count": 7,
   "id": "24984a1b-802a-4b6a-9503-754eb0d1c75d",
   "metadata": {
    "execution": {
     "iopub.execute_input": "2024-02-17T03:38:56.991101Z",
     "iopub.status.busy": "2024-02-17T03:38:56.990522Z",
     "iopub.status.idle": "2024-02-17T03:39:08.800342Z",
     "shell.execute_reply": "2024-02-17T03:39:08.798450Z",
     "shell.execute_reply.started": "2024-02-17T03:38:56.991054Z"
    }
   },
   "outputs": [
    {
     "name": "stdout",
     "output_type": "stream",
     "text": [
      "Index encontrada e apagada: natgpt\n",
      "Index natgpt criado\n"
     ]
    }
   ],
   "source": [
    "for i in indexes:\n",
    "    pc.delete_index(i['name'])\n",
    "    print('Index encontrada e apagada: ' + i['name'])\n",
    "\n",
    "if index_name not in pc.list_indexes():\n",
    "    pc.create_index(index_name, dimension=1536, metric='cosine', spec=PodSpec(environment=os.environ.get('PINECONE_ENV')))\n",
    "    print('Index '+index_name+' criado')"
   ]
  },
  {
   "cell_type": "code",
   "execution_count": 8,
   "id": "4c997369-fac0-4109-bbd6-560b3f81394d",
   "metadata": {
    "execution": {
     "iopub.execute_input": "2024-02-17T03:39:14.539822Z",
     "iopub.status.busy": "2024-02-17T03:39:14.539233Z",
     "iopub.status.idle": "2024-02-17T03:39:14.761165Z",
     "shell.execute_reply": "2024-02-17T03:39:14.760388Z",
     "shell.execute_reply.started": "2024-02-17T03:39:14.539775Z"
    }
   },
   "outputs": [],
   "source": [
    "# Conecta na index criada\n",
    "pc_index = pc.Index(index_name)"
   ]
  },
  {
   "cell_type": "code",
   "execution_count": 9,
   "id": "123deabf-4206-4bdc-aa29-eb884a6e3a30",
   "metadata": {
    "execution": {
     "iopub.execute_input": "2024-02-17T03:39:46.837893Z",
     "iopub.status.busy": "2024-02-17T03:39:46.837723Z",
     "iopub.status.idle": "2024-02-17T03:39:46.840631Z",
     "shell.execute_reply": "2024-02-17T03:39:46.840297Z",
     "shell.execute_reply.started": "2024-02-17T03:39:46.837880Z"
    },
    "scrolled": true
   },
   "outputs": [],
   "source": [
    "documents_to_insert = []\n",
    "for i, embedding in enumerate(extended_embeddings):\n",
    "    doc_id = f\"{i}\"\n",
    "    documents_to_insert.append({\"id\": doc_id, \"values\": embedding.tolist()})"
   ]
  },
  {
   "cell_type": "code",
   "execution_count": 10,
   "id": "147f56bc-ca9e-4bdd-8270-3f9e275c22cf",
   "metadata": {
    "execution": {
     "iopub.execute_input": "2024-02-17T03:39:48.735053Z",
     "iopub.status.busy": "2024-02-17T03:39:48.734339Z",
     "iopub.status.idle": "2024-02-17T03:39:49.613430Z",
     "shell.execute_reply": "2024-02-17T03:39:49.611790Z",
     "shell.execute_reply.started": "2024-02-17T03:39:48.735032Z"
    },
    "scrolled": true
   },
   "outputs": [
    {
     "data": {
      "text/plain": [
       "{'upserted_count': 9}"
      ]
     },
     "execution_count": 10,
     "metadata": {},
     "output_type": "execute_result"
    }
   ],
   "source": [
    "# Insere os documentos na index do Pinecone\n",
    "pc_index.upsert(vectors=documents_to_insert)"
   ]
  },
  {
   "cell_type": "markdown",
   "id": "6f37e5b5-e7a1-419c-9ddf-b10e90225304",
   "metadata": {},
   "source": [
    "### Busca por similaridade"
   ]
  },
  {
   "cell_type": "code",
   "execution_count": 11,
   "id": "fd628262-5b1d-40d1-b2d6-5e35c257d0a1",
   "metadata": {
    "execution": {
     "iopub.execute_input": "2024-02-17T03:40:43.350409Z",
     "iopub.status.busy": "2024-02-17T03:40:43.349883Z",
     "iopub.status.idle": "2024-02-17T03:40:43.525260Z",
     "shell.execute_reply": "2024-02-17T03:40:43.524549Z",
     "shell.execute_reply.started": "2024-02-17T03:40:43.350369Z"
    },
    "scrolled": true
   },
   "outputs": [
    {
     "name": "stdout",
     "output_type": "stream",
     "text": [
      "(1536,)\n"
     ]
    }
   ],
   "source": [
    "# SentenceTransformer para gerar o embedding\n",
    "from sentence_transformers import SentenceTransformer\n",
    "model = SentenceTransformer('all-MiniLM-L6-v2')\n",
    "\n",
    "# Texto para consulta\n",
    "query_text = \"Site do NAT\"\n",
    "\n",
    "# Gerando o vetor de consulta\n",
    "query_vector = model.encode(query_text, convert_to_tensor=False)\n",
    "\n",
    "# Adiciona zeros para estender cada vetor até a dimensão 1536\n",
    "padding_length = 1536 - len(query_vector)\n",
    "padded_vector = np.pad(query_vector, (0, padding_length), 'constant')\n",
    "print(padded_vector.shape)"
   ]
  },
  {
   "cell_type": "code",
   "execution_count": 12,
   "id": "1b6c1ef5-ce80-4a77-bba1-a627fbc621b9",
   "metadata": {
    "execution": {
     "iopub.execute_input": "2024-02-17T03:40:45.008804Z",
     "iopub.status.busy": "2024-02-17T03:40:45.008613Z",
     "iopub.status.idle": "2024-02-17T03:40:45.313718Z",
     "shell.execute_reply": "2024-02-17T03:40:45.311803Z",
     "shell.execute_reply.started": "2024-02-17T03:40:45.008793Z"
    }
   },
   "outputs": [
    {
     "name": "stdout",
     "output_type": "stream",
     "text": [
      "Query Text Searched: Site do NAT\n",
      "ID: 8\n",
      "Score: 0.607957661\n",
      "Text Value: O acesso para registro e acompanhamento de pedidos de apoio ao NAT pode\n",
      "ser feito por meio do endereço: https://sigep.mpac.mp.br\n",
      "\n",
      "\n",
      "Site do NAT: https://nat.mpac.mp.br\n",
      "--------------------------------------------------\n",
      "ID: 3\n",
      "Score: 0.450263083\n",
      "Text Value: Posteriormente, o NAT foi regulado pela nova Lei Orgânica do Ministério\n",
      "Público do Estado do Acre (Lei Complementar n.º 291, de 29 de dezembro de 2014),\n",
      "sendo previsto como órgão administrativo auxiliar de apoio técnico especializado de\n",
      "membros e órgãos do Ministério Público, vinculado à Procuradoria Geral de Justiça.\n",
      "\n",
      "Desde a sua criação, o NAT vem se mostrando essencial para o\n",
      "desenvolvimento das atividades finalísticas da instituição.\n",
      "--------------------------------------------------\n",
      "ID: 6\n",
      "Score: 0.442850739\n",
      "Text Value: O gerenciamento dos pedidos de apoio feitos ao NAT se dá pelo sistema\n",
      "SIGEP (Sistema de Gerenciamento Eletrônico de Documentos), que consiste em\n",
      "uma ferramenta destinada ao controle da tramitação em base digital de documentos\n",
      "e pedidos de apoio que aportam no NAT, além de prever a possibilidade de\n",
      "acompanhamento dos projetos e metas elencadas pelo núcleo como sendo\n",
      "prioritários para implementação.\n",
      "--------------------------------------------------\n"
     ]
    }
   ],
   "source": [
    "# Convertendo o vetor numpy para lista (caso ainda não esteja em formato de lista)\n",
    "query_vector_list = padded_vector.tolist()\n",
    "query_result = pc_index.query(vector=query_vector_list, top_k=3)\n",
    "\n",
    "print(\"Query Text Searched: \" + query_text)\n",
    "for index, match in enumerate(query_result.matches):\n",
    "    print(\"ID: \" + match.id)\n",
    "    print(\"Score: \" + str(query_result.matches[index]['score']))\n",
    "    print(\"Text Value: \" + text_chunks[int(match.id)])\n",
    "    print('-' * 50)"
   ]
  },
  {
   "cell_type": "code",
   "execution_count": null,
   "id": "75a36cba-2473-47b1-93ac-fd7bca3595e4",
   "metadata": {},
   "outputs": [],
   "source": [
    "\n"
   ]
  }
 ],
 "metadata": {
  "kernelspec": {
   "display_name": "cuda",
   "language": "python",
   "name": "cuda"
  },
  "language_info": {
   "codemirror_mode": {
    "name": "ipython",
    "version": 3
   },
   "file_extension": ".py",
   "mimetype": "text/x-python",
   "name": "python",
   "nbconvert_exporter": "python",
   "pygments_lexer": "ipython3",
   "version": "3.10.13"
  }
 },
 "nbformat": 4,
 "nbformat_minor": 5
}
